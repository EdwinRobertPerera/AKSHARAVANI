{
 "cells": [
  {
   "cell_type": "code",
   "execution_count": 1,
   "metadata": {},
   "outputs": [],
   "source": [
    "import csv\n",
    "\n",
    "import numpy as np\n",
    "import tensorflow as tf\n",
    "from sklearn.model_selection import train_test_split\n",
    "\n",
    "RANDOM_SEED = 42"
   ]
  },
  {
   "cell_type": "markdown",
   "metadata": {},
   "source": [
    "# 各パス指定"
   ]
  },
  {
   "cell_type": "code",
   "execution_count": 2,
   "metadata": {},
   "outputs": [],
   "source": [
    "dataset = 'model/point_history_classifier/point_history.csv'\n",
    "model_save_path = 'model/point_history_classifier/point_history_classifier.h5'"
   ]
  },
  {
   "cell_type": "markdown",
   "metadata": {},
   "source": [
    "# 分類数設定"
   ]
  },
  {
   "cell_type": "code",
   "execution_count": 3,
   "metadata": {},
   "outputs": [],
   "source": [
    "NUM_CLASSES = 4"
   ]
  },
  {
   "cell_type": "markdown",
   "metadata": {},
   "source": [
    "# 入力長"
   ]
  },
  {
   "cell_type": "code",
   "execution_count": 4,
   "metadata": {},
   "outputs": [],
   "source": [
    "TIME_STEPS = 16\n",
    "DIMENSION = 2"
   ]
  },
  {
   "cell_type": "markdown",
   "metadata": {},
   "source": [
    "# 学習データ読み込み"
   ]
  },
  {
   "cell_type": "code",
   "execution_count": 5,
   "metadata": {},
   "outputs": [],
   "source": [
    "X_dataset = np.loadtxt(dataset, delimiter=',', dtype='float32', usecols=list(range(1, (TIME_STEPS * DIMENSION) + 1)))"
   ]
  },
  {
   "cell_type": "code",
   "execution_count": 6,
   "metadata": {},
   "outputs": [],
   "source": [
    "y_dataset = np.loadtxt(dataset, delimiter=',', dtype='int32', usecols=(0))"
   ]
  },
  {
   "cell_type": "code",
   "execution_count": 7,
   "metadata": {},
   "outputs": [],
   "source": [
    "X_train, X_test, y_train, y_test = train_test_split(X_dataset, y_dataset, train_size=0.75, random_state=RANDOM_SEED)"
   ]
  },
  {
   "cell_type": "markdown",
   "metadata": {},
   "source": [
    "# モデル構築"
   ]
  },
  {
   "cell_type": "code",
   "execution_count": 8,
   "metadata": {},
   "outputs": [
    {
     "name": "stderr",
     "output_type": "stream",
     "text": [
      "C:\\Users\\edwin\\AppData\\Local\\Programs\\Python\\Python310\\lib\\site-packages\\keras\\src\\layers\\core\\input_layer.py:27: UserWarning: Argument `input_shape` is deprecated. Use `shape` instead.\n",
      "  warnings.warn(\n"
     ]
    }
   ],
   "source": [
    "use_lstm = False\n",
    "model = None\n",
    "\n",
    "if use_lstm:\n",
    "    model = tf.keras.models.Sequential([\n",
    "        tf.keras.layers.InputLayer(input_shape=(TIME_STEPS * DIMENSION, )),\n",
    "        tf.keras.layers.Reshape((TIME_STEPS, DIMENSION), input_shape=(TIME_STEPS * DIMENSION, )), \n",
    "        tf.keras.layers.Dropout(0.2),\n",
    "        tf.keras.layers.LSTM(16, input_shape=[TIME_STEPS, DIMENSION]),\n",
    "        tf.keras.layers.Dropout(0.5),\n",
    "        tf.keras.layers.Dense(10, activation='relu'),\n",
    "        tf.keras.layers.Dense(NUM_CLASSES, activation='softmax')\n",
    "    ])\n",
    "else:\n",
    "    model = tf.keras.models.Sequential([\n",
    "        tf.keras.layers.InputLayer(input_shape=(TIME_STEPS * DIMENSION, )),\n",
    "        tf.keras.layers.Dropout(0.2),\n",
    "        tf.keras.layers.Dense(24, activation='relu'),\n",
    "        tf.keras.layers.Dropout(0.5),\n",
    "        tf.keras.layers.Dense(10, activation='relu'),\n",
    "        tf.keras.layers.Dense(NUM_CLASSES, activation='softmax')\n",
    "    ])"
   ]
  },
  {
   "cell_type": "code",
   "execution_count": 9,
   "metadata": {},
   "outputs": [
    {
     "data": {
      "text/html": [
       "<pre style=\"white-space:pre;overflow-x:auto;line-height:normal;font-family:Menlo,'DejaVu Sans Mono',consolas,'Courier New',monospace\"><span style=\"font-weight: bold\">Model: \"sequential\"</span>\n",
       "</pre>\n"
      ],
      "text/plain": [
       "\u001b[1mModel: \"sequential\"\u001b[0m\n"
      ]
     },
     "metadata": {},
     "output_type": "display_data"
    },
    {
     "data": {
      "text/html": [
       "<pre style=\"white-space:pre;overflow-x:auto;line-height:normal;font-family:Menlo,'DejaVu Sans Mono',consolas,'Courier New',monospace\">┏━━━━━━━━━━━━━━━━━━━━━━━━━━━━━━━━━━━━━━┳━━━━━━━━━━━━━━━━━━━━━━━━━━━━━┳━━━━━━━━━━━━━━━━━┓\n",
       "┃<span style=\"font-weight: bold\"> Layer (type)                         </span>┃<span style=\"font-weight: bold\"> Output Shape                </span>┃<span style=\"font-weight: bold\">         Param # </span>┃\n",
       "┡━━━━━━━━━━━━━━━━━━━━━━━━━━━━━━━━━━━━━━╇━━━━━━━━━━━━━━━━━━━━━━━━━━━━━╇━━━━━━━━━━━━━━━━━┩\n",
       "│ dropout (<span style=\"color: #0087ff; text-decoration-color: #0087ff\">Dropout</span>)                    │ (<span style=\"color: #00d7ff; text-decoration-color: #00d7ff\">None</span>, <span style=\"color: #00af00; text-decoration-color: #00af00\">32</span>)                  │               <span style=\"color: #00af00; text-decoration-color: #00af00\">0</span> │\n",
       "├──────────────────────────────────────┼─────────────────────────────┼─────────────────┤\n",
       "│ dense (<span style=\"color: #0087ff; text-decoration-color: #0087ff\">Dense</span>)                        │ (<span style=\"color: #00d7ff; text-decoration-color: #00d7ff\">None</span>, <span style=\"color: #00af00; text-decoration-color: #00af00\">24</span>)                  │             <span style=\"color: #00af00; text-decoration-color: #00af00\">792</span> │\n",
       "├──────────────────────────────────────┼─────────────────────────────┼─────────────────┤\n",
       "│ dropout_1 (<span style=\"color: #0087ff; text-decoration-color: #0087ff\">Dropout</span>)                  │ (<span style=\"color: #00d7ff; text-decoration-color: #00d7ff\">None</span>, <span style=\"color: #00af00; text-decoration-color: #00af00\">24</span>)                  │               <span style=\"color: #00af00; text-decoration-color: #00af00\">0</span> │\n",
       "├──────────────────────────────────────┼─────────────────────────────┼─────────────────┤\n",
       "│ dense_1 (<span style=\"color: #0087ff; text-decoration-color: #0087ff\">Dense</span>)                      │ (<span style=\"color: #00d7ff; text-decoration-color: #00d7ff\">None</span>, <span style=\"color: #00af00; text-decoration-color: #00af00\">10</span>)                  │             <span style=\"color: #00af00; text-decoration-color: #00af00\">250</span> │\n",
       "├──────────────────────────────────────┼─────────────────────────────┼─────────────────┤\n",
       "│ dense_2 (<span style=\"color: #0087ff; text-decoration-color: #0087ff\">Dense</span>)                      │ (<span style=\"color: #00d7ff; text-decoration-color: #00d7ff\">None</span>, <span style=\"color: #00af00; text-decoration-color: #00af00\">4</span>)                   │              <span style=\"color: #00af00; text-decoration-color: #00af00\">44</span> │\n",
       "└──────────────────────────────────────┴─────────────────────────────┴─────────────────┘\n",
       "</pre>\n"
      ],
      "text/plain": [
       "┏━━━━━━━━━━━━━━━━━━━━━━━━━━━━━━━━━━━━━━┳━━━━━━━━━━━━━━━━━━━━━━━━━━━━━┳━━━━━━━━━━━━━━━━━┓\n",
       "┃\u001b[1m \u001b[0m\u001b[1mLayer (type)                        \u001b[0m\u001b[1m \u001b[0m┃\u001b[1m \u001b[0m\u001b[1mOutput Shape               \u001b[0m\u001b[1m \u001b[0m┃\u001b[1m \u001b[0m\u001b[1m        Param #\u001b[0m\u001b[1m \u001b[0m┃\n",
       "┡━━━━━━━━━━━━━━━━━━━━━━━━━━━━━━━━━━━━━━╇━━━━━━━━━━━━━━━━━━━━━━━━━━━━━╇━━━━━━━━━━━━━━━━━┩\n",
       "│ dropout (\u001b[38;5;33mDropout\u001b[0m)                    │ (\u001b[38;5;45mNone\u001b[0m, \u001b[38;5;34m32\u001b[0m)                  │               \u001b[38;5;34m0\u001b[0m │\n",
       "├──────────────────────────────────────┼─────────────────────────────┼─────────────────┤\n",
       "│ dense (\u001b[38;5;33mDense\u001b[0m)                        │ (\u001b[38;5;45mNone\u001b[0m, \u001b[38;5;34m24\u001b[0m)                  │             \u001b[38;5;34m792\u001b[0m │\n",
       "├──────────────────────────────────────┼─────────────────────────────┼─────────────────┤\n",
       "│ dropout_1 (\u001b[38;5;33mDropout\u001b[0m)                  │ (\u001b[38;5;45mNone\u001b[0m, \u001b[38;5;34m24\u001b[0m)                  │               \u001b[38;5;34m0\u001b[0m │\n",
       "├──────────────────────────────────────┼─────────────────────────────┼─────────────────┤\n",
       "│ dense_1 (\u001b[38;5;33mDense\u001b[0m)                      │ (\u001b[38;5;45mNone\u001b[0m, \u001b[38;5;34m10\u001b[0m)                  │             \u001b[38;5;34m250\u001b[0m │\n",
       "├──────────────────────────────────────┼─────────────────────────────┼─────────────────┤\n",
       "│ dense_2 (\u001b[38;5;33mDense\u001b[0m)                      │ (\u001b[38;5;45mNone\u001b[0m, \u001b[38;5;34m4\u001b[0m)                   │              \u001b[38;5;34m44\u001b[0m │\n",
       "└──────────────────────────────────────┴─────────────────────────────┴─────────────────┘\n"
      ]
     },
     "metadata": {},
     "output_type": "display_data"
    },
    {
     "data": {
      "text/html": [
       "<pre style=\"white-space:pre;overflow-x:auto;line-height:normal;font-family:Menlo,'DejaVu Sans Mono',consolas,'Courier New',monospace\"><span style=\"font-weight: bold\"> Total params: </span><span style=\"color: #00af00; text-decoration-color: #00af00\">1,086</span> (4.24 KB)\n",
       "</pre>\n"
      ],
      "text/plain": [
       "\u001b[1m Total params: \u001b[0m\u001b[38;5;34m1,086\u001b[0m (4.24 KB)\n"
      ]
     },
     "metadata": {},
     "output_type": "display_data"
    },
    {
     "data": {
      "text/html": [
       "<pre style=\"white-space:pre;overflow-x:auto;line-height:normal;font-family:Menlo,'DejaVu Sans Mono',consolas,'Courier New',monospace\"><span style=\"font-weight: bold\"> Trainable params: </span><span style=\"color: #00af00; text-decoration-color: #00af00\">1,086</span> (4.24 KB)\n",
       "</pre>\n"
      ],
      "text/plain": [
       "\u001b[1m Trainable params: \u001b[0m\u001b[38;5;34m1,086\u001b[0m (4.24 KB)\n"
      ]
     },
     "metadata": {},
     "output_type": "display_data"
    },
    {
     "data": {
      "text/html": [
       "<pre style=\"white-space:pre;overflow-x:auto;line-height:normal;font-family:Menlo,'DejaVu Sans Mono',consolas,'Courier New',monospace\"><span style=\"font-weight: bold\"> Non-trainable params: </span><span style=\"color: #00af00; text-decoration-color: #00af00\">0</span> (0.00 B)\n",
       "</pre>\n"
      ],
      "text/plain": [
       "\u001b[1m Non-trainable params: \u001b[0m\u001b[38;5;34m0\u001b[0m (0.00 B)\n"
      ]
     },
     "metadata": {},
     "output_type": "display_data"
    }
   ],
   "source": [
    "model.summary()  # tf.keras.utils.plot_model(model, show_shapes=True)"
   ]
  },
  {
   "cell_type": "code",
   "execution_count": 10,
   "metadata": {},
   "outputs": [],
   "source": [
    "# モデルチェックポイントのコールバック\n",
    "cp_callback = tf.keras.callbacks.ModelCheckpoint(\n",
    "    model_save_path, verbose=1, save_weights_only=False)\n",
    "# 早期打ち切り用コールバック\n",
    "es_callback = tf.keras.callbacks.EarlyStopping(patience=20, verbose=1)"
   ]
  },
  {
   "cell_type": "code",
   "execution_count": 11,
   "metadata": {},
   "outputs": [],
   "source": [
    "# モデルコンパイル\n",
    "model.compile(\n",
    "    optimizer='adam',\n",
    "    loss='sparse_categorical_crossentropy',\n",
    "    metrics=['accuracy']\n",
    ")"
   ]
  },
  {
   "cell_type": "markdown",
   "metadata": {},
   "source": [
    "# モデル訓練"
   ]
  },
  {
   "cell_type": "code",
   "execution_count": 12,
   "metadata": {
    "scrolled": true
   },
   "outputs": [
    {
     "name": "stdout",
     "output_type": "stream",
     "text": [
      "Epoch 1/1000\n",
      "\u001b[1m20/32\u001b[0m \u001b[32m━━━━━━━━━━━━\u001b[0m\u001b[37m━━━━━━━━\u001b[0m \u001b[1m0s\u001b[0m 3ms/step - accuracy: 0.2557 - loss: 1.4095\n",
      "Epoch 1: saving model to model/point_history_classifier/point_history_classifier.h5\n"
     ]
    },
    {
     "name": "stderr",
     "output_type": "stream",
     "text": [
      "WARNING:absl:You are saving your model as an HDF5 file via `model.save()` or `keras.saving.save_model(model)`. This file format is considered legacy. We recommend using instead the native Keras format, e.g. `model.save('my_model.keras')` or `keras.saving.save_model(model, 'my_model.keras')`. \n"
     ]
    },
    {
     "name": "stdout",
     "output_type": "stream",
     "text": [
      "\u001b[1m32/32\u001b[0m \u001b[32m━━━━━━━━━━━━━━━━━━━━\u001b[0m\u001b[37m\u001b[0m \u001b[1m2s\u001b[0m 16ms/step - accuracy: 0.2574 - loss: 1.4080 - val_accuracy: 0.5385 - val_loss: 1.3797\n",
      "Epoch 2/1000\n",
      "\u001b[1m19/32\u001b[0m \u001b[32m━━━━━━━━━━━\u001b[0m\u001b[37m━━━━━━━━━\u001b[0m \u001b[1m0s\u001b[0m 3ms/step - accuracy: 0.4957 - loss: 1.3899 \n",
      "Epoch 2: saving model to model/point_history_classifier/point_history_classifier.h5\n"
     ]
    },
    {
     "name": "stderr",
     "output_type": "stream",
     "text": [
      "WARNING:absl:You are saving your model as an HDF5 file via `model.save()` or `keras.saving.save_model(model)`. This file format is considered legacy. We recommend using instead the native Keras format, e.g. `model.save('my_model.keras')` or `keras.saving.save_model(model, 'my_model.keras')`. \n"
     ]
    },
    {
     "name": "stdout",
     "output_type": "stream",
     "text": [
      "\u001b[1m32/32\u001b[0m \u001b[32m━━━━━━━━━━━━━━━━━━━━\u001b[0m\u001b[37m\u001b[0m \u001b[1m0s\u001b[0m 10ms/step - accuracy: 0.4954 - loss: 1.3878 - val_accuracy: 0.5211 - val_loss: 1.3693\n",
      "Epoch 3/1000\n",
      "\u001b[1m20/32\u001b[0m \u001b[32m━━━━━━━━━━━━\u001b[0m\u001b[37m━━━━━━━━\u001b[0m \u001b[1m0s\u001b[0m 3ms/step - accuracy: 0.4935 - loss: 1.3747 \n",
      "Epoch 3: saving model to model/point_history_classifier/point_history_classifier.h5\n"
     ]
    },
    {
     "name": "stderr",
     "output_type": "stream",
     "text": [
      "WARNING:absl:You are saving your model as an HDF5 file via `model.save()` or `keras.saving.save_model(model)`. This file format is considered legacy. We recommend using instead the native Keras format, e.g. `model.save('my_model.keras')` or `keras.saving.save_model(model, 'my_model.keras')`. \n"
     ]
    },
    {
     "name": "stdout",
     "output_type": "stream",
     "text": [
      "\u001b[1m32/32\u001b[0m \u001b[32m━━━━━━━━━━━━━━━━━━━━\u001b[0m\u001b[37m\u001b[0m \u001b[1m0s\u001b[0m 8ms/step - accuracy: 0.4968 - loss: 1.3739 - val_accuracy: 0.5166 - val_loss: 1.3586\n",
      "Epoch 4/1000\n",
      "\u001b[1m20/32\u001b[0m \u001b[32m━━━━━━━━━━━━\u001b[0m\u001b[37m━━━━━━━━\u001b[0m \u001b[1m0s\u001b[0m 3ms/step - accuracy: 0.4978 - loss: 1.3638 \n",
      "Epoch 4: saving model to model/point_history_classifier/point_history_classifier.h5\n"
     ]
    },
    {
     "name": "stderr",
     "output_type": "stream",
     "text": [
      "WARNING:absl:You are saving your model as an HDF5 file via `model.save()` or `keras.saving.save_model(model)`. This file format is considered legacy. We recommend using instead the native Keras format, e.g. `model.save('my_model.keras')` or `keras.saving.save_model(model, 'my_model.keras')`. \n"
     ]
    },
    {
     "name": "stdout",
     "output_type": "stream",
     "text": [
      "\u001b[1m32/32\u001b[0m \u001b[32m━━━━━━━━━━━━━━━━━━━━\u001b[0m\u001b[37m\u001b[0m \u001b[1m0s\u001b[0m 8ms/step - accuracy: 0.4953 - loss: 1.3633 - val_accuracy: 0.5257 - val_loss: 1.3451\n",
      "Epoch 5/1000\n",
      "\u001b[1m31/32\u001b[0m \u001b[32m━━━━━━━━━━━━━━━━━━━\u001b[0m\u001b[37m━\u001b[0m \u001b[1m0s\u001b[0m 2ms/step - accuracy: 0.5150 - loss: 1.3517 \n",
      "Epoch 5: saving model to model/point_history_classifier/point_history_classifier.h5\n"
     ]
    },
    {
     "name": "stderr",
     "output_type": "stream",
     "text": [
      "WARNING:absl:You are saving your model as an HDF5 file via `model.save()` or `keras.saving.save_model(model)`. This file format is considered legacy. We recommend using instead the native Keras format, e.g. `model.save('my_model.keras')` or `keras.saving.save_model(model, 'my_model.keras')`. \n"
     ]
    },
    {
     "name": "stdout",
     "output_type": "stream",
     "text": [
      "\u001b[1m32/32\u001b[0m \u001b[32m━━━━━━━━━━━━━━━━━━━━\u001b[0m\u001b[37m\u001b[0m \u001b[1m0s\u001b[0m 7ms/step - accuracy: 0.5144 - loss: 1.3516 - val_accuracy: 0.5514 - val_loss: 1.3285\n",
      "Epoch 6/1000\n",
      "\u001b[1m31/32\u001b[0m \u001b[32m━━━━━━━━━━━━━━━━━━━\u001b[0m\u001b[37m━\u001b[0m \u001b[1m0s\u001b[0m 3ms/step - accuracy: 0.5071 - loss: 1.3374 \n",
      "Epoch 6: saving model to model/point_history_classifier/point_history_classifier.h5\n"
     ]
    },
    {
     "name": "stderr",
     "output_type": "stream",
     "text": [
      "WARNING:absl:You are saving your model as an HDF5 file via `model.save()` or `keras.saving.save_model(model)`. This file format is considered legacy. We recommend using instead the native Keras format, e.g. `model.save('my_model.keras')` or `keras.saving.save_model(model, 'my_model.keras')`. \n"
     ]
    },
    {
     "name": "stdout",
     "output_type": "stream",
     "text": [
      "\u001b[1m32/32\u001b[0m \u001b[32m━━━━━━━━━━━━━━━━━━━━\u001b[0m\u001b[37m\u001b[0m \u001b[1m0s\u001b[0m 9ms/step - accuracy: 0.5071 - loss: 1.3371 - val_accuracy: 0.5869 - val_loss: 1.3060\n",
      "Epoch 7/1000\n",
      "\u001b[1m27/32\u001b[0m \u001b[32m━━━━━━━━━━━━━━━━\u001b[0m\u001b[37m━━━━\u001b[0m \u001b[1m0s\u001b[0m 2ms/step - accuracy: 0.5142 - loss: 1.3208 \n",
      "Epoch 7: saving model to model/point_history_classifier/point_history_classifier.h5\n"
     ]
    },
    {
     "name": "stderr",
     "output_type": "stream",
     "text": [
      "WARNING:absl:You are saving your model as an HDF5 file via `model.save()` or `keras.saving.save_model(model)`. This file format is considered legacy. We recommend using instead the native Keras format, e.g. `model.save('my_model.keras')` or `keras.saving.save_model(model, 'my_model.keras')`. \n"
     ]
    },
    {
     "name": "stdout",
     "output_type": "stream",
     "text": [
      "\u001b[1m32/32\u001b[0m \u001b[32m━━━━━━━━━━━━━━━━━━━━\u001b[0m\u001b[37m\u001b[0m \u001b[1m0s\u001b[0m 9ms/step - accuracy: 0.5167 - loss: 1.3195 - val_accuracy: 0.6435 - val_loss: 1.2756\n",
      "Epoch 8/1000\n",
      "\u001b[1m25/32\u001b[0m \u001b[32m━━━━━━━━━━━━━━━\u001b[0m\u001b[37m━━━━━\u001b[0m \u001b[1m0s\u001b[0m 2ms/step - accuracy: 0.5401 - loss: 1.2960 \n",
      "Epoch 8: saving model to model/point_history_classifier/point_history_classifier.h5\n"
     ]
    },
    {
     "name": "stderr",
     "output_type": "stream",
     "text": [
      "WARNING:absl:You are saving your model as an HDF5 file via `model.save()` or `keras.saving.save_model(model)`. This file format is considered legacy. We recommend using instead the native Keras format, e.g. `model.save('my_model.keras')` or `keras.saving.save_model(model, 'my_model.keras')`. \n"
     ]
    },
    {
     "name": "stdout",
     "output_type": "stream",
     "text": [
      "\u001b[1m32/32\u001b[0m \u001b[32m━━━━━━━━━━━━━━━━━━━━\u001b[0m\u001b[37m\u001b[0m \u001b[1m0s\u001b[0m 7ms/step - accuracy: 0.5422 - loss: 1.2932 - val_accuracy: 0.7115 - val_loss: 1.2379\n",
      "Epoch 9/1000\n",
      "\u001b[1m22/32\u001b[0m \u001b[32m━━━━━━━━━━━━━\u001b[0m\u001b[37m━━━━━━━\u001b[0m \u001b[1m0s\u001b[0m 3ms/step - accuracy: 0.5893 - loss: 1.2524 \n",
      "Epoch 9: saving model to model/point_history_classifier/point_history_classifier.h5\n"
     ]
    },
    {
     "name": "stderr",
     "output_type": "stream",
     "text": [
      "WARNING:absl:You are saving your model as an HDF5 file via `model.save()` or `keras.saving.save_model(model)`. This file format is considered legacy. We recommend using instead the native Keras format, e.g. `model.save('my_model.keras')` or `keras.saving.save_model(model, 'my_model.keras')`. \n"
     ]
    },
    {
     "name": "stdout",
     "output_type": "stream",
     "text": [
      "\u001b[1m32/32\u001b[0m \u001b[32m━━━━━━━━━━━━━━━━━━━━\u001b[0m\u001b[37m\u001b[0m \u001b[1m0s\u001b[0m 8ms/step - accuracy: 0.5858 - loss: 1.2515 - val_accuracy: 0.7394 - val_loss: 1.1905\n",
      "Epoch 10/1000\n",
      "\u001b[1m18/32\u001b[0m \u001b[32m━━━━━━━━━━━\u001b[0m\u001b[37m━━━━━━━━━\u001b[0m \u001b[1m0s\u001b[0m 3ms/step - accuracy: 0.5938 - loss: 1.2144 \n",
      "Epoch 10: saving model to model/point_history_classifier/point_history_classifier.h5\n"
     ]
    },
    {
     "name": "stderr",
     "output_type": "stream",
     "text": [
      "WARNING:absl:You are saving your model as an HDF5 file via `model.save()` or `keras.saving.save_model(model)`. This file format is considered legacy. We recommend using instead the native Keras format, e.g. `model.save('my_model.keras')` or `keras.saving.save_model(model, 'my_model.keras')`. \n"
     ]
    },
    {
     "name": "stdout",
     "output_type": "stream",
     "text": [
      "\u001b[1m32/32\u001b[0m \u001b[32m━━━━━━━━━━━━━━━━━━━━\u001b[0m\u001b[37m\u001b[0m \u001b[1m0s\u001b[0m 8ms/step - accuracy: 0.5970 - loss: 1.2089 - val_accuracy: 0.7538 - val_loss: 1.1324\n",
      "Epoch 11/1000\n",
      "\u001b[1m22/32\u001b[0m \u001b[32m━━━━━━━━━━━━━\u001b[0m\u001b[37m━━━━━━━\u001b[0m \u001b[1m0s\u001b[0m 3ms/step - accuracy: 0.6068 - loss: 1.1652 \n",
      "Epoch 11: saving model to model/point_history_classifier/point_history_classifier.h5\n"
     ]
    },
    {
     "name": "stderr",
     "output_type": "stream",
     "text": [
      "WARNING:absl:You are saving your model as an HDF5 file via `model.save()` or `keras.saving.save_model(model)`. This file format is considered legacy. We recommend using instead the native Keras format, e.g. `model.save('my_model.keras')` or `keras.saving.save_model(model, 'my_model.keras')`. \n"
     ]
    },
    {
     "name": "stdout",
     "output_type": "stream",
     "text": [
      "\u001b[1m32/32\u001b[0m \u001b[32m━━━━━━━━━━━━━━━━━━━━\u001b[0m\u001b[37m\u001b[0m \u001b[1m0s\u001b[0m 9ms/step - accuracy: 0.6058 - loss: 1.1630 - val_accuracy: 0.8195 - val_loss: 1.0639\n",
      "Epoch 12/1000\n",
      "\u001b[1m29/32\u001b[0m \u001b[32m━━━━━━━━━━━━━━━━━━\u001b[0m\u001b[37m━━\u001b[0m \u001b[1m0s\u001b[0m 2ms/step - accuracy: 0.6652 - loss: 1.0973 \n",
      "Epoch 12: saving model to model/point_history_classifier/point_history_classifier.h5\n"
     ]
    },
    {
     "name": "stderr",
     "output_type": "stream",
     "text": [
      "WARNING:absl:You are saving your model as an HDF5 file via `model.save()` or `keras.saving.save_model(model)`. This file format is considered legacy. We recommend using instead the native Keras format, e.g. `model.save('my_model.keras')` or `keras.saving.save_model(model, 'my_model.keras')`. \n"
     ]
    },
    {
     "name": "stdout",
     "output_type": "stream",
     "text": [
      "\u001b[1m32/32\u001b[0m \u001b[32m━━━━━━━━━━━━━━━━━━━━\u001b[0m\u001b[37m\u001b[0m \u001b[1m0s\u001b[0m 8ms/step - accuracy: 0.6649 - loss: 1.0964 - val_accuracy: 0.8746 - val_loss: 0.9929\n",
      "Epoch 13/1000\n",
      "\u001b[1m21/32\u001b[0m \u001b[32m━━━━━━━━━━━━━\u001b[0m\u001b[37m━━━━━━━\u001b[0m \u001b[1m0s\u001b[0m 3ms/step - accuracy: 0.6891 - loss: 1.0611 \n",
      "Epoch 13: saving model to model/point_history_classifier/point_history_classifier.h5\n"
     ]
    },
    {
     "name": "stderr",
     "output_type": "stream",
     "text": [
      "WARNING:absl:You are saving your model as an HDF5 file via `model.save()` or `keras.saving.save_model(model)`. This file format is considered legacy. We recommend using instead the native Keras format, e.g. `model.save('my_model.keras')` or `keras.saving.save_model(model, 'my_model.keras')`. \n"
     ]
    },
    {
     "name": "stdout",
     "output_type": "stream",
     "text": [
      "\u001b[1m32/32\u001b[0m \u001b[32m━━━━━━━━━━━━━━━━━━━━\u001b[0m\u001b[37m\u001b[0m \u001b[1m0s\u001b[0m 9ms/step - accuracy: 0.6847 - loss: 1.0554 - val_accuracy: 0.8988 - val_loss: 0.9212\n",
      "Epoch 14/1000\n",
      "\u001b[1m25/32\u001b[0m \u001b[32m━━━━━━━━━━━━━━━\u001b[0m\u001b[37m━━━━━\u001b[0m \u001b[1m0s\u001b[0m 2ms/step - accuracy: 0.6952 - loss: 0.9921 \n",
      "Epoch 14: saving model to model/point_history_classifier/point_history_classifier.h5\n"
     ]
    },
    {
     "name": "stderr",
     "output_type": "stream",
     "text": [
      "WARNING:absl:You are saving your model as an HDF5 file via `model.save()` or `keras.saving.save_model(model)`. This file format is considered legacy. We recommend using instead the native Keras format, e.g. `model.save('my_model.keras')` or `keras.saving.save_model(model, 'my_model.keras')`. \n"
     ]
    },
    {
     "name": "stdout",
     "output_type": "stream",
     "text": [
      "\u001b[1m32/32\u001b[0m \u001b[32m━━━━━━━━━━━━━━━━━━━━\u001b[0m\u001b[37m\u001b[0m \u001b[1m0s\u001b[0m 9ms/step - accuracy: 0.6935 - loss: 0.9918 - val_accuracy: 0.9162 - val_loss: 0.8506\n",
      "Epoch 15/1000\n",
      "\u001b[1m28/32\u001b[0m \u001b[32m━━━━━━━━━━━━━━━━━\u001b[0m\u001b[37m━━━\u001b[0m \u001b[1m0s\u001b[0m 2ms/step - accuracy: 0.6788 - loss: 0.9672 \n",
      "Epoch 15: saving model to model/point_history_classifier/point_history_classifier.h5\n"
     ]
    },
    {
     "name": "stderr",
     "output_type": "stream",
     "text": [
      "WARNING:absl:You are saving your model as an HDF5 file via `model.save()` or `keras.saving.save_model(model)`. This file format is considered legacy. We recommend using instead the native Keras format, e.g. `model.save('my_model.keras')` or `keras.saving.save_model(model, 'my_model.keras')`. \n"
     ]
    },
    {
     "name": "stdout",
     "output_type": "stream",
     "text": [
      "\u001b[1m32/32\u001b[0m \u001b[32m━━━━━━━━━━━━━━━━━━━━\u001b[0m\u001b[37m\u001b[0m \u001b[1m0s\u001b[0m 6ms/step - accuracy: 0.6813 - loss: 0.9636 - val_accuracy: 0.9252 - val_loss: 0.7820\n",
      "Epoch 16/1000\n",
      "\u001b[1m28/32\u001b[0m \u001b[32m━━━━━━━━━━━━━━━━━\u001b[0m\u001b[37m━━━\u001b[0m \u001b[1m0s\u001b[0m 2ms/step - accuracy: 0.7135 - loss: 0.8933 \n",
      "Epoch 16: saving model to model/point_history_classifier/point_history_classifier.h5\n"
     ]
    },
    {
     "name": "stderr",
     "output_type": "stream",
     "text": [
      "WARNING:absl:You are saving your model as an HDF5 file via `model.save()` or `keras.saving.save_model(model)`. This file format is considered legacy. We recommend using instead the native Keras format, e.g. `model.save('my_model.keras')` or `keras.saving.save_model(model, 'my_model.keras')`. \n"
     ]
    },
    {
     "name": "stdout",
     "output_type": "stream",
     "text": [
      "\u001b[1m32/32\u001b[0m \u001b[32m━━━━━━━━━━━━━━━━━━━━\u001b[0m\u001b[37m\u001b[0m \u001b[1m0s\u001b[0m 7ms/step - accuracy: 0.7131 - loss: 0.8921 - val_accuracy: 0.9320 - val_loss: 0.7185\n",
      "Epoch 17/1000\n",
      "\u001b[1m22/32\u001b[0m \u001b[32m━━━━━━━━━━━━━\u001b[0m\u001b[37m━━━━━━━\u001b[0m \u001b[1m0s\u001b[0m 2ms/step - accuracy: 0.7150 - loss: 0.8552 \n",
      "Epoch 17: saving model to model/point_history_classifier/point_history_classifier.h5\n"
     ]
    },
    {
     "name": "stderr",
     "output_type": "stream",
     "text": [
      "WARNING:absl:You are saving your model as an HDF5 file via `model.save()` or `keras.saving.save_model(model)`. This file format is considered legacy. We recommend using instead the native Keras format, e.g. `model.save('my_model.keras')` or `keras.saving.save_model(model, 'my_model.keras')`. \n"
     ]
    },
    {
     "name": "stdout",
     "output_type": "stream",
     "text": [
      "\u001b[1m32/32\u001b[0m \u001b[32m━━━━━━━━━━━━━━━━━━━━\u001b[0m\u001b[37m\u001b[0m \u001b[1m0s\u001b[0m 7ms/step - accuracy: 0.7139 - loss: 0.8536 - val_accuracy: 0.9358 - val_loss: 0.6667\n",
      "Epoch 18/1000\n",
      "\u001b[1m24/32\u001b[0m \u001b[32m━━━━━━━━━━━━━━━\u001b[0m\u001b[37m━━━━━\u001b[0m \u001b[1m0s\u001b[0m 2ms/step - accuracy: 0.7160 - loss: 0.8394 \n",
      "Epoch 18: saving model to model/point_history_classifier/point_history_classifier.h5\n"
     ]
    },
    {
     "name": "stderr",
     "output_type": "stream",
     "text": [
      "WARNING:absl:You are saving your model as an HDF5 file via `model.save()` or `keras.saving.save_model(model)`. This file format is considered legacy. We recommend using instead the native Keras format, e.g. `model.save('my_model.keras')` or `keras.saving.save_model(model, 'my_model.keras')`. \n"
     ]
    },
    {
     "name": "stdout",
     "output_type": "stream",
     "text": [
      "\u001b[1m32/32\u001b[0m \u001b[32m━━━━━━━━━━━━━━━━━━━━\u001b[0m\u001b[37m\u001b[0m \u001b[1m0s\u001b[0m 7ms/step - accuracy: 0.7183 - loss: 0.8334 - val_accuracy: 0.9464 - val_loss: 0.6250\n",
      "Epoch 19/1000\n",
      "\u001b[1m27/32\u001b[0m \u001b[32m━━━━━━━━━━━━━━━━\u001b[0m\u001b[37m━━━━\u001b[0m \u001b[1m0s\u001b[0m 2ms/step - accuracy: 0.7295 - loss: 0.7944 \n",
      "Epoch 19: saving model to model/point_history_classifier/point_history_classifier.h5\n"
     ]
    },
    {
     "name": "stderr",
     "output_type": "stream",
     "text": [
      "WARNING:absl:You are saving your model as an HDF5 file via `model.save()` or `keras.saving.save_model(model)`. This file format is considered legacy. We recommend using instead the native Keras format, e.g. `model.save('my_model.keras')` or `keras.saving.save_model(model, 'my_model.keras')`. \n"
     ]
    },
    {
     "name": "stdout",
     "output_type": "stream",
     "text": [
      "\u001b[1m32/32\u001b[0m \u001b[32m━━━━━━━━━━━━━━━━━━━━\u001b[0m\u001b[37m\u001b[0m \u001b[1m0s\u001b[0m 6ms/step - accuracy: 0.7290 - loss: 0.7938 - val_accuracy: 0.9456 - val_loss: 0.5845\n",
      "Epoch 20/1000\n",
      "\u001b[1m19/32\u001b[0m \u001b[32m━━━━━━━━━━━\u001b[0m\u001b[37m━━━━━━━━━\u001b[0m \u001b[1m0s\u001b[0m 3ms/step - accuracy: 0.7301 - loss: 0.7849 \n",
      "Epoch 20: saving model to model/point_history_classifier/point_history_classifier.h5\n"
     ]
    },
    {
     "name": "stderr",
     "output_type": "stream",
     "text": [
      "WARNING:absl:You are saving your model as an HDF5 file via `model.save()` or `keras.saving.save_model(model)`. This file format is considered legacy. We recommend using instead the native Keras format, e.g. `model.save('my_model.keras')` or `keras.saving.save_model(model, 'my_model.keras')`. \n"
     ]
    },
    {
     "name": "stdout",
     "output_type": "stream",
     "text": [
      "\u001b[1m32/32\u001b[0m \u001b[32m━━━━━━━━━━━━━━━━━━━━\u001b[0m\u001b[37m\u001b[0m \u001b[1m0s\u001b[0m 9ms/step - accuracy: 0.7312 - loss: 0.7830 - val_accuracy: 0.9502 - val_loss: 0.5516\n",
      "Epoch 21/1000\n",
      "\u001b[1m26/32\u001b[0m \u001b[32m━━━━━━━━━━━━━━━━\u001b[0m\u001b[37m━━━━\u001b[0m \u001b[1m0s\u001b[0m 2ms/step - accuracy: 0.7218 - loss: 0.7552 \n",
      "Epoch 21: saving model to model/point_history_classifier/point_history_classifier.h5\n"
     ]
    },
    {
     "name": "stderr",
     "output_type": "stream",
     "text": [
      "WARNING:absl:You are saving your model as an HDF5 file via `model.save()` or `keras.saving.save_model(model)`. This file format is considered legacy. We recommend using instead the native Keras format, e.g. `model.save('my_model.keras')` or `keras.saving.save_model(model, 'my_model.keras')`. \n"
     ]
    },
    {
     "name": "stdout",
     "output_type": "stream",
     "text": [
      "\u001b[1m32/32\u001b[0m \u001b[32m━━━━━━━━━━━━━━━━━━━━\u001b[0m\u001b[37m\u001b[0m \u001b[1m0s\u001b[0m 7ms/step - accuracy: 0.7267 - loss: 0.7503 - val_accuracy: 0.9502 - val_loss: 0.5228\n",
      "Epoch 22/1000\n",
      "\u001b[1m23/32\u001b[0m \u001b[32m━━━━━━━━━━━━━━\u001b[0m\u001b[37m━━━━━━\u001b[0m \u001b[1m0s\u001b[0m 2ms/step - accuracy: 0.7537 - loss: 0.7150 \n",
      "Epoch 22: saving model to model/point_history_classifier/point_history_classifier.h5\n"
     ]
    },
    {
     "name": "stderr",
     "output_type": "stream",
     "text": [
      "WARNING:absl:You are saving your model as an HDF5 file via `model.save()` or `keras.saving.save_model(model)`. This file format is considered legacy. We recommend using instead the native Keras format, e.g. `model.save('my_model.keras')` or `keras.saving.save_model(model, 'my_model.keras')`. \n"
     ]
    },
    {
     "name": "stdout",
     "output_type": "stream",
     "text": [
      "\u001b[1m32/32\u001b[0m \u001b[32m━━━━━━━━━━━━━━━━━━━━\u001b[0m\u001b[37m\u001b[0m \u001b[1m0s\u001b[0m 8ms/step - accuracy: 0.7539 - loss: 0.7120 - val_accuracy: 0.9517 - val_loss: 0.4936\n",
      "Epoch 23/1000\n",
      "\u001b[1m23/32\u001b[0m \u001b[32m━━━━━━━━━━━━━━\u001b[0m\u001b[37m━━━━━━\u001b[0m \u001b[1m0s\u001b[0m 2ms/step - accuracy: 0.7420 - loss: 0.7104 \n",
      "Epoch 23: saving model to model/point_history_classifier/point_history_classifier.h5\n"
     ]
    },
    {
     "name": "stderr",
     "output_type": "stream",
     "text": [
      "WARNING:absl:You are saving your model as an HDF5 file via `model.save()` or `keras.saving.save_model(model)`. This file format is considered legacy. We recommend using instead the native Keras format, e.g. `model.save('my_model.keras')` or `keras.saving.save_model(model, 'my_model.keras')`. \n"
     ]
    },
    {
     "name": "stdout",
     "output_type": "stream",
     "text": [
      "\u001b[1m32/32\u001b[0m \u001b[32m━━━━━━━━━━━━━━━━━━━━\u001b[0m\u001b[37m\u001b[0m \u001b[1m0s\u001b[0m 8ms/step - accuracy: 0.7429 - loss: 0.7100 - val_accuracy: 0.9524 - val_loss: 0.4759\n",
      "Epoch 24/1000\n",
      "\u001b[1m29/32\u001b[0m \u001b[32m━━━━━━━━━━━━━━━━━━\u001b[0m\u001b[37m━━\u001b[0m \u001b[1m0s\u001b[0m 2ms/step - accuracy: 0.7458 - loss: 0.7002 \n",
      "Epoch 24: saving model to model/point_history_classifier/point_history_classifier.h5\n"
     ]
    },
    {
     "name": "stderr",
     "output_type": "stream",
     "text": [
      "WARNING:absl:You are saving your model as an HDF5 file via `model.save()` or `keras.saving.save_model(model)`. This file format is considered legacy. We recommend using instead the native Keras format, e.g. `model.save('my_model.keras')` or `keras.saving.save_model(model, 'my_model.keras')`. \n"
     ]
    },
    {
     "name": "stdout",
     "output_type": "stream",
     "text": [
      "\u001b[1m32/32\u001b[0m \u001b[32m━━━━━━━━━━━━━━━━━━━━\u001b[0m\u001b[37m\u001b[0m \u001b[1m0s\u001b[0m 6ms/step - accuracy: 0.7461 - loss: 0.6986 - val_accuracy: 0.9509 - val_loss: 0.4528\n",
      "Epoch 25/1000\n",
      "\u001b[1m19/32\u001b[0m \u001b[32m━━━━━━━━━━━\u001b[0m\u001b[37m━━━━━━━━━\u001b[0m \u001b[1m0s\u001b[0m 3ms/step - accuracy: 0.7719 - loss: 0.6503 \n",
      "Epoch 25: saving model to model/point_history_classifier/point_history_classifier.h5\n"
     ]
    },
    {
     "name": "stderr",
     "output_type": "stream",
     "text": [
      "WARNING:absl:You are saving your model as an HDF5 file via `model.save()` or `keras.saving.save_model(model)`. This file format is considered legacy. We recommend using instead the native Keras format, e.g. `model.save('my_model.keras')` or `keras.saving.save_model(model, 'my_model.keras')`. \n"
     ]
    },
    {
     "name": "stdout",
     "output_type": "stream",
     "text": [
      "\u001b[1m32/32\u001b[0m \u001b[32m━━━━━━━━━━━━━━━━━━━━\u001b[0m\u001b[37m\u001b[0m \u001b[1m0s\u001b[0m 10ms/step - accuracy: 0.7686 - loss: 0.6565 - val_accuracy: 0.9532 - val_loss: 0.4320\n",
      "Epoch 26/1000\n",
      "\u001b[1m27/32\u001b[0m \u001b[32m━━━━━━━━━━━━━━━━\u001b[0m\u001b[37m━━━━\u001b[0m \u001b[1m0s\u001b[0m 2ms/step - accuracy: 0.7624 - loss: 0.6634 \n",
      "Epoch 26: saving model to model/point_history_classifier/point_history_classifier.h5\n"
     ]
    },
    {
     "name": "stderr",
     "output_type": "stream",
     "text": [
      "WARNING:absl:You are saving your model as an HDF5 file via `model.save()` or `keras.saving.save_model(model)`. This file format is considered legacy. We recommend using instead the native Keras format, e.g. `model.save('my_model.keras')` or `keras.saving.save_model(model, 'my_model.keras')`. \n"
     ]
    },
    {
     "name": "stdout",
     "output_type": "stream",
     "text": [
      "\u001b[1m32/32\u001b[0m \u001b[32m━━━━━━━━━━━━━━━━━━━━\u001b[0m\u001b[37m\u001b[0m \u001b[1m0s\u001b[0m 8ms/step - accuracy: 0.7624 - loss: 0.6637 - val_accuracy: 0.9539 - val_loss: 0.4210\n",
      "Epoch 27/1000\n",
      "\u001b[1m22/32\u001b[0m \u001b[32m━━━━━━━━━━━━━\u001b[0m\u001b[37m━━━━━━━\u001b[0m \u001b[1m0s\u001b[0m 3ms/step - accuracy: 0.7688 - loss: 0.6467 \n",
      "Epoch 27: saving model to model/point_history_classifier/point_history_classifier.h5\n"
     ]
    },
    {
     "name": "stderr",
     "output_type": "stream",
     "text": [
      "WARNING:absl:You are saving your model as an HDF5 file via `model.save()` or `keras.saving.save_model(model)`. This file format is considered legacy. We recommend using instead the native Keras format, e.g. `model.save('my_model.keras')` or `keras.saving.save_model(model, 'my_model.keras')`. \n"
     ]
    },
    {
     "name": "stdout",
     "output_type": "stream",
     "text": [
      "\u001b[1m32/32\u001b[0m \u001b[32m━━━━━━━━━━━━━━━━━━━━\u001b[0m\u001b[37m\u001b[0m \u001b[1m0s\u001b[0m 8ms/step - accuracy: 0.7682 - loss: 0.6462 - val_accuracy: 0.9554 - val_loss: 0.4043\n",
      "Epoch 28/1000\n",
      "\u001b[1m25/32\u001b[0m \u001b[32m━━━━━━━━━━━━━━━\u001b[0m\u001b[37m━━━━━\u001b[0m \u001b[1m0s\u001b[0m 2ms/step - accuracy: 0.7775 - loss: 0.6393 \n",
      "Epoch 28: saving model to model/point_history_classifier/point_history_classifier.h5\n"
     ]
    },
    {
     "name": "stderr",
     "output_type": "stream",
     "text": [
      "WARNING:absl:You are saving your model as an HDF5 file via `model.save()` or `keras.saving.save_model(model)`. This file format is considered legacy. We recommend using instead the native Keras format, e.g. `model.save('my_model.keras')` or `keras.saving.save_model(model, 'my_model.keras')`. \n"
     ]
    },
    {
     "name": "stdout",
     "output_type": "stream",
     "text": [
      "\u001b[1m32/32\u001b[0m \u001b[32m━━━━━━━━━━━━━━━━━━━━\u001b[0m\u001b[37m\u001b[0m \u001b[1m0s\u001b[0m 7ms/step - accuracy: 0.7773 - loss: 0.6371 - val_accuracy: 0.9577 - val_loss: 0.3903\n",
      "Epoch 29/1000\n",
      "\u001b[1m21/32\u001b[0m \u001b[32m━━━━━━━━━━━━━\u001b[0m\u001b[37m━━━━━━━\u001b[0m \u001b[1m0s\u001b[0m 3ms/step - accuracy: 0.7752 - loss: 0.6452 \n",
      "Epoch 29: saving model to model/point_history_classifier/point_history_classifier.h5\n"
     ]
    },
    {
     "name": "stderr",
     "output_type": "stream",
     "text": [
      "WARNING:absl:You are saving your model as an HDF5 file via `model.save()` or `keras.saving.save_model(model)`. This file format is considered legacy. We recommend using instead the native Keras format, e.g. `model.save('my_model.keras')` or `keras.saving.save_model(model, 'my_model.keras')`. \n"
     ]
    },
    {
     "name": "stdout",
     "output_type": "stream",
     "text": [
      "\u001b[1m32/32\u001b[0m \u001b[32m━━━━━━━━━━━━━━━━━━━━\u001b[0m\u001b[37m\u001b[0m \u001b[1m0s\u001b[0m 7ms/step - accuracy: 0.7745 - loss: 0.6440 - val_accuracy: 0.9577 - val_loss: 0.3801\n",
      "Epoch 30/1000\n",
      "\u001b[1m25/32\u001b[0m \u001b[32m━━━━━━━━━━━━━━━\u001b[0m\u001b[37m━━━━━\u001b[0m \u001b[1m0s\u001b[0m 2ms/step - accuracy: 0.7695 - loss: 0.6336 \n",
      "Epoch 30: saving model to model/point_history_classifier/point_history_classifier.h5\n"
     ]
    },
    {
     "name": "stderr",
     "output_type": "stream",
     "text": [
      "WARNING:absl:You are saving your model as an HDF5 file via `model.save()` or `keras.saving.save_model(model)`. This file format is considered legacy. We recommend using instead the native Keras format, e.g. `model.save('my_model.keras')` or `keras.saving.save_model(model, 'my_model.keras')`. \n"
     ]
    },
    {
     "name": "stdout",
     "output_type": "stream",
     "text": [
      "\u001b[1m32/32\u001b[0m \u001b[32m━━━━━━━━━━━━━━━━━━━━\u001b[0m\u001b[37m\u001b[0m \u001b[1m0s\u001b[0m 9ms/step - accuracy: 0.7726 - loss: 0.6300 - val_accuracy: 0.9562 - val_loss: 0.3697\n",
      "Epoch 31/1000\n",
      "\u001b[1m31/32\u001b[0m \u001b[32m━━━━━━━━━━━━━━━━━━━\u001b[0m\u001b[37m━\u001b[0m \u001b[1m0s\u001b[0m 3ms/step - accuracy: 0.7923 - loss: 0.6021 \n",
      "Epoch 31: saving model to model/point_history_classifier/point_history_classifier.h5\n"
     ]
    },
    {
     "name": "stderr",
     "output_type": "stream",
     "text": [
      "WARNING:absl:You are saving your model as an HDF5 file via `model.save()` or `keras.saving.save_model(model)`. This file format is considered legacy. We recommend using instead the native Keras format, e.g. `model.save('my_model.keras')` or `keras.saving.save_model(model, 'my_model.keras')`. \n"
     ]
    },
    {
     "name": "stdout",
     "output_type": "stream",
     "text": [
      "\u001b[1m32/32\u001b[0m \u001b[32m━━━━━━━━━━━━━━━━━━━━\u001b[0m\u001b[37m\u001b[0m \u001b[1m0s\u001b[0m 9ms/step - accuracy: 0.7922 - loss: 0.6022 - val_accuracy: 0.9577 - val_loss: 0.3560\n",
      "Epoch 32/1000\n",
      "\u001b[1m18/32\u001b[0m \u001b[32m━━━━━━━━━━━\u001b[0m\u001b[37m━━━━━━━━━\u001b[0m \u001b[1m0s\u001b[0m 3ms/step - accuracy: 0.7987 - loss: 0.5883 \n",
      "Epoch 32: saving model to model/point_history_classifier/point_history_classifier.h5\n"
     ]
    },
    {
     "name": "stderr",
     "output_type": "stream",
     "text": [
      "WARNING:absl:You are saving your model as an HDF5 file via `model.save()` or `keras.saving.save_model(model)`. This file format is considered legacy. We recommend using instead the native Keras format, e.g. `model.save('my_model.keras')` or `keras.saving.save_model(model, 'my_model.keras')`. \n"
     ]
    },
    {
     "name": "stdout",
     "output_type": "stream",
     "text": [
      "\u001b[1m32/32\u001b[0m \u001b[32m━━━━━━━━━━━━━━━━━━━━\u001b[0m\u001b[37m\u001b[0m \u001b[1m0s\u001b[0m 9ms/step - accuracy: 0.7935 - loss: 0.5938 - val_accuracy: 0.9577 - val_loss: 0.3489\n",
      "Epoch 33/1000\n",
      "\u001b[1m19/32\u001b[0m \u001b[32m━━━━━━━━━━━\u001b[0m\u001b[37m━━━━━━━━━\u001b[0m \u001b[1m0s\u001b[0m 3ms/step - accuracy: 0.7981 - loss: 0.5745 \n",
      "Epoch 33: saving model to model/point_history_classifier/point_history_classifier.h5\n"
     ]
    },
    {
     "name": "stderr",
     "output_type": "stream",
     "text": [
      "WARNING:absl:You are saving your model as an HDF5 file via `model.save()` or `keras.saving.save_model(model)`. This file format is considered legacy. We recommend using instead the native Keras format, e.g. `model.save('my_model.keras')` or `keras.saving.save_model(model, 'my_model.keras')`. \n"
     ]
    },
    {
     "name": "stdout",
     "output_type": "stream",
     "text": [
      "\u001b[1m32/32\u001b[0m \u001b[32m━━━━━━━━━━━━━━━━━━━━\u001b[0m\u001b[37m\u001b[0m \u001b[1m0s\u001b[0m 8ms/step - accuracy: 0.7969 - loss: 0.5766 - val_accuracy: 0.9585 - val_loss: 0.3420\n",
      "Epoch 34/1000\n",
      "\u001b[1m18/32\u001b[0m \u001b[32m━━━━━━━━━━━\u001b[0m\u001b[37m━━━━━━━━━\u001b[0m \u001b[1m0s\u001b[0m 4ms/step - accuracy: 0.7988 - loss: 0.5908 \n",
      "Epoch 34: saving model to model/point_history_classifier/point_history_classifier.h5\n"
     ]
    },
    {
     "name": "stderr",
     "output_type": "stream",
     "text": [
      "WARNING:absl:You are saving your model as an HDF5 file via `model.save()` or `keras.saving.save_model(model)`. This file format is considered legacy. We recommend using instead the native Keras format, e.g. `model.save('my_model.keras')` or `keras.saving.save_model(model, 'my_model.keras')`. \n"
     ]
    },
    {
     "name": "stdout",
     "output_type": "stream",
     "text": [
      "\u001b[1m32/32\u001b[0m \u001b[32m━━━━━━━━━━━━━━━━━━━━\u001b[0m\u001b[37m\u001b[0m \u001b[1m0s\u001b[0m 8ms/step - accuracy: 0.7975 - loss: 0.5913 - val_accuracy: 0.9592 - val_loss: 0.3378\n",
      "Epoch 35/1000\n",
      "\u001b[1m20/32\u001b[0m \u001b[32m━━━━━━━━━━━━\u001b[0m\u001b[37m━━━━━━━━\u001b[0m \u001b[1m0s\u001b[0m 3ms/step - accuracy: 0.7866 - loss: 0.5893 \n",
      "Epoch 35: saving model to model/point_history_classifier/point_history_classifier.h5\n"
     ]
    },
    {
     "name": "stderr",
     "output_type": "stream",
     "text": [
      "WARNING:absl:You are saving your model as an HDF5 file via `model.save()` or `keras.saving.save_model(model)`. This file format is considered legacy. We recommend using instead the native Keras format, e.g. `model.save('my_model.keras')` or `keras.saving.save_model(model, 'my_model.keras')`. \n"
     ]
    },
    {
     "name": "stdout",
     "output_type": "stream",
     "text": [
      "\u001b[1m32/32\u001b[0m \u001b[32m━━━━━━━━━━━━━━━━━━━━\u001b[0m\u001b[37m\u001b[0m \u001b[1m0s\u001b[0m 8ms/step - accuracy: 0.7898 - loss: 0.5828 - val_accuracy: 0.9585 - val_loss: 0.3327\n",
      "Epoch 36/1000\n",
      "\u001b[1m20/32\u001b[0m \u001b[32m━━━━━━━━━━━━\u001b[0m\u001b[37m━━━━━━━━\u001b[0m \u001b[1m0s\u001b[0m 3ms/step - accuracy: 0.7851 - loss: 0.6076 \n",
      "Epoch 36: saving model to model/point_history_classifier/point_history_classifier.h5\n"
     ]
    },
    {
     "name": "stderr",
     "output_type": "stream",
     "text": [
      "WARNING:absl:You are saving your model as an HDF5 file via `model.save()` or `keras.saving.save_model(model)`. This file format is considered legacy. We recommend using instead the native Keras format, e.g. `model.save('my_model.keras')` or `keras.saving.save_model(model, 'my_model.keras')`. \n"
     ]
    },
    {
     "name": "stdout",
     "output_type": "stream",
     "text": [
      "\u001b[1m32/32\u001b[0m \u001b[32m━━━━━━━━━━━━━━━━━━━━\u001b[0m\u001b[37m\u001b[0m \u001b[1m0s\u001b[0m 8ms/step - accuracy: 0.7855 - loss: 0.6010 - val_accuracy: 0.9645 - val_loss: 0.3272\n",
      "Epoch 37/1000\n",
      "\u001b[1m17/32\u001b[0m \u001b[32m━━━━━━━━━━\u001b[0m\u001b[37m━━━━━━━━━━\u001b[0m \u001b[1m0s\u001b[0m 4ms/step - accuracy: 0.7984 - loss: 0.5612 \n",
      "Epoch 37: saving model to model/point_history_classifier/point_history_classifier.h5\n"
     ]
    },
    {
     "name": "stderr",
     "output_type": "stream",
     "text": [
      "WARNING:absl:You are saving your model as an HDF5 file via `model.save()` or `keras.saving.save_model(model)`. This file format is considered legacy. We recommend using instead the native Keras format, e.g. `model.save('my_model.keras')` or `keras.saving.save_model(model, 'my_model.keras')`. \n"
     ]
    },
    {
     "name": "stdout",
     "output_type": "stream",
     "text": [
      "\u001b[1m32/32\u001b[0m \u001b[32m━━━━━━━━━━━━━━━━━━━━\u001b[0m\u001b[37m\u001b[0m \u001b[1m0s\u001b[0m 9ms/step - accuracy: 0.8023 - loss: 0.5602 - val_accuracy: 0.9630 - val_loss: 0.3220\n",
      "Epoch 38/1000\n",
      "\u001b[1m17/32\u001b[0m \u001b[32m━━━━━━━━━━\u001b[0m\u001b[37m━━━━━━━━━━\u001b[0m \u001b[1m0s\u001b[0m 3ms/step - accuracy: 0.8096 - loss: 0.5677 \n",
      "Epoch 38: saving model to model/point_history_classifier/point_history_classifier.h5\n"
     ]
    },
    {
     "name": "stderr",
     "output_type": "stream",
     "text": [
      "WARNING:absl:You are saving your model as an HDF5 file via `model.save()` or `keras.saving.save_model(model)`. This file format is considered legacy. We recommend using instead the native Keras format, e.g. `model.save('my_model.keras')` or `keras.saving.save_model(model, 'my_model.keras')`. \n"
     ]
    },
    {
     "name": "stdout",
     "output_type": "stream",
     "text": [
      "\u001b[1m32/32\u001b[0m \u001b[32m━━━━━━━━━━━━━━━━━━━━\u001b[0m\u001b[37m\u001b[0m \u001b[1m0s\u001b[0m 9ms/step - accuracy: 0.8059 - loss: 0.5665 - val_accuracy: 0.9653 - val_loss: 0.3153\n",
      "Epoch 39/1000\n",
      "\u001b[1m26/32\u001b[0m \u001b[32m━━━━━━━━━━━━━━━━\u001b[0m\u001b[37m━━━━\u001b[0m \u001b[1m0s\u001b[0m 3ms/step - accuracy: 0.8115 - loss: 0.5383 \n",
      "Epoch 39: saving model to model/point_history_classifier/point_history_classifier.h5\n"
     ]
    },
    {
     "name": "stderr",
     "output_type": "stream",
     "text": [
      "WARNING:absl:You are saving your model as an HDF5 file via `model.save()` or `keras.saving.save_model(model)`. This file format is considered legacy. We recommend using instead the native Keras format, e.g. `model.save('my_model.keras')` or `keras.saving.save_model(model, 'my_model.keras')`. \n"
     ]
    },
    {
     "name": "stdout",
     "output_type": "stream",
     "text": [
      "\u001b[1m32/32\u001b[0m \u001b[32m━━━━━━━━━━━━━━━━━━━━\u001b[0m\u001b[37m\u001b[0m \u001b[1m0s\u001b[0m 8ms/step - accuracy: 0.8108 - loss: 0.5409 - val_accuracy: 0.9645 - val_loss: 0.3082\n",
      "Epoch 40/1000\n",
      "\u001b[1m18/32\u001b[0m \u001b[32m━━━━━━━━━━━\u001b[0m\u001b[37m━━━━━━━━━\u001b[0m \u001b[1m0s\u001b[0m 4ms/step - accuracy: 0.8000 - loss: 0.5815 \n",
      "Epoch 40: saving model to model/point_history_classifier/point_history_classifier.h5\n"
     ]
    },
    {
     "name": "stderr",
     "output_type": "stream",
     "text": [
      "WARNING:absl:You are saving your model as an HDF5 file via `model.save()` or `keras.saving.save_model(model)`. This file format is considered legacy. We recommend using instead the native Keras format, e.g. `model.save('my_model.keras')` or `keras.saving.save_model(model, 'my_model.keras')`. \n"
     ]
    },
    {
     "name": "stdout",
     "output_type": "stream",
     "text": [
      "\u001b[1m32/32\u001b[0m \u001b[32m━━━━━━━━━━━━━━━━━━━━\u001b[0m\u001b[37m\u001b[0m \u001b[1m0s\u001b[0m 10ms/step - accuracy: 0.7979 - loss: 0.5793 - val_accuracy: 0.9645 - val_loss: 0.3081\n",
      "Epoch 41/1000\n",
      "\u001b[1m18/32\u001b[0m \u001b[32m━━━━━━━━━━━\u001b[0m\u001b[37m━━━━━━━━━\u001b[0m \u001b[1m0s\u001b[0m 3ms/step - accuracy: 0.8077 - loss: 0.5307 \n",
      "Epoch 41: saving model to model/point_history_classifier/point_history_classifier.h5\n"
     ]
    },
    {
     "name": "stderr",
     "output_type": "stream",
     "text": [
      "WARNING:absl:You are saving your model as an HDF5 file via `model.save()` or `keras.saving.save_model(model)`. This file format is considered legacy. We recommend using instead the native Keras format, e.g. `model.save('my_model.keras')` or `keras.saving.save_model(model, 'my_model.keras')`. \n"
     ]
    },
    {
     "name": "stdout",
     "output_type": "stream",
     "text": [
      "\u001b[1m32/32\u001b[0m \u001b[32m━━━━━━━━━━━━━━━━━━━━\u001b[0m\u001b[37m\u001b[0m \u001b[1m0s\u001b[0m 9ms/step - accuracy: 0.8058 - loss: 0.5322 - val_accuracy: 0.9637 - val_loss: 0.2989\n",
      "Epoch 42/1000\n",
      "\u001b[1m18/32\u001b[0m \u001b[32m━━━━━━━━━━━\u001b[0m\u001b[37m━━━━━━━━━\u001b[0m \u001b[1m0s\u001b[0m 4ms/step - accuracy: 0.7900 - loss: 0.5785 \n",
      "Epoch 42: saving model to model/point_history_classifier/point_history_classifier.h5\n"
     ]
    },
    {
     "name": "stderr",
     "output_type": "stream",
     "text": [
      "WARNING:absl:You are saving your model as an HDF5 file via `model.save()` or `keras.saving.save_model(model)`. This file format is considered legacy. We recommend using instead the native Keras format, e.g. `model.save('my_model.keras')` or `keras.saving.save_model(model, 'my_model.keras')`. \n"
     ]
    },
    {
     "name": "stdout",
     "output_type": "stream",
     "text": [
      "\u001b[1m32/32\u001b[0m \u001b[32m━━━━━━━━━━━━━━━━━━━━\u001b[0m\u001b[37m\u001b[0m \u001b[1m0s\u001b[0m 9ms/step - accuracy: 0.7918 - loss: 0.5726 - val_accuracy: 0.9653 - val_loss: 0.2999\n",
      "Epoch 43/1000\n",
      "\u001b[1m22/32\u001b[0m \u001b[32m━━━━━━━━━━━━━\u001b[0m\u001b[37m━━━━━━━\u001b[0m \u001b[1m0s\u001b[0m 3ms/step - accuracy: 0.8033 - loss: 0.5445 \n",
      "Epoch 43: saving model to model/point_history_classifier/point_history_classifier.h5\n"
     ]
    },
    {
     "name": "stderr",
     "output_type": "stream",
     "text": [
      "WARNING:absl:You are saving your model as an HDF5 file via `model.save()` or `keras.saving.save_model(model)`. This file format is considered legacy. We recommend using instead the native Keras format, e.g. `model.save('my_model.keras')` or `keras.saving.save_model(model, 'my_model.keras')`. \n"
     ]
    },
    {
     "name": "stdout",
     "output_type": "stream",
     "text": [
      "\u001b[1m32/32\u001b[0m \u001b[32m━━━━━━━━━━━━━━━━━━━━\u001b[0m\u001b[37m\u001b[0m \u001b[1m0s\u001b[0m 9ms/step - accuracy: 0.8034 - loss: 0.5462 - val_accuracy: 0.9668 - val_loss: 0.2959\n",
      "Epoch 44/1000\n",
      "\u001b[1m17/32\u001b[0m \u001b[32m━━━━━━━━━━\u001b[0m\u001b[37m━━━━━━━━━━\u001b[0m \u001b[1m0s\u001b[0m 4ms/step - accuracy: 0.8139 - loss: 0.5161 \n",
      "Epoch 44: saving model to model/point_history_classifier/point_history_classifier.h5\n"
     ]
    },
    {
     "name": "stderr",
     "output_type": "stream",
     "text": [
      "WARNING:absl:You are saving your model as an HDF5 file via `model.save()` or `keras.saving.save_model(model)`. This file format is considered legacy. We recommend using instead the native Keras format, e.g. `model.save('my_model.keras')` or `keras.saving.save_model(model, 'my_model.keras')`. \n"
     ]
    },
    {
     "name": "stdout",
     "output_type": "stream",
     "text": [
      "\u001b[1m32/32\u001b[0m \u001b[32m━━━━━━━━━━━━━━━━━━━━\u001b[0m\u001b[37m\u001b[0m \u001b[1m0s\u001b[0m 7ms/step - accuracy: 0.8063 - loss: 0.5333 - val_accuracy: 0.9675 - val_loss: 0.2916\n",
      "Epoch 45/1000\n",
      "\u001b[1m23/32\u001b[0m \u001b[32m━━━━━━━━━━━━━━\u001b[0m\u001b[37m━━━━━━\u001b[0m \u001b[1m0s\u001b[0m 3ms/step - accuracy: 0.8007 - loss: 0.5586 \n",
      "Epoch 45: saving model to model/point_history_classifier/point_history_classifier.h5\n"
     ]
    },
    {
     "name": "stderr",
     "output_type": "stream",
     "text": [
      "WARNING:absl:You are saving your model as an HDF5 file via `model.save()` or `keras.saving.save_model(model)`. This file format is considered legacy. We recommend using instead the native Keras format, e.g. `model.save('my_model.keras')` or `keras.saving.save_model(model, 'my_model.keras')`. \n"
     ]
    },
    {
     "name": "stdout",
     "output_type": "stream",
     "text": [
      "\u001b[1m32/32\u001b[0m \u001b[32m━━━━━━━━━━━━━━━━━━━━\u001b[0m\u001b[37m\u001b[0m \u001b[1m0s\u001b[0m 8ms/step - accuracy: 0.8030 - loss: 0.5550 - val_accuracy: 0.9668 - val_loss: 0.2875\n",
      "Epoch 46/1000\n",
      "\u001b[1m28/32\u001b[0m \u001b[32m━━━━━━━━━━━━━━━━━\u001b[0m\u001b[37m━━━\u001b[0m \u001b[1m0s\u001b[0m 2ms/step - accuracy: 0.8283 - loss: 0.4926 \n",
      "Epoch 46: saving model to model/point_history_classifier/point_history_classifier.h5\n"
     ]
    },
    {
     "name": "stderr",
     "output_type": "stream",
     "text": [
      "WARNING:absl:You are saving your model as an HDF5 file via `model.save()` or `keras.saving.save_model(model)`. This file format is considered legacy. We recommend using instead the native Keras format, e.g. `model.save('my_model.keras')` or `keras.saving.save_model(model, 'my_model.keras')`. \n"
     ]
    },
    {
     "name": "stdout",
     "output_type": "stream",
     "text": [
      "\u001b[1m32/32\u001b[0m \u001b[32m━━━━━━━━━━━━━━━━━━━━\u001b[0m\u001b[37m\u001b[0m \u001b[1m0s\u001b[0m 8ms/step - accuracy: 0.8269 - loss: 0.4965 - val_accuracy: 0.9645 - val_loss: 0.2871\n",
      "Epoch 47/1000\n",
      "\u001b[1m20/32\u001b[0m \u001b[32m━━━━━━━━━━━━\u001b[0m\u001b[37m━━━━━━━━\u001b[0m \u001b[1m0s\u001b[0m 3ms/step - accuracy: 0.8191 - loss: 0.5061 \n",
      "Epoch 47: saving model to model/point_history_classifier/point_history_classifier.h5\n"
     ]
    },
    {
     "name": "stderr",
     "output_type": "stream",
     "text": [
      "WARNING:absl:You are saving your model as an HDF5 file via `model.save()` or `keras.saving.save_model(model)`. This file format is considered legacy. We recommend using instead the native Keras format, e.g. `model.save('my_model.keras')` or `keras.saving.save_model(model, 'my_model.keras')`. \n"
     ]
    },
    {
     "name": "stdout",
     "output_type": "stream",
     "text": [
      "\u001b[1m32/32\u001b[0m \u001b[32m━━━━━━━━━━━━━━━━━━━━\u001b[0m\u001b[37m\u001b[0m \u001b[1m0s\u001b[0m 8ms/step - accuracy: 0.8183 - loss: 0.5086 - val_accuracy: 0.9645 - val_loss: 0.2843\n",
      "Epoch 48/1000\n",
      "\u001b[1m18/32\u001b[0m \u001b[32m━━━━━━━━━━━\u001b[0m\u001b[37m━━━━━━━━━\u001b[0m \u001b[1m0s\u001b[0m 4ms/step - accuracy: 0.8080 - loss: 0.5208 \n",
      "Epoch 48: saving model to model/point_history_classifier/point_history_classifier.h5\n"
     ]
    },
    {
     "name": "stderr",
     "output_type": "stream",
     "text": [
      "WARNING:absl:You are saving your model as an HDF5 file via `model.save()` or `keras.saving.save_model(model)`. This file format is considered legacy. We recommend using instead the native Keras format, e.g. `model.save('my_model.keras')` or `keras.saving.save_model(model, 'my_model.keras')`. \n"
     ]
    },
    {
     "name": "stdout",
     "output_type": "stream",
     "text": [
      "\u001b[1m32/32\u001b[0m \u001b[32m━━━━━━━━━━━━━━━━━━━━\u001b[0m\u001b[37m\u001b[0m \u001b[1m0s\u001b[0m 8ms/step - accuracy: 0.8075 - loss: 0.5252 - val_accuracy: 0.9660 - val_loss: 0.2809\n",
      "Epoch 49/1000\n",
      "\u001b[1m18/32\u001b[0m \u001b[32m━━━━━━━━━━━\u001b[0m\u001b[37m━━━━━━━━━\u001b[0m \u001b[1m0s\u001b[0m 4ms/step - accuracy: 0.8106 - loss: 0.5177 \n",
      "Epoch 49: saving model to model/point_history_classifier/point_history_classifier.h5\n"
     ]
    },
    {
     "name": "stderr",
     "output_type": "stream",
     "text": [
      "WARNING:absl:You are saving your model as an HDF5 file via `model.save()` or `keras.saving.save_model(model)`. This file format is considered legacy. We recommend using instead the native Keras format, e.g. `model.save('my_model.keras')` or `keras.saving.save_model(model, 'my_model.keras')`. \n"
     ]
    },
    {
     "name": "stdout",
     "output_type": "stream",
     "text": [
      "\u001b[1m32/32\u001b[0m \u001b[32m━━━━━━━━━━━━━━━━━━━━\u001b[0m\u001b[37m\u001b[0m \u001b[1m0s\u001b[0m 8ms/step - accuracy: 0.8119 - loss: 0.5239 - val_accuracy: 0.9637 - val_loss: 0.2752\n",
      "Epoch 50/1000\n",
      "\u001b[1m18/32\u001b[0m \u001b[32m━━━━━━━━━━━\u001b[0m\u001b[37m━━━━━━━━━\u001b[0m \u001b[1m0s\u001b[0m 4ms/step - accuracy: 0.7872 - loss: 0.5685 \n",
      "Epoch 50: saving model to model/point_history_classifier/point_history_classifier.h5\n"
     ]
    },
    {
     "name": "stderr",
     "output_type": "stream",
     "text": [
      "WARNING:absl:You are saving your model as an HDF5 file via `model.save()` or `keras.saving.save_model(model)`. This file format is considered legacy. We recommend using instead the native Keras format, e.g. `model.save('my_model.keras')` or `keras.saving.save_model(model, 'my_model.keras')`. \n"
     ]
    },
    {
     "name": "stdout",
     "output_type": "stream",
     "text": [
      "\u001b[1m32/32\u001b[0m \u001b[32m━━━━━━━━━━━━━━━━━━━━\u001b[0m\u001b[37m\u001b[0m \u001b[1m0s\u001b[0m 10ms/step - accuracy: 0.7937 - loss: 0.5590 - val_accuracy: 0.9653 - val_loss: 0.2756\n",
      "Epoch 51/1000\n",
      "\u001b[1m21/32\u001b[0m \u001b[32m━━━━━━━━━━━━━\u001b[0m\u001b[37m━━━━━━━\u001b[0m \u001b[1m0s\u001b[0m 3ms/step - accuracy: 0.8120 - loss: 0.5293 \n",
      "Epoch 51: saving model to model/point_history_classifier/point_history_classifier.h5\n"
     ]
    },
    {
     "name": "stderr",
     "output_type": "stream",
     "text": [
      "WARNING:absl:You are saving your model as an HDF5 file via `model.save()` or `keras.saving.save_model(model)`. This file format is considered legacy. We recommend using instead the native Keras format, e.g. `model.save('my_model.keras')` or `keras.saving.save_model(model, 'my_model.keras')`. \n"
     ]
    },
    {
     "name": "stdout",
     "output_type": "stream",
     "text": [
      "\u001b[1m32/32\u001b[0m \u001b[32m━━━━━━━━━━━━━━━━━━━━\u001b[0m\u001b[37m\u001b[0m \u001b[1m0s\u001b[0m 9ms/step - accuracy: 0.8120 - loss: 0.5259 - val_accuracy: 0.9660 - val_loss: 0.2725\n",
      "Epoch 52/1000\n",
      "\u001b[1m26/32\u001b[0m \u001b[32m━━━━━━━━━━━━━━━━\u001b[0m\u001b[37m━━━━\u001b[0m \u001b[1m0s\u001b[0m 3ms/step - accuracy: 0.8091 - loss: 0.5271 \n",
      "Epoch 52: saving model to model/point_history_classifier/point_history_classifier.h5\n"
     ]
    },
    {
     "name": "stderr",
     "output_type": "stream",
     "text": [
      "WARNING:absl:You are saving your model as an HDF5 file via `model.save()` or `keras.saving.save_model(model)`. This file format is considered legacy. We recommend using instead the native Keras format, e.g. `model.save('my_model.keras')` or `keras.saving.save_model(model, 'my_model.keras')`. \n"
     ]
    },
    {
     "name": "stdout",
     "output_type": "stream",
     "text": [
      "\u001b[1m32/32\u001b[0m \u001b[32m━━━━━━━━━━━━━━━━━━━━\u001b[0m\u001b[37m\u001b[0m \u001b[1m0s\u001b[0m 8ms/step - accuracy: 0.8102 - loss: 0.5261 - val_accuracy: 0.9630 - val_loss: 0.2700\n",
      "Epoch 53/1000\n",
      "\u001b[1m21/32\u001b[0m \u001b[32m━━━━━━━━━━━━━\u001b[0m\u001b[37m━━━━━━━\u001b[0m \u001b[1m0s\u001b[0m 3ms/step - accuracy: 0.8173 - loss: 0.5030 \n",
      "Epoch 53: saving model to model/point_history_classifier/point_history_classifier.h5\n"
     ]
    },
    {
     "name": "stderr",
     "output_type": "stream",
     "text": [
      "WARNING:absl:You are saving your model as an HDF5 file via `model.save()` or `keras.saving.save_model(model)`. This file format is considered legacy. We recommend using instead the native Keras format, e.g. `model.save('my_model.keras')` or `keras.saving.save_model(model, 'my_model.keras')`. \n"
     ]
    },
    {
     "name": "stdout",
     "output_type": "stream",
     "text": [
      "\u001b[1m32/32\u001b[0m \u001b[32m━━━━━━━━━━━━━━━━━━━━\u001b[0m\u001b[37m\u001b[0m \u001b[1m0s\u001b[0m 10ms/step - accuracy: 0.8180 - loss: 0.5078 - val_accuracy: 0.9668 - val_loss: 0.2656\n",
      "Epoch 54/1000\n",
      "\u001b[1m32/32\u001b[0m \u001b[32m━━━━━━━━━━━━━━━━━━━━\u001b[0m\u001b[37m\u001b[0m \u001b[1m0s\u001b[0m 2ms/step - accuracy: 0.8263 - loss: 0.5031 \n",
      "Epoch 54: saving model to model/point_history_classifier/point_history_classifier.h5\n"
     ]
    },
    {
     "name": "stderr",
     "output_type": "stream",
     "text": [
      "WARNING:absl:You are saving your model as an HDF5 file via `model.save()` or `keras.saving.save_model(model)`. This file format is considered legacy. We recommend using instead the native Keras format, e.g. `model.save('my_model.keras')` or `keras.saving.save_model(model, 'my_model.keras')`. \n"
     ]
    },
    {
     "name": "stdout",
     "output_type": "stream",
     "text": [
      "\u001b[1m32/32\u001b[0m \u001b[32m━━━━━━━━━━━━━━━━━━━━\u001b[0m\u001b[37m\u001b[0m \u001b[1m0s\u001b[0m 8ms/step - accuracy: 0.8261 - loss: 0.5032 - val_accuracy: 0.9683 - val_loss: 0.2651\n",
      "Epoch 55/1000\n",
      "\u001b[1m20/32\u001b[0m \u001b[32m━━━━━━━━━━━━\u001b[0m\u001b[37m━━━━━━━━\u001b[0m \u001b[1m0s\u001b[0m 3ms/step - accuracy: 0.8028 - loss: 0.5373 \n",
      "Epoch 55: saving model to model/point_history_classifier/point_history_classifier.h5\n"
     ]
    },
    {
     "name": "stderr",
     "output_type": "stream",
     "text": [
      "WARNING:absl:You are saving your model as an HDF5 file via `model.save()` or `keras.saving.save_model(model)`. This file format is considered legacy. We recommend using instead the native Keras format, e.g. `model.save('my_model.keras')` or `keras.saving.save_model(model, 'my_model.keras')`. \n"
     ]
    },
    {
     "name": "stdout",
     "output_type": "stream",
     "text": [
      "\u001b[1m32/32\u001b[0m \u001b[32m━━━━━━━━━━━━━━━━━━━━\u001b[0m\u001b[37m\u001b[0m \u001b[1m0s\u001b[0m 8ms/step - accuracy: 0.8060 - loss: 0.5325 - val_accuracy: 0.9660 - val_loss: 0.2674\n",
      "Epoch 56/1000\n",
      "\u001b[1m18/32\u001b[0m \u001b[32m━━━━━━━━━━━\u001b[0m\u001b[37m━━━━━━━━━\u001b[0m \u001b[1m0s\u001b[0m 4ms/step - accuracy: 0.8005 - loss: 0.5197 \n",
      "Epoch 56: saving model to model/point_history_classifier/point_history_classifier.h5\n"
     ]
    },
    {
     "name": "stderr",
     "output_type": "stream",
     "text": [
      "WARNING:absl:You are saving your model as an HDF5 file via `model.save()` or `keras.saving.save_model(model)`. This file format is considered legacy. We recommend using instead the native Keras format, e.g. `model.save('my_model.keras')` or `keras.saving.save_model(model, 'my_model.keras')`. \n"
     ]
    },
    {
     "name": "stdout",
     "output_type": "stream",
     "text": [
      "\u001b[1m32/32\u001b[0m \u001b[32m━━━━━━━━━━━━━━━━━━━━\u001b[0m\u001b[37m\u001b[0m \u001b[1m0s\u001b[0m 10ms/step - accuracy: 0.8035 - loss: 0.5194 - val_accuracy: 0.9668 - val_loss: 0.2650\n",
      "Epoch 57/1000\n",
      "\u001b[1m17/32\u001b[0m \u001b[32m━━━━━━━━━━\u001b[0m\u001b[37m━━━━━━━━━━\u001b[0m \u001b[1m0s\u001b[0m 4ms/step - accuracy: 0.8329 - loss: 0.4698 \n",
      "Epoch 57: saving model to model/point_history_classifier/point_history_classifier.h5\n"
     ]
    },
    {
     "name": "stderr",
     "output_type": "stream",
     "text": [
      "WARNING:absl:You are saving your model as an HDF5 file via `model.save()` or `keras.saving.save_model(model)`. This file format is considered legacy. We recommend using instead the native Keras format, e.g. `model.save('my_model.keras')` or `keras.saving.save_model(model, 'my_model.keras')`. \n"
     ]
    },
    {
     "name": "stdout",
     "output_type": "stream",
     "text": [
      "\u001b[1m32/32\u001b[0m \u001b[32m━━━━━━━━━━━━━━━━━━━━\u001b[0m\u001b[37m\u001b[0m \u001b[1m0s\u001b[0m 8ms/step - accuracy: 0.8280 - loss: 0.4844 - val_accuracy: 0.9690 - val_loss: 0.2611\n",
      "Epoch 58/1000\n",
      "\u001b[1m17/32\u001b[0m \u001b[32m━━━━━━━━━━\u001b[0m\u001b[37m━━━━━━━━━━\u001b[0m \u001b[1m0s\u001b[0m 4ms/step - accuracy: 0.8106 - loss: 0.5192 \n",
      "Epoch 58: saving model to model/point_history_classifier/point_history_classifier.h5\n"
     ]
    },
    {
     "name": "stderr",
     "output_type": "stream",
     "text": [
      "WARNING:absl:You are saving your model as an HDF5 file via `model.save()` or `keras.saving.save_model(model)`. This file format is considered legacy. We recommend using instead the native Keras format, e.g. `model.save('my_model.keras')` or `keras.saving.save_model(model, 'my_model.keras')`. \n"
     ]
    },
    {
     "name": "stdout",
     "output_type": "stream",
     "text": [
      "\u001b[1m32/32\u001b[0m \u001b[32m━━━━━━━━━━━━━━━━━━━━\u001b[0m\u001b[37m\u001b[0m \u001b[1m0s\u001b[0m 8ms/step - accuracy: 0.8111 - loss: 0.5200 - val_accuracy: 0.9675 - val_loss: 0.2619\n",
      "Epoch 59/1000\n",
      "\u001b[1m20/32\u001b[0m \u001b[32m━━━━━━━━━━━━\u001b[0m\u001b[37m━━━━━━━━\u001b[0m \u001b[1m0s\u001b[0m 3ms/step - accuracy: 0.8175 - loss: 0.5134 \n",
      "Epoch 59: saving model to model/point_history_classifier/point_history_classifier.h5\n"
     ]
    },
    {
     "name": "stderr",
     "output_type": "stream",
     "text": [
      "WARNING:absl:You are saving your model as an HDF5 file via `model.save()` or `keras.saving.save_model(model)`. This file format is considered legacy. We recommend using instead the native Keras format, e.g. `model.save('my_model.keras')` or `keras.saving.save_model(model, 'my_model.keras')`. \n"
     ]
    },
    {
     "name": "stdout",
     "output_type": "stream",
     "text": [
      "\u001b[1m32/32\u001b[0m \u001b[32m━━━━━━━━━━━━━━━━━━━━\u001b[0m\u001b[37m\u001b[0m \u001b[1m0s\u001b[0m 9ms/step - accuracy: 0.8195 - loss: 0.5049 - val_accuracy: 0.9630 - val_loss: 0.2590\n",
      "Epoch 60/1000\n",
      "\u001b[1m21/32\u001b[0m \u001b[32m━━━━━━━━━━━━━\u001b[0m\u001b[37m━━━━━━━\u001b[0m \u001b[1m0s\u001b[0m 3ms/step - accuracy: 0.8331 - loss: 0.4759 \n",
      "Epoch 60: saving model to model/point_history_classifier/point_history_classifier.h5\n"
     ]
    },
    {
     "name": "stderr",
     "output_type": "stream",
     "text": [
      "WARNING:absl:You are saving your model as an HDF5 file via `model.save()` or `keras.saving.save_model(model)`. This file format is considered legacy. We recommend using instead the native Keras format, e.g. `model.save('my_model.keras')` or `keras.saving.save_model(model, 'my_model.keras')`. \n"
     ]
    },
    {
     "name": "stdout",
     "output_type": "stream",
     "text": [
      "\u001b[1m32/32\u001b[0m \u001b[32m━━━━━━━━━━━━━━━━━━━━\u001b[0m\u001b[37m\u001b[0m \u001b[1m0s\u001b[0m 8ms/step - accuracy: 0.8284 - loss: 0.4886 - val_accuracy: 0.9675 - val_loss: 0.2585\n",
      "Epoch 61/1000\n",
      "\u001b[1m18/32\u001b[0m \u001b[32m━━━━━━━━━━━\u001b[0m\u001b[37m━━━━━━━━━\u001b[0m \u001b[1m0s\u001b[0m 4ms/step - accuracy: 0.8175 - loss: 0.5104 \n",
      "Epoch 61: saving model to model/point_history_classifier/point_history_classifier.h5\n"
     ]
    },
    {
     "name": "stderr",
     "output_type": "stream",
     "text": [
      "WARNING:absl:You are saving your model as an HDF5 file via `model.save()` or `keras.saving.save_model(model)`. This file format is considered legacy. We recommend using instead the native Keras format, e.g. `model.save('my_model.keras')` or `keras.saving.save_model(model, 'my_model.keras')`. \n"
     ]
    },
    {
     "name": "stdout",
     "output_type": "stream",
     "text": [
      "\u001b[1m32/32\u001b[0m \u001b[32m━━━━━━━━━━━━━━━━━━━━\u001b[0m\u001b[37m\u001b[0m \u001b[1m0s\u001b[0m 8ms/step - accuracy: 0.8154 - loss: 0.5102 - val_accuracy: 0.9683 - val_loss: 0.2551\n",
      "Epoch 62/1000\n",
      "\u001b[1m25/32\u001b[0m \u001b[32m━━━━━━━━━━━━━━━\u001b[0m\u001b[37m━━━━━\u001b[0m \u001b[1m0s\u001b[0m 2ms/step - accuracy: 0.8172 - loss: 0.5361 \n",
      "Epoch 62: saving model to model/point_history_classifier/point_history_classifier.h5\n"
     ]
    },
    {
     "name": "stderr",
     "output_type": "stream",
     "text": [
      "WARNING:absl:You are saving your model as an HDF5 file via `model.save()` or `keras.saving.save_model(model)`. This file format is considered legacy. We recommend using instead the native Keras format, e.g. `model.save('my_model.keras')` or `keras.saving.save_model(model, 'my_model.keras')`. \n"
     ]
    },
    {
     "name": "stdout",
     "output_type": "stream",
     "text": [
      "\u001b[1m32/32\u001b[0m \u001b[32m━━━━━━━━━━━━━━━━━━━━\u001b[0m\u001b[37m\u001b[0m \u001b[1m0s\u001b[0m 6ms/step - accuracy: 0.8184 - loss: 0.5286 - val_accuracy: 0.9653 - val_loss: 0.2533\n",
      "Epoch 63/1000\n",
      "\u001b[1m23/32\u001b[0m \u001b[32m━━━━━━━━━━━━━━\u001b[0m\u001b[37m━━━━━━\u001b[0m \u001b[1m0s\u001b[0m 3ms/step - accuracy: 0.8136 - loss: 0.5322 \n",
      "Epoch 63: saving model to model/point_history_classifier/point_history_classifier.h5\n"
     ]
    },
    {
     "name": "stderr",
     "output_type": "stream",
     "text": [
      "WARNING:absl:You are saving your model as an HDF5 file via `model.save()` or `keras.saving.save_model(model)`. This file format is considered legacy. We recommend using instead the native Keras format, e.g. `model.save('my_model.keras')` or `keras.saving.save_model(model, 'my_model.keras')`. \n"
     ]
    },
    {
     "name": "stdout",
     "output_type": "stream",
     "text": [
      "\u001b[1m32/32\u001b[0m \u001b[32m━━━━━━━━━━━━━━━━━━━━\u001b[0m\u001b[37m\u001b[0m \u001b[1m0s\u001b[0m 10ms/step - accuracy: 0.8131 - loss: 0.5308 - val_accuracy: 0.9660 - val_loss: 0.2534\n",
      "Epoch 64/1000\n",
      "\u001b[1m21/32\u001b[0m \u001b[32m━━━━━━━━━━━━━\u001b[0m\u001b[37m━━━━━━━\u001b[0m \u001b[1m0s\u001b[0m 3ms/step - accuracy: 0.8259 - loss: 0.5062 \n",
      "Epoch 64: saving model to model/point_history_classifier/point_history_classifier.h5\n"
     ]
    },
    {
     "name": "stderr",
     "output_type": "stream",
     "text": [
      "WARNING:absl:You are saving your model as an HDF5 file via `model.save()` or `keras.saving.save_model(model)`. This file format is considered legacy. We recommend using instead the native Keras format, e.g. `model.save('my_model.keras')` or `keras.saving.save_model(model, 'my_model.keras')`. \n"
     ]
    },
    {
     "name": "stdout",
     "output_type": "stream",
     "text": [
      "\u001b[1m32/32\u001b[0m \u001b[32m━━━━━━━━━━━━━━━━━━━━\u001b[0m\u001b[37m\u001b[0m \u001b[1m0s\u001b[0m 8ms/step - accuracy: 0.8261 - loss: 0.5015 - val_accuracy: 0.9668 - val_loss: 0.2510\n",
      "Epoch 65/1000\n",
      "\u001b[1m21/32\u001b[0m \u001b[32m━━━━━━━━━━━━━\u001b[0m\u001b[37m━━━━━━━\u001b[0m \u001b[1m0s\u001b[0m 3ms/step - accuracy: 0.8170 - loss: 0.5178 \n",
      "Epoch 65: saving model to model/point_history_classifier/point_history_classifier.h5\n"
     ]
    },
    {
     "name": "stderr",
     "output_type": "stream",
     "text": [
      "WARNING:absl:You are saving your model as an HDF5 file via `model.save()` or `keras.saving.save_model(model)`. This file format is considered legacy. We recommend using instead the native Keras format, e.g. `model.save('my_model.keras')` or `keras.saving.save_model(model, 'my_model.keras')`. \n"
     ]
    },
    {
     "name": "stdout",
     "output_type": "stream",
     "text": [
      "\u001b[1m32/32\u001b[0m \u001b[32m━━━━━━━━━━━━━━━━━━━━\u001b[0m\u001b[37m\u001b[0m \u001b[1m0s\u001b[0m 10ms/step - accuracy: 0.8208 - loss: 0.5104 - val_accuracy: 0.9653 - val_loss: 0.2500\n",
      "Epoch 66/1000\n",
      "\u001b[1m29/32\u001b[0m \u001b[32m━━━━━━━━━━━━━━━━━━\u001b[0m\u001b[37m━━\u001b[0m \u001b[1m0s\u001b[0m 2ms/step - accuracy: 0.8343 - loss: 0.4833 \n",
      "Epoch 66: saving model to model/point_history_classifier/point_history_classifier.h5\n"
     ]
    },
    {
     "name": "stderr",
     "output_type": "stream",
     "text": [
      "WARNING:absl:You are saving your model as an HDF5 file via `model.save()` or `keras.saving.save_model(model)`. This file format is considered legacy. We recommend using instead the native Keras format, e.g. `model.save('my_model.keras')` or `keras.saving.save_model(model, 'my_model.keras')`. \n"
     ]
    },
    {
     "name": "stdout",
     "output_type": "stream",
     "text": [
      "\u001b[1m32/32\u001b[0m \u001b[32m━━━━━━━━━━━━━━━━━━━━\u001b[0m\u001b[37m\u001b[0m \u001b[1m0s\u001b[0m 7ms/step - accuracy: 0.8330 - loss: 0.4860 - val_accuracy: 0.9675 - val_loss: 0.2484\n",
      "Epoch 67/1000\n",
      "\u001b[1m15/32\u001b[0m \u001b[32m━━━━━━━━━\u001b[0m\u001b[37m━━━━━━━━━━━\u001b[0m \u001b[1m0s\u001b[0m 4ms/step - accuracy: 0.8294 - loss: 0.4809 \n",
      "Epoch 67: saving model to model/point_history_classifier/point_history_classifier.h5\n"
     ]
    },
    {
     "name": "stderr",
     "output_type": "stream",
     "text": [
      "WARNING:absl:You are saving your model as an HDF5 file via `model.save()` or `keras.saving.save_model(model)`. This file format is considered legacy. We recommend using instead the native Keras format, e.g. `model.save('my_model.keras')` or `keras.saving.save_model(model, 'my_model.keras')`. \n"
     ]
    },
    {
     "name": "stdout",
     "output_type": "stream",
     "text": [
      "\u001b[1m32/32\u001b[0m \u001b[32m━━━━━━━━━━━━━━━━━━━━\u001b[0m\u001b[37m\u001b[0m \u001b[1m0s\u001b[0m 8ms/step - accuracy: 0.8277 - loss: 0.4831 - val_accuracy: 0.9675 - val_loss: 0.2495\n",
      "Epoch 68/1000\n",
      "\u001b[1m21/32\u001b[0m \u001b[32m━━━━━━━━━━━━━\u001b[0m\u001b[37m━━━━━━━\u001b[0m \u001b[1m0s\u001b[0m 3ms/step - accuracy: 0.8188 - loss: 0.4920 \n",
      "Epoch 68: saving model to model/point_history_classifier/point_history_classifier.h5\n"
     ]
    },
    {
     "name": "stderr",
     "output_type": "stream",
     "text": [
      "WARNING:absl:You are saving your model as an HDF5 file via `model.save()` or `keras.saving.save_model(model)`. This file format is considered legacy. We recommend using instead the native Keras format, e.g. `model.save('my_model.keras')` or `keras.saving.save_model(model, 'my_model.keras')`. \n"
     ]
    },
    {
     "name": "stdout",
     "output_type": "stream",
     "text": [
      "\u001b[1m32/32\u001b[0m \u001b[32m━━━━━━━━━━━━━━━━━━━━\u001b[0m\u001b[37m\u001b[0m \u001b[1m0s\u001b[0m 6ms/step - accuracy: 0.8178 - loss: 0.4951 - val_accuracy: 0.9675 - val_loss: 0.2502\n",
      "Epoch 69/1000\n",
      "\u001b[1m21/32\u001b[0m \u001b[32m━━━━━━━━━━━━━\u001b[0m\u001b[37m━━━━━━━\u001b[0m \u001b[1m0s\u001b[0m 3ms/step - accuracy: 0.8276 - loss: 0.4935 \n",
      "Epoch 69: saving model to model/point_history_classifier/point_history_classifier.h5\n"
     ]
    },
    {
     "name": "stderr",
     "output_type": "stream",
     "text": [
      "WARNING:absl:You are saving your model as an HDF5 file via `model.save()` or `keras.saving.save_model(model)`. This file format is considered legacy. We recommend using instead the native Keras format, e.g. `model.save('my_model.keras')` or `keras.saving.save_model(model, 'my_model.keras')`. \n"
     ]
    },
    {
     "name": "stdout",
     "output_type": "stream",
     "text": [
      "\u001b[1m32/32\u001b[0m \u001b[32m━━━━━━━━━━━━━━━━━━━━\u001b[0m\u001b[37m\u001b[0m \u001b[1m0s\u001b[0m 7ms/step - accuracy: 0.8251 - loss: 0.4973 - val_accuracy: 0.9698 - val_loss: 0.2495\n",
      "Epoch 70/1000\n",
      "\u001b[1m19/32\u001b[0m \u001b[32m━━━━━━━━━━━\u001b[0m\u001b[37m━━━━━━━━━\u001b[0m \u001b[1m0s\u001b[0m 3ms/step - accuracy: 0.8135 - loss: 0.5790 \n",
      "Epoch 70: saving model to model/point_history_classifier/point_history_classifier.h5\n"
     ]
    },
    {
     "name": "stderr",
     "output_type": "stream",
     "text": [
      "WARNING:absl:You are saving your model as an HDF5 file via `model.save()` or `keras.saving.save_model(model)`. This file format is considered legacy. We recommend using instead the native Keras format, e.g. `model.save('my_model.keras')` or `keras.saving.save_model(model, 'my_model.keras')`. \n"
     ]
    },
    {
     "name": "stdout",
     "output_type": "stream",
     "text": [
      "\u001b[1m32/32\u001b[0m \u001b[32m━━━━━━━━━━━━━━━━━━━━\u001b[0m\u001b[37m\u001b[0m \u001b[1m0s\u001b[0m 8ms/step - accuracy: 0.8178 - loss: 0.5474 - val_accuracy: 0.9690 - val_loss: 0.2474\n",
      "Epoch 71/1000\n",
      "\u001b[1m23/32\u001b[0m \u001b[32m━━━━━━━━━━━━━━\u001b[0m\u001b[37m━━━━━━\u001b[0m \u001b[1m0s\u001b[0m 2ms/step - accuracy: 0.8098 - loss: 0.5114 \n",
      "Epoch 71: saving model to model/point_history_classifier/point_history_classifier.h5\n"
     ]
    },
    {
     "name": "stderr",
     "output_type": "stream",
     "text": [
      "WARNING:absl:You are saving your model as an HDF5 file via `model.save()` or `keras.saving.save_model(model)`. This file format is considered legacy. We recommend using instead the native Keras format, e.g. `model.save('my_model.keras')` or `keras.saving.save_model(model, 'my_model.keras')`. \n"
     ]
    },
    {
     "name": "stdout",
     "output_type": "stream",
     "text": [
      "\u001b[1m32/32\u001b[0m \u001b[32m━━━━━━━━━━━━━━━━━━━━\u001b[0m\u001b[37m\u001b[0m \u001b[1m0s\u001b[0m 7ms/step - accuracy: 0.8128 - loss: 0.5069 - val_accuracy: 0.9705 - val_loss: 0.2465\n",
      "Epoch 72/1000\n",
      "\u001b[1m22/32\u001b[0m \u001b[32m━━━━━━━━━━━━━\u001b[0m\u001b[37m━━━━━━━\u001b[0m \u001b[1m0s\u001b[0m 3ms/step - accuracy: 0.8159 - loss: 0.5126 \n",
      "Epoch 72: saving model to model/point_history_classifier/point_history_classifier.h5\n"
     ]
    },
    {
     "name": "stderr",
     "output_type": "stream",
     "text": [
      "WARNING:absl:You are saving your model as an HDF5 file via `model.save()` or `keras.saving.save_model(model)`. This file format is considered legacy. We recommend using instead the native Keras format, e.g. `model.save('my_model.keras')` or `keras.saving.save_model(model, 'my_model.keras')`. \n"
     ]
    },
    {
     "name": "stdout",
     "output_type": "stream",
     "text": [
      "\u001b[1m32/32\u001b[0m \u001b[32m━━━━━━━━━━━━━━━━━━━━\u001b[0m\u001b[37m\u001b[0m \u001b[1m0s\u001b[0m 8ms/step - accuracy: 0.8189 - loss: 0.5026 - val_accuracy: 0.9675 - val_loss: 0.2483\n",
      "Epoch 73/1000\n",
      "\u001b[1m26/32\u001b[0m \u001b[32m━━━━━━━━━━━━━━━━\u001b[0m\u001b[37m━━━━\u001b[0m \u001b[1m0s\u001b[0m 2ms/step - accuracy: 0.8347 - loss: 0.4820 \n",
      "Epoch 73: saving model to model/point_history_classifier/point_history_classifier.h5\n"
     ]
    },
    {
     "name": "stderr",
     "output_type": "stream",
     "text": [
      "WARNING:absl:You are saving your model as an HDF5 file via `model.save()` or `keras.saving.save_model(model)`. This file format is considered legacy. We recommend using instead the native Keras format, e.g. `model.save('my_model.keras')` or `keras.saving.save_model(model, 'my_model.keras')`. \n"
     ]
    },
    {
     "name": "stdout",
     "output_type": "stream",
     "text": [
      "\u001b[1m32/32\u001b[0m \u001b[32m━━━━━━━━━━━━━━━━━━━━\u001b[0m\u001b[37m\u001b[0m \u001b[1m0s\u001b[0m 8ms/step - accuracy: 0.8330 - loss: 0.4830 - val_accuracy: 0.9668 - val_loss: 0.2479\n",
      "Epoch 74/1000\n",
      "\u001b[1m20/32\u001b[0m \u001b[32m━━━━━━━━━━━━\u001b[0m\u001b[37m━━━━━━━━\u001b[0m \u001b[1m0s\u001b[0m 3ms/step - accuracy: 0.8247 - loss: 0.4782 \n",
      "Epoch 74: saving model to model/point_history_classifier/point_history_classifier.h5\n"
     ]
    },
    {
     "name": "stderr",
     "output_type": "stream",
     "text": [
      "WARNING:absl:You are saving your model as an HDF5 file via `model.save()` or `keras.saving.save_model(model)`. This file format is considered legacy. We recommend using instead the native Keras format, e.g. `model.save('my_model.keras')` or `keras.saving.save_model(model, 'my_model.keras')`. \n"
     ]
    },
    {
     "name": "stdout",
     "output_type": "stream",
     "text": [
      "\u001b[1m32/32\u001b[0m \u001b[32m━━━━━━━━━━━━━━━━━━━━\u001b[0m\u001b[37m\u001b[0m \u001b[1m0s\u001b[0m 7ms/step - accuracy: 0.8279 - loss: 0.4758 - val_accuracy: 0.9705 - val_loss: 0.2434\n",
      "Epoch 75/1000\n",
      "\u001b[1m11/32\u001b[0m \u001b[32m━━━━━━\u001b[0m\u001b[37m━━━━━━━━━━━━━━\u001b[0m \u001b[1m0s\u001b[0m 5ms/step - accuracy: 0.8035 - loss: 0.5376 \n",
      "Epoch 75: saving model to model/point_history_classifier/point_history_classifier.h5\n"
     ]
    },
    {
     "name": "stderr",
     "output_type": "stream",
     "text": [
      "WARNING:absl:You are saving your model as an HDF5 file via `model.save()` or `keras.saving.save_model(model)`. This file format is considered legacy. We recommend using instead the native Keras format, e.g. `model.save('my_model.keras')` or `keras.saving.save_model(model, 'my_model.keras')`. \n"
     ]
    },
    {
     "name": "stdout",
     "output_type": "stream",
     "text": [
      "\u001b[1m32/32\u001b[0m \u001b[32m━━━━━━━━━━━━━━━━━━━━\u001b[0m\u001b[37m\u001b[0m \u001b[1m0s\u001b[0m 8ms/step - accuracy: 0.8148 - loss: 0.5035 - val_accuracy: 0.9683 - val_loss: 0.2418\n",
      "Epoch 76/1000\n",
      "\u001b[1m20/32\u001b[0m \u001b[32m━━━━━━━━━━━━\u001b[0m\u001b[37m━━━━━━━━\u001b[0m \u001b[1m0s\u001b[0m 3ms/step - accuracy: 0.8306 - loss: 0.4775 \n",
      "Epoch 76: saving model to model/point_history_classifier/point_history_classifier.h5\n"
     ]
    },
    {
     "name": "stderr",
     "output_type": "stream",
     "text": [
      "WARNING:absl:You are saving your model as an HDF5 file via `model.save()` or `keras.saving.save_model(model)`. This file format is considered legacy. We recommend using instead the native Keras format, e.g. `model.save('my_model.keras')` or `keras.saving.save_model(model, 'my_model.keras')`. \n"
     ]
    },
    {
     "name": "stdout",
     "output_type": "stream",
     "text": [
      "\u001b[1m32/32\u001b[0m \u001b[32m━━━━━━━━━━━━━━━━━━━━\u001b[0m\u001b[37m\u001b[0m \u001b[1m0s\u001b[0m 6ms/step - accuracy: 0.8311 - loss: 0.4776 - val_accuracy: 0.9698 - val_loss: 0.2417\n",
      "Epoch 77/1000\n",
      "\u001b[1m 1/32\u001b[0m \u001b[37m━━━━━━━━━━━━━━━━━━━━\u001b[0m \u001b[1m0s\u001b[0m 32ms/step - accuracy: 0.7422 - loss: 0.7442\n",
      "Epoch 77: saving model to model/point_history_classifier/point_history_classifier.h5\n"
     ]
    },
    {
     "name": "stderr",
     "output_type": "stream",
     "text": [
      "WARNING:absl:You are saving your model as an HDF5 file via `model.save()` or `keras.saving.save_model(model)`. This file format is considered legacy. We recommend using instead the native Keras format, e.g. `model.save('my_model.keras')` or `keras.saving.save_model(model, 'my_model.keras')`. \n"
     ]
    },
    {
     "name": "stdout",
     "output_type": "stream",
     "text": [
      "\u001b[1m32/32\u001b[0m \u001b[32m━━━━━━━━━━━━━━━━━━━━\u001b[0m\u001b[37m\u001b[0m \u001b[1m0s\u001b[0m 6ms/step - accuracy: 0.8258 - loss: 0.4947 - val_accuracy: 0.9690 - val_loss: 0.2398\n",
      "Epoch 78/1000\n",
      "\u001b[1m23/32\u001b[0m \u001b[32m━━━━━━━━━━━━━━\u001b[0m\u001b[37m━━━━━━\u001b[0m \u001b[1m0s\u001b[0m 3ms/step - accuracy: 0.8164 - loss: 0.4949 \n",
      "Epoch 78: saving model to model/point_history_classifier/point_history_classifier.h5\n"
     ]
    },
    {
     "name": "stderr",
     "output_type": "stream",
     "text": [
      "WARNING:absl:You are saving your model as an HDF5 file via `model.save()` or `keras.saving.save_model(model)`. This file format is considered legacy. We recommend using instead the native Keras format, e.g. `model.save('my_model.keras')` or `keras.saving.save_model(model, 'my_model.keras')`. \n"
     ]
    },
    {
     "name": "stdout",
     "output_type": "stream",
     "text": [
      "\u001b[1m32/32\u001b[0m \u001b[32m━━━━━━━━━━━━━━━━━━━━\u001b[0m\u001b[37m\u001b[0m \u001b[1m0s\u001b[0m 9ms/step - accuracy: 0.8182 - loss: 0.4915 - val_accuracy: 0.9683 - val_loss: 0.2393\n",
      "Epoch 79/1000\n",
      "\u001b[1m19/32\u001b[0m \u001b[32m━━━━━━━━━━━\u001b[0m\u001b[37m━━━━━━━━━\u001b[0m \u001b[1m0s\u001b[0m 3ms/step - accuracy: 0.8344 - loss: 0.4776 \n",
      "Epoch 79: saving model to model/point_history_classifier/point_history_classifier.h5\n"
     ]
    },
    {
     "name": "stderr",
     "output_type": "stream",
     "text": [
      "WARNING:absl:You are saving your model as an HDF5 file via `model.save()` or `keras.saving.save_model(model)`. This file format is considered legacy. We recommend using instead the native Keras format, e.g. `model.save('my_model.keras')` or `keras.saving.save_model(model, 'my_model.keras')`. \n"
     ]
    },
    {
     "name": "stdout",
     "output_type": "stream",
     "text": [
      "\u001b[1m32/32\u001b[0m \u001b[32m━━━━━━━━━━━━━━━━━━━━\u001b[0m\u001b[37m\u001b[0m \u001b[1m0s\u001b[0m 7ms/step - accuracy: 0.8340 - loss: 0.4735 - val_accuracy: 0.9683 - val_loss: 0.2375\n",
      "Epoch 80/1000\n",
      "\u001b[1m23/32\u001b[0m \u001b[32m━━━━━━━━━━━━━━\u001b[0m\u001b[37m━━━━━━\u001b[0m \u001b[1m0s\u001b[0m 3ms/step - accuracy: 0.8292 - loss: 0.4692 \n",
      "Epoch 80: saving model to model/point_history_classifier/point_history_classifier.h5\n"
     ]
    },
    {
     "name": "stderr",
     "output_type": "stream",
     "text": [
      "WARNING:absl:You are saving your model as an HDF5 file via `model.save()` or `keras.saving.save_model(model)`. This file format is considered legacy. We recommend using instead the native Keras format, e.g. `model.save('my_model.keras')` or `keras.saving.save_model(model, 'my_model.keras')`. \n"
     ]
    },
    {
     "name": "stdout",
     "output_type": "stream",
     "text": [
      "\u001b[1m32/32\u001b[0m \u001b[32m━━━━━━━━━━━━━━━━━━━━\u001b[0m\u001b[37m\u001b[0m \u001b[1m0s\u001b[0m 7ms/step - accuracy: 0.8277 - loss: 0.4734 - val_accuracy: 0.9713 - val_loss: 0.2373\n",
      "Epoch 81/1000\n",
      "\u001b[1m16/32\u001b[0m \u001b[32m━━━━━━━━━━\u001b[0m\u001b[37m━━━━━━━━━━\u001b[0m \u001b[1m0s\u001b[0m 4ms/step - accuracy: 0.8323 - loss: 0.4780 \n",
      "Epoch 81: saving model to model/point_history_classifier/point_history_classifier.h5\n"
     ]
    },
    {
     "name": "stderr",
     "output_type": "stream",
     "text": [
      "WARNING:absl:You are saving your model as an HDF5 file via `model.save()` or `keras.saving.save_model(model)`. This file format is considered legacy. We recommend using instead the native Keras format, e.g. `model.save('my_model.keras')` or `keras.saving.save_model(model, 'my_model.keras')`. \n"
     ]
    },
    {
     "name": "stdout",
     "output_type": "stream",
     "text": [
      "\u001b[1m32/32\u001b[0m \u001b[32m━━━━━━━━━━━━━━━━━━━━\u001b[0m\u001b[37m\u001b[0m \u001b[1m0s\u001b[0m 9ms/step - accuracy: 0.8308 - loss: 0.4747 - val_accuracy: 0.9698 - val_loss: 0.2382\n",
      "Epoch 82/1000\n",
      "\u001b[1m21/32\u001b[0m \u001b[32m━━━━━━━━━━━━━\u001b[0m\u001b[37m━━━━━━━\u001b[0m \u001b[1m0s\u001b[0m 3ms/step - accuracy: 0.8193 - loss: 0.4979 \n",
      "Epoch 82: saving model to model/point_history_classifier/point_history_classifier.h5\n"
     ]
    },
    {
     "name": "stderr",
     "output_type": "stream",
     "text": [
      "WARNING:absl:You are saving your model as an HDF5 file via `model.save()` or `keras.saving.save_model(model)`. This file format is considered legacy. We recommend using instead the native Keras format, e.g. `model.save('my_model.keras')` or `keras.saving.save_model(model, 'my_model.keras')`. \n"
     ]
    },
    {
     "name": "stdout",
     "output_type": "stream",
     "text": [
      "\u001b[1m32/32\u001b[0m \u001b[32m━━━━━━━━━━━━━━━━━━━━\u001b[0m\u001b[37m\u001b[0m \u001b[1m0s\u001b[0m 7ms/step - accuracy: 0.8230 - loss: 0.4925 - val_accuracy: 0.9713 - val_loss: 0.2356\n",
      "Epoch 83/1000\n",
      "\u001b[1m20/32\u001b[0m \u001b[32m━━━━━━━━━━━━\u001b[0m\u001b[37m━━━━━━━━\u001b[0m \u001b[1m0s\u001b[0m 3ms/step - accuracy: 0.8265 - loss: 0.4897 \n",
      "Epoch 83: saving model to model/point_history_classifier/point_history_classifier.h5\n"
     ]
    },
    {
     "name": "stderr",
     "output_type": "stream",
     "text": [
      "WARNING:absl:You are saving your model as an HDF5 file via `model.save()` or `keras.saving.save_model(model)`. This file format is considered legacy. We recommend using instead the native Keras format, e.g. `model.save('my_model.keras')` or `keras.saving.save_model(model, 'my_model.keras')`. \n"
     ]
    },
    {
     "name": "stdout",
     "output_type": "stream",
     "text": [
      "\u001b[1m32/32\u001b[0m \u001b[32m━━━━━━━━━━━━━━━━━━━━\u001b[0m\u001b[37m\u001b[0m \u001b[1m0s\u001b[0m 7ms/step - accuracy: 0.8291 - loss: 0.4836 - val_accuracy: 0.9713 - val_loss: 0.2334\n",
      "Epoch 84/1000\n",
      "\u001b[1m17/32\u001b[0m \u001b[32m━━━━━━━━━━\u001b[0m\u001b[37m━━━━━━━━━━\u001b[0m \u001b[1m0s\u001b[0m 4ms/step - accuracy: 0.8451 - loss: 0.4636 \n",
      "Epoch 84: saving model to model/point_history_classifier/point_history_classifier.h5\n"
     ]
    },
    {
     "name": "stderr",
     "output_type": "stream",
     "text": [
      "WARNING:absl:You are saving your model as an HDF5 file via `model.save()` or `keras.saving.save_model(model)`. This file format is considered legacy. We recommend using instead the native Keras format, e.g. `model.save('my_model.keras')` or `keras.saving.save_model(model, 'my_model.keras')`. \n"
     ]
    },
    {
     "name": "stdout",
     "output_type": "stream",
     "text": [
      "\u001b[1m32/32\u001b[0m \u001b[32m━━━━━━━━━━━━━━━━━━━━\u001b[0m\u001b[37m\u001b[0m \u001b[1m0s\u001b[0m 8ms/step - accuracy: 0.8395 - loss: 0.4634 - val_accuracy: 0.9705 - val_loss: 0.2324\n",
      "Epoch 85/1000\n",
      "\u001b[1m 1/32\u001b[0m \u001b[37m━━━━━━━━━━━━━━━━━━━━\u001b[0m \u001b[1m1s\u001b[0m 37ms/step - accuracy: 0.8281 - loss: 0.4290\n",
      "Epoch 85: saving model to model/point_history_classifier/point_history_classifier.h5\n"
     ]
    },
    {
     "name": "stderr",
     "output_type": "stream",
     "text": [
      "WARNING:absl:You are saving your model as an HDF5 file via `model.save()` or `keras.saving.save_model(model)`. This file format is considered legacy. We recommend using instead the native Keras format, e.g. `model.save('my_model.keras')` or `keras.saving.save_model(model, 'my_model.keras')`. \n"
     ]
    },
    {
     "name": "stdout",
     "output_type": "stream",
     "text": [
      "\u001b[1m32/32\u001b[0m \u001b[32m━━━━━━━━━━━━━━━━━━━━\u001b[0m\u001b[37m\u001b[0m \u001b[1m0s\u001b[0m 5ms/step - accuracy: 0.8295 - loss: 0.4659 - val_accuracy: 0.9713 - val_loss: 0.2300\n",
      "Epoch 86/1000\n",
      "\u001b[1m30/32\u001b[0m \u001b[32m━━━━━━━━━━━━━━━━━━\u001b[0m\u001b[37m━━\u001b[0m \u001b[1m0s\u001b[0m 2ms/step - accuracy: 0.8320 - loss: 0.4700 \n",
      "Epoch 86: saving model to model/point_history_classifier/point_history_classifier.h5\n"
     ]
    },
    {
     "name": "stderr",
     "output_type": "stream",
     "text": [
      "WARNING:absl:You are saving your model as an HDF5 file via `model.save()` or `keras.saving.save_model(model)`. This file format is considered legacy. We recommend using instead the native Keras format, e.g. `model.save('my_model.keras')` or `keras.saving.save_model(model, 'my_model.keras')`. \n"
     ]
    },
    {
     "name": "stdout",
     "output_type": "stream",
     "text": [
      "\u001b[1m32/32\u001b[0m \u001b[32m━━━━━━━━━━━━━━━━━━━━\u001b[0m\u001b[37m\u001b[0m \u001b[1m0s\u001b[0m 7ms/step - accuracy: 0.8318 - loss: 0.4700 - val_accuracy: 0.9721 - val_loss: 0.2316\n",
      "Epoch 87/1000\n",
      "\u001b[1m27/32\u001b[0m \u001b[32m━━━━━━━━━━━━━━━━\u001b[0m\u001b[37m━━━━\u001b[0m \u001b[1m0s\u001b[0m 2ms/step - accuracy: 0.8347 - loss: 0.4830 \n",
      "Epoch 87: saving model to model/point_history_classifier/point_history_classifier.h5\n"
     ]
    },
    {
     "name": "stderr",
     "output_type": "stream",
     "text": [
      "WARNING:absl:You are saving your model as an HDF5 file via `model.save()` or `keras.saving.save_model(model)`. This file format is considered legacy. We recommend using instead the native Keras format, e.g. `model.save('my_model.keras')` or `keras.saving.save_model(model, 'my_model.keras')`. \n"
     ]
    },
    {
     "name": "stdout",
     "output_type": "stream",
     "text": [
      "\u001b[1m32/32\u001b[0m \u001b[32m━━━━━━━━━━━━━━━━━━━━\u001b[0m\u001b[37m\u001b[0m \u001b[1m0s\u001b[0m 10ms/step - accuracy: 0.8337 - loss: 0.4852 - val_accuracy: 0.9705 - val_loss: 0.2317\n",
      "Epoch 88/1000\n",
      "\u001b[1m 1/32\u001b[0m \u001b[37m━━━━━━━━━━━━━━━━━━━━\u001b[0m \u001b[1m1s\u001b[0m 50ms/step - accuracy: 0.8438 - loss: 0.3752\n",
      "Epoch 88: saving model to model/point_history_classifier/point_history_classifier.h5\n"
     ]
    },
    {
     "name": "stderr",
     "output_type": "stream",
     "text": [
      "WARNING:absl:You are saving your model as an HDF5 file via `model.save()` or `keras.saving.save_model(model)`. This file format is considered legacy. We recommend using instead the native Keras format, e.g. `model.save('my_model.keras')` or `keras.saving.save_model(model, 'my_model.keras')`. \n"
     ]
    },
    {
     "name": "stdout",
     "output_type": "stream",
     "text": [
      "\u001b[1m32/32\u001b[0m \u001b[32m━━━━━━━━━━━━━━━━━━━━\u001b[0m\u001b[37m\u001b[0m \u001b[1m0s\u001b[0m 10ms/step - accuracy: 0.8317 - loss: 0.4579 - val_accuracy: 0.9705 - val_loss: 0.2351\n",
      "Epoch 89/1000\n",
      "\u001b[1m27/32\u001b[0m \u001b[32m━━━━━━━━━━━━━━━━\u001b[0m\u001b[37m━━━━\u001b[0m \u001b[1m0s\u001b[0m 2ms/step - accuracy: 0.8330 - loss: 0.4847 \n",
      "Epoch 89: saving model to model/point_history_classifier/point_history_classifier.h5\n"
     ]
    },
    {
     "name": "stderr",
     "output_type": "stream",
     "text": [
      "WARNING:absl:You are saving your model as an HDF5 file via `model.save()` or `keras.saving.save_model(model)`. This file format is considered legacy. We recommend using instead the native Keras format, e.g. `model.save('my_model.keras')` or `keras.saving.save_model(model, 'my_model.keras')`. \n"
     ]
    },
    {
     "name": "stdout",
     "output_type": "stream",
     "text": [
      "\u001b[1m32/32\u001b[0m \u001b[32m━━━━━━━━━━━━━━━━━━━━\u001b[0m\u001b[37m\u001b[0m \u001b[1m0s\u001b[0m 6ms/step - accuracy: 0.8329 - loss: 0.4823 - val_accuracy: 0.9705 - val_loss: 0.2338\n",
      "Epoch 90/1000\n",
      "\u001b[1m26/32\u001b[0m \u001b[32m━━━━━━━━━━━━━━━━\u001b[0m\u001b[37m━━━━\u001b[0m \u001b[1m0s\u001b[0m 3ms/step - accuracy: 0.8235 - loss: 0.4894 \n",
      "Epoch 90: saving model to model/point_history_classifier/point_history_classifier.h5\n"
     ]
    },
    {
     "name": "stderr",
     "output_type": "stream",
     "text": [
      "WARNING:absl:You are saving your model as an HDF5 file via `model.save()` or `keras.saving.save_model(model)`. This file format is considered legacy. We recommend using instead the native Keras format, e.g. `model.save('my_model.keras')` or `keras.saving.save_model(model, 'my_model.keras')`. \n"
     ]
    },
    {
     "name": "stdout",
     "output_type": "stream",
     "text": [
      "\u001b[1m32/32\u001b[0m \u001b[32m━━━━━━━━━━━━━━━━━━━━\u001b[0m\u001b[37m\u001b[0m \u001b[1m0s\u001b[0m 8ms/step - accuracy: 0.8255 - loss: 0.4858 - val_accuracy: 0.9698 - val_loss: 0.2329\n",
      "Epoch 91/1000\n",
      "\u001b[1m19/32\u001b[0m \u001b[32m━━━━━━━━━━━\u001b[0m\u001b[37m━━━━━━━━━\u001b[0m \u001b[1m0s\u001b[0m 3ms/step - accuracy: 0.8436 - loss: 0.4580  \n",
      "Epoch 91: saving model to model/point_history_classifier/point_history_classifier.h5\n"
     ]
    },
    {
     "name": "stderr",
     "output_type": "stream",
     "text": [
      "WARNING:absl:You are saving your model as an HDF5 file via `model.save()` or `keras.saving.save_model(model)`. This file format is considered legacy. We recommend using instead the native Keras format, e.g. `model.save('my_model.keras')` or `keras.saving.save_model(model, 'my_model.keras')`. \n"
     ]
    },
    {
     "name": "stdout",
     "output_type": "stream",
     "text": [
      "\u001b[1m32/32\u001b[0m \u001b[32m━━━━━━━━━━━━━━━━━━━━\u001b[0m\u001b[37m\u001b[0m \u001b[1m0s\u001b[0m 8ms/step - accuracy: 0.8414 - loss: 0.4598 - val_accuracy: 0.9705 - val_loss: 0.2320\n",
      "Epoch 92/1000\n",
      "\u001b[1m 1/32\u001b[0m \u001b[37m━━━━━━━━━━━━━━━━━━━━\u001b[0m \u001b[1m1s\u001b[0m 49ms/step - accuracy: 0.7891 - loss: 0.5893\n",
      "Epoch 92: saving model to model/point_history_classifier/point_history_classifier.h5\n"
     ]
    },
    {
     "name": "stderr",
     "output_type": "stream",
     "text": [
      "WARNING:absl:You are saving your model as an HDF5 file via `model.save()` or `keras.saving.save_model(model)`. This file format is considered legacy. We recommend using instead the native Keras format, e.g. `model.save('my_model.keras')` or `keras.saving.save_model(model, 'my_model.keras')`. \n"
     ]
    },
    {
     "name": "stdout",
     "output_type": "stream",
     "text": [
      "\u001b[1m32/32\u001b[0m \u001b[32m━━━━━━━━━━━━━━━━━━━━\u001b[0m\u001b[37m\u001b[0m \u001b[1m0s\u001b[0m 7ms/step - accuracy: 0.8288 - loss: 0.4740 - val_accuracy: 0.9705 - val_loss: 0.2302\n",
      "Epoch 93/1000\n",
      "\u001b[1m27/32\u001b[0m \u001b[32m━━━━━━━━━━━━━━━━\u001b[0m\u001b[37m━━━━\u001b[0m \u001b[1m0s\u001b[0m 2ms/step - accuracy: 0.8420 - loss: 0.4633 \n",
      "Epoch 93: saving model to model/point_history_classifier/point_history_classifier.h5\n"
     ]
    },
    {
     "name": "stderr",
     "output_type": "stream",
     "text": [
      "WARNING:absl:You are saving your model as an HDF5 file via `model.save()` or `keras.saving.save_model(model)`. This file format is considered legacy. We recommend using instead the native Keras format, e.g. `model.save('my_model.keras')` or `keras.saving.save_model(model, 'my_model.keras')`. \n"
     ]
    },
    {
     "name": "stdout",
     "output_type": "stream",
     "text": [
      "\u001b[1m32/32\u001b[0m \u001b[32m━━━━━━━━━━━━━━━━━━━━\u001b[0m\u001b[37m\u001b[0m \u001b[1m0s\u001b[0m 7ms/step - accuracy: 0.8404 - loss: 0.4679 - val_accuracy: 0.9705 - val_loss: 0.2298\n",
      "Epoch 94/1000\n",
      "\u001b[1m17/32\u001b[0m \u001b[32m━━━━━━━━━━\u001b[0m\u001b[37m━━━━━━━━━━\u001b[0m \u001b[1m0s\u001b[0m 3ms/step - accuracy: 0.8398 - loss: 0.4608 \n",
      "Epoch 94: saving model to model/point_history_classifier/point_history_classifier.h5\n"
     ]
    },
    {
     "name": "stderr",
     "output_type": "stream",
     "text": [
      "WARNING:absl:You are saving your model as an HDF5 file via `model.save()` or `keras.saving.save_model(model)`. This file format is considered legacy. We recommend using instead the native Keras format, e.g. `model.save('my_model.keras')` or `keras.saving.save_model(model, 'my_model.keras')`. \n"
     ]
    },
    {
     "name": "stdout",
     "output_type": "stream",
     "text": [
      "\u001b[1m32/32\u001b[0m \u001b[32m━━━━━━━━━━━━━━━━━━━━\u001b[0m\u001b[37m\u001b[0m \u001b[1m0s\u001b[0m 7ms/step - accuracy: 0.8360 - loss: 0.4618 - val_accuracy: 0.9713 - val_loss: 0.2280\n",
      "Epoch 95/1000\n",
      "\u001b[1m32/32\u001b[0m \u001b[32m━━━━━━━━━━━━━━━━━━━━\u001b[0m\u001b[37m\u001b[0m \u001b[1m0s\u001b[0m 2ms/step - accuracy: 0.8333 - loss: 0.4628 \n",
      "Epoch 95: saving model to model/point_history_classifier/point_history_classifier.h5\n"
     ]
    },
    {
     "name": "stderr",
     "output_type": "stream",
     "text": [
      "WARNING:absl:You are saving your model as an HDF5 file via `model.save()` or `keras.saving.save_model(model)`. This file format is considered legacy. We recommend using instead the native Keras format, e.g. `model.save('my_model.keras')` or `keras.saving.save_model(model, 'my_model.keras')`. \n"
     ]
    },
    {
     "name": "stdout",
     "output_type": "stream",
     "text": [
      "\u001b[1m32/32\u001b[0m \u001b[32m━━━━━━━━━━━━━━━━━━━━\u001b[0m\u001b[37m\u001b[0m \u001b[1m0s\u001b[0m 7ms/step - accuracy: 0.8335 - loss: 0.4626 - val_accuracy: 0.9705 - val_loss: 0.2268\n",
      "Epoch 96/1000\n",
      "\u001b[1m20/32\u001b[0m \u001b[32m━━━━━━━━━━━━\u001b[0m\u001b[37m━━━━━━━━\u001b[0m \u001b[1m0s\u001b[0m 3ms/step - accuracy: 0.8283 - loss: 0.4629 \n",
      "Epoch 96: saving model to model/point_history_classifier/point_history_classifier.h5\n"
     ]
    },
    {
     "name": "stderr",
     "output_type": "stream",
     "text": [
      "WARNING:absl:You are saving your model as an HDF5 file via `model.save()` or `keras.saving.save_model(model)`. This file format is considered legacy. We recommend using instead the native Keras format, e.g. `model.save('my_model.keras')` or `keras.saving.save_model(model, 'my_model.keras')`. \n"
     ]
    },
    {
     "name": "stdout",
     "output_type": "stream",
     "text": [
      "\u001b[1m32/32\u001b[0m \u001b[32m━━━━━━━━━━━━━━━━━━━━\u001b[0m\u001b[37m\u001b[0m \u001b[1m0s\u001b[0m 7ms/step - accuracy: 0.8316 - loss: 0.4597 - val_accuracy: 0.9698 - val_loss: 0.2282\n",
      "Epoch 97/1000\n",
      "\u001b[1m23/32\u001b[0m \u001b[32m━━━━━━━━━━━━━━\u001b[0m\u001b[37m━━━━━━\u001b[0m \u001b[1m0s\u001b[0m 3ms/step - accuracy: 0.8154 - loss: 0.4849 \n",
      "Epoch 97: saving model to model/point_history_classifier/point_history_classifier.h5\n"
     ]
    },
    {
     "name": "stderr",
     "output_type": "stream",
     "text": [
      "WARNING:absl:You are saving your model as an HDF5 file via `model.save()` or `keras.saving.save_model(model)`. This file format is considered legacy. We recommend using instead the native Keras format, e.g. `model.save('my_model.keras')` or `keras.saving.save_model(model, 'my_model.keras')`. \n"
     ]
    },
    {
     "name": "stdout",
     "output_type": "stream",
     "text": [
      "\u001b[1m32/32\u001b[0m \u001b[32m━━━━━━━━━━━━━━━━━━━━\u001b[0m\u001b[37m\u001b[0m \u001b[1m0s\u001b[0m 9ms/step - accuracy: 0.8194 - loss: 0.4787 - val_accuracy: 0.9705 - val_loss: 0.2286\n",
      "Epoch 98/1000\n",
      "\u001b[1m18/32\u001b[0m \u001b[32m━━━━━━━━━━━\u001b[0m\u001b[37m━━━━━━━━━\u001b[0m \u001b[1m0s\u001b[0m 3ms/step - accuracy: 0.8350 - loss: 0.4443 \n",
      "Epoch 98: saving model to model/point_history_classifier/point_history_classifier.h5\n"
     ]
    },
    {
     "name": "stderr",
     "output_type": "stream",
     "text": [
      "WARNING:absl:You are saving your model as an HDF5 file via `model.save()` or `keras.saving.save_model(model)`. This file format is considered legacy. We recommend using instead the native Keras format, e.g. `model.save('my_model.keras')` or `keras.saving.save_model(model, 'my_model.keras')`. \n"
     ]
    },
    {
     "name": "stdout",
     "output_type": "stream",
     "text": [
      "\u001b[1m32/32\u001b[0m \u001b[32m━━━━━━━━━━━━━━━━━━━━\u001b[0m\u001b[37m\u001b[0m \u001b[1m0s\u001b[0m 10ms/step - accuracy: 0.8388 - loss: 0.4434 - val_accuracy: 0.9698 - val_loss: 0.2310\n",
      "Epoch 99/1000\n",
      "\u001b[1m21/32\u001b[0m \u001b[32m━━━━━━━━━━━━━\u001b[0m\u001b[37m━━━━━━━\u001b[0m \u001b[1m0s\u001b[0m 3ms/step - accuracy: 0.8348 - loss: 0.4432 \n",
      "Epoch 99: saving model to model/point_history_classifier/point_history_classifier.h5\n"
     ]
    },
    {
     "name": "stderr",
     "output_type": "stream",
     "text": [
      "WARNING:absl:You are saving your model as an HDF5 file via `model.save()` or `keras.saving.save_model(model)`. This file format is considered legacy. We recommend using instead the native Keras format, e.g. `model.save('my_model.keras')` or `keras.saving.save_model(model, 'my_model.keras')`. \n"
     ]
    },
    {
     "name": "stdout",
     "output_type": "stream",
     "text": [
      "\u001b[1m32/32\u001b[0m \u001b[32m━━━━━━━━━━━━━━━━━━━━\u001b[0m\u001b[37m\u001b[0m \u001b[1m0s\u001b[0m 7ms/step - accuracy: 0.8346 - loss: 0.4435 - val_accuracy: 0.9728 - val_loss: 0.2286\n",
      "Epoch 100/1000\n",
      "\u001b[1m26/32\u001b[0m \u001b[32m━━━━━━━━━━━━━━━━\u001b[0m\u001b[37m━━━━\u001b[0m \u001b[1m0s\u001b[0m 3ms/step - accuracy: 0.8435 - loss: 0.4482 \n",
      "Epoch 100: saving model to model/point_history_classifier/point_history_classifier.h5\n"
     ]
    },
    {
     "name": "stderr",
     "output_type": "stream",
     "text": [
      "WARNING:absl:You are saving your model as an HDF5 file via `model.save()` or `keras.saving.save_model(model)`. This file format is considered legacy. We recommend using instead the native Keras format, e.g. `model.save('my_model.keras')` or `keras.saving.save_model(model, 'my_model.keras')`. \n"
     ]
    },
    {
     "name": "stdout",
     "output_type": "stream",
     "text": [
      "\u001b[1m32/32\u001b[0m \u001b[32m━━━━━━━━━━━━━━━━━━━━\u001b[0m\u001b[37m\u001b[0m \u001b[1m0s\u001b[0m 8ms/step - accuracy: 0.8433 - loss: 0.4465 - val_accuracy: 0.9683 - val_loss: 0.2273\n",
      "Epoch 101/1000\n",
      "\u001b[1m24/32\u001b[0m \u001b[32m━━━━━━━━━━━━━━━\u001b[0m\u001b[37m━━━━━\u001b[0m \u001b[1m0s\u001b[0m 3ms/step - accuracy: 0.8432 - loss: 0.4388 \n",
      "Epoch 101: saving model to model/point_history_classifier/point_history_classifier.h5\n"
     ]
    },
    {
     "name": "stderr",
     "output_type": "stream",
     "text": [
      "WARNING:absl:You are saving your model as an HDF5 file via `model.save()` or `keras.saving.save_model(model)`. This file format is considered legacy. We recommend using instead the native Keras format, e.g. `model.save('my_model.keras')` or `keras.saving.save_model(model, 'my_model.keras')`. \n"
     ]
    },
    {
     "name": "stdout",
     "output_type": "stream",
     "text": [
      "\u001b[1m32/32\u001b[0m \u001b[32m━━━━━━━━━━━━━━━━━━━━\u001b[0m\u001b[37m\u001b[0m \u001b[1m0s\u001b[0m 9ms/step - accuracy: 0.8422 - loss: 0.4437 - val_accuracy: 0.9705 - val_loss: 0.2267\n",
      "Epoch 102/1000\n",
      "\u001b[1m25/32\u001b[0m \u001b[32m━━━━━━━━━━━━━━━\u001b[0m\u001b[37m━━━━━\u001b[0m \u001b[1m0s\u001b[0m 3ms/step - accuracy: 0.8354 - loss: 0.4551 \n",
      "Epoch 102: saving model to model/point_history_classifier/point_history_classifier.h5\n"
     ]
    },
    {
     "name": "stderr",
     "output_type": "stream",
     "text": [
      "WARNING:absl:You are saving your model as an HDF5 file via `model.save()` or `keras.saving.save_model(model)`. This file format is considered legacy. We recommend using instead the native Keras format, e.g. `model.save('my_model.keras')` or `keras.saving.save_model(model, 'my_model.keras')`. \n"
     ]
    },
    {
     "name": "stdout",
     "output_type": "stream",
     "text": [
      "\u001b[1m32/32\u001b[0m \u001b[32m━━━━━━━━━━━━━━━━━━━━\u001b[0m\u001b[37m\u001b[0m \u001b[1m0s\u001b[0m 8ms/step - accuracy: 0.8359 - loss: 0.4540 - val_accuracy: 0.9690 - val_loss: 0.2259\n",
      "Epoch 103/1000\n",
      "\u001b[1m19/32\u001b[0m \u001b[32m━━━━━━━━━━━\u001b[0m\u001b[37m━━━━━━━━━\u001b[0m \u001b[1m0s\u001b[0m 3ms/step - accuracy: 0.8590 - loss: 0.4101 \n",
      "Epoch 103: saving model to model/point_history_classifier/point_history_classifier.h5\n"
     ]
    },
    {
     "name": "stderr",
     "output_type": "stream",
     "text": [
      "WARNING:absl:You are saving your model as an HDF5 file via `model.save()` or `keras.saving.save_model(model)`. This file format is considered legacy. We recommend using instead the native Keras format, e.g. `model.save('my_model.keras')` or `keras.saving.save_model(model, 'my_model.keras')`. \n"
     ]
    },
    {
     "name": "stdout",
     "output_type": "stream",
     "text": [
      "\u001b[1m32/32\u001b[0m \u001b[32m━━━━━━━━━━━━━━━━━━━━\u001b[0m\u001b[37m\u001b[0m \u001b[1m0s\u001b[0m 9ms/step - accuracy: 0.8526 - loss: 0.4274 - val_accuracy: 0.9690 - val_loss: 0.2261\n",
      "Epoch 104/1000\n",
      "\u001b[1m17/32\u001b[0m \u001b[32m━━━━━━━━━━\u001b[0m\u001b[37m━━━━━━━━━━\u001b[0m \u001b[1m0s\u001b[0m 3ms/step - accuracy: 0.8237 - loss: 0.4629 \n",
      "Epoch 104: saving model to model/point_history_classifier/point_history_classifier.h5\n"
     ]
    },
    {
     "name": "stderr",
     "output_type": "stream",
     "text": [
      "WARNING:absl:You are saving your model as an HDF5 file via `model.save()` or `keras.saving.save_model(model)`. This file format is considered legacy. We recommend using instead the native Keras format, e.g. `model.save('my_model.keras')` or `keras.saving.save_model(model, 'my_model.keras')`. \n"
     ]
    },
    {
     "name": "stdout",
     "output_type": "stream",
     "text": [
      "\u001b[1m32/32\u001b[0m \u001b[32m━━━━━━━━━━━━━━━━━━━━\u001b[0m\u001b[37m\u001b[0m \u001b[1m0s\u001b[0m 8ms/step - accuracy: 0.8285 - loss: 0.4616 - val_accuracy: 0.9705 - val_loss: 0.2268\n",
      "Epoch 105/1000\n",
      "\u001b[1m22/32\u001b[0m \u001b[32m━━━━━━━━━━━━━\u001b[0m\u001b[37m━━━━━━━\u001b[0m \u001b[1m0s\u001b[0m 3ms/step - accuracy: 0.8332 - loss: 0.4536 \n",
      "Epoch 105: saving model to model/point_history_classifier/point_history_classifier.h5\n"
     ]
    },
    {
     "name": "stderr",
     "output_type": "stream",
     "text": [
      "WARNING:absl:You are saving your model as an HDF5 file via `model.save()` or `keras.saving.save_model(model)`. This file format is considered legacy. We recommend using instead the native Keras format, e.g. `model.save('my_model.keras')` or `keras.saving.save_model(model, 'my_model.keras')`. \n"
     ]
    },
    {
     "name": "stdout",
     "output_type": "stream",
     "text": [
      "\u001b[1m32/32\u001b[0m \u001b[32m━━━━━━━━━━━━━━━━━━━━\u001b[0m\u001b[37m\u001b[0m \u001b[1m0s\u001b[0m 7ms/step - accuracy: 0.8362 - loss: 0.4495 - val_accuracy: 0.9705 - val_loss: 0.2258\n",
      "Epoch 106/1000\n",
      "\u001b[1m20/32\u001b[0m \u001b[32m━━━━━━━━━━━━\u001b[0m\u001b[37m━━━━━━━━\u001b[0m \u001b[1m0s\u001b[0m 3ms/step - accuracy: 0.8394 - loss: 0.4301 \n",
      "Epoch 106: saving model to model/point_history_classifier/point_history_classifier.h5\n"
     ]
    },
    {
     "name": "stderr",
     "output_type": "stream",
     "text": [
      "WARNING:absl:You are saving your model as an HDF5 file via `model.save()` or `keras.saving.save_model(model)`. This file format is considered legacy. We recommend using instead the native Keras format, e.g. `model.save('my_model.keras')` or `keras.saving.save_model(model, 'my_model.keras')`. \n"
     ]
    },
    {
     "name": "stdout",
     "output_type": "stream",
     "text": [
      "\u001b[1m32/32\u001b[0m \u001b[32m━━━━━━━━━━━━━━━━━━━━\u001b[0m\u001b[37m\u001b[0m \u001b[1m0s\u001b[0m 8ms/step - accuracy: 0.8383 - loss: 0.4376 - val_accuracy: 0.9713 - val_loss: 0.2241\n",
      "Epoch 107/1000\n",
      "\u001b[1m25/32\u001b[0m \u001b[32m━━━━━━━━━━━━━━━\u001b[0m\u001b[37m━━━━━\u001b[0m \u001b[1m0s\u001b[0m 3ms/step - accuracy: 0.8471 - loss: 0.4297 \n",
      "Epoch 107: saving model to model/point_history_classifier/point_history_classifier.h5\n"
     ]
    },
    {
     "name": "stderr",
     "output_type": "stream",
     "text": [
      "WARNING:absl:You are saving your model as an HDF5 file via `model.save()` or `keras.saving.save_model(model)`. This file format is considered legacy. We recommend using instead the native Keras format, e.g. `model.save('my_model.keras')` or `keras.saving.save_model(model, 'my_model.keras')`. \n"
     ]
    },
    {
     "name": "stdout",
     "output_type": "stream",
     "text": [
      "\u001b[1m32/32\u001b[0m \u001b[32m━━━━━━━━━━━━━━━━━━━━\u001b[0m\u001b[37m\u001b[0m \u001b[1m0s\u001b[0m 8ms/step - accuracy: 0.8460 - loss: 0.4319 - val_accuracy: 0.9713 - val_loss: 0.2217\n",
      "Epoch 108/1000\n",
      "\u001b[1m31/32\u001b[0m \u001b[32m━━━━━━━━━━━━━━━━━━━\u001b[0m\u001b[37m━\u001b[0m \u001b[1m0s\u001b[0m 2ms/step - accuracy: 0.8394 - loss: 0.4655 \n",
      "Epoch 108: saving model to model/point_history_classifier/point_history_classifier.h5\n"
     ]
    },
    {
     "name": "stderr",
     "output_type": "stream",
     "text": [
      "WARNING:absl:You are saving your model as an HDF5 file via `model.save()` or `keras.saving.save_model(model)`. This file format is considered legacy. We recommend using instead the native Keras format, e.g. `model.save('my_model.keras')` or `keras.saving.save_model(model, 'my_model.keras')`. \n"
     ]
    },
    {
     "name": "stdout",
     "output_type": "stream",
     "text": [
      "\u001b[1m32/32\u001b[0m \u001b[32m━━━━━━━━━━━━━━━━━━━━\u001b[0m\u001b[37m\u001b[0m \u001b[1m0s\u001b[0m 7ms/step - accuracy: 0.8392 - loss: 0.4655 - val_accuracy: 0.9728 - val_loss: 0.2243\n",
      "Epoch 109/1000\n",
      "\u001b[1m17/32\u001b[0m \u001b[32m━━━━━━━━━━\u001b[0m\u001b[37m━━━━━━━━━━\u001b[0m \u001b[1m0s\u001b[0m 3ms/step - accuracy: 0.8538 - loss: 0.4389 \n",
      "Epoch 109: saving model to model/point_history_classifier/point_history_classifier.h5\n"
     ]
    },
    {
     "name": "stderr",
     "output_type": "stream",
     "text": [
      "WARNING:absl:You are saving your model as an HDF5 file via `model.save()` or `keras.saving.save_model(model)`. This file format is considered legacy. We recommend using instead the native Keras format, e.g. `model.save('my_model.keras')` or `keras.saving.save_model(model, 'my_model.keras')`. \n"
     ]
    },
    {
     "name": "stdout",
     "output_type": "stream",
     "text": [
      "\u001b[1m32/32\u001b[0m \u001b[32m━━━━━━━━━━━━━━━━━━━━\u001b[0m\u001b[37m\u001b[0m \u001b[1m0s\u001b[0m 8ms/step - accuracy: 0.8510 - loss: 0.4376 - val_accuracy: 0.9721 - val_loss: 0.2283\n",
      "Epoch 110/1000\n",
      "\u001b[1m30/32\u001b[0m \u001b[32m━━━━━━━━━━━━━━━━━━\u001b[0m\u001b[37m━━\u001b[0m \u001b[1m0s\u001b[0m 2ms/step - accuracy: 0.8489 - loss: 0.4235 \n",
      "Epoch 110: saving model to model/point_history_classifier/point_history_classifier.h5\n"
     ]
    },
    {
     "name": "stderr",
     "output_type": "stream",
     "text": [
      "WARNING:absl:You are saving your model as an HDF5 file via `model.save()` or `keras.saving.save_model(model)`. This file format is considered legacy. We recommend using instead the native Keras format, e.g. `model.save('my_model.keras')` or `keras.saving.save_model(model, 'my_model.keras')`. \n"
     ]
    },
    {
     "name": "stdout",
     "output_type": "stream",
     "text": [
      "\u001b[1m32/32\u001b[0m \u001b[32m━━━━━━━━━━━━━━━━━━━━\u001b[0m\u001b[37m\u001b[0m \u001b[1m0s\u001b[0m 8ms/step - accuracy: 0.8477 - loss: 0.4254 - val_accuracy: 0.9713 - val_loss: 0.2236\n",
      "Epoch 111/1000\n",
      "\u001b[1m20/32\u001b[0m \u001b[32m━━━━━━━━━━━━\u001b[0m\u001b[37m━━━━━━━━\u001b[0m \u001b[1m0s\u001b[0m 3ms/step - accuracy: 0.8453 - loss: 0.4500 \n",
      "Epoch 111: saving model to model/point_history_classifier/point_history_classifier.h5\n"
     ]
    },
    {
     "name": "stderr",
     "output_type": "stream",
     "text": [
      "WARNING:absl:You are saving your model as an HDF5 file via `model.save()` or `keras.saving.save_model(model)`. This file format is considered legacy. We recommend using instead the native Keras format, e.g. `model.save('my_model.keras')` or `keras.saving.save_model(model, 'my_model.keras')`. \n"
     ]
    },
    {
     "name": "stdout",
     "output_type": "stream",
     "text": [
      "\u001b[1m32/32\u001b[0m \u001b[32m━━━━━━━━━━━━━━━━━━━━\u001b[0m\u001b[37m\u001b[0m \u001b[1m0s\u001b[0m 8ms/step - accuracy: 0.8428 - loss: 0.4512 - val_accuracy: 0.9705 - val_loss: 0.2248\n",
      "Epoch 112/1000\n",
      "\u001b[1m26/32\u001b[0m \u001b[32m━━━━━━━━━━━━━━━━\u001b[0m\u001b[37m━━━━\u001b[0m \u001b[1m0s\u001b[0m 3ms/step - accuracy: 0.8522 - loss: 0.4309 \n",
      "Epoch 112: saving model to model/point_history_classifier/point_history_classifier.h5\n"
     ]
    },
    {
     "name": "stderr",
     "output_type": "stream",
     "text": [
      "WARNING:absl:You are saving your model as an HDF5 file via `model.save()` or `keras.saving.save_model(model)`. This file format is considered legacy. We recommend using instead the native Keras format, e.g. `model.save('my_model.keras')` or `keras.saving.save_model(model, 'my_model.keras')`. \n"
     ]
    },
    {
     "name": "stdout",
     "output_type": "stream",
     "text": [
      "\u001b[1m32/32\u001b[0m \u001b[32m━━━━━━━━━━━━━━━━━━━━\u001b[0m\u001b[37m\u001b[0m \u001b[1m0s\u001b[0m 7ms/step - accuracy: 0.8518 - loss: 0.4324 - val_accuracy: 0.9705 - val_loss: 0.2243\n",
      "Epoch 113/1000\n",
      "\u001b[1m31/32\u001b[0m \u001b[32m━━━━━━━━━━━━━━━━━━━\u001b[0m\u001b[37m━\u001b[0m \u001b[1m0s\u001b[0m 2ms/step - accuracy: 0.8424 - loss: 0.4273 \n",
      "Epoch 113: saving model to model/point_history_classifier/point_history_classifier.h5\n"
     ]
    },
    {
     "name": "stderr",
     "output_type": "stream",
     "text": [
      "WARNING:absl:You are saving your model as an HDF5 file via `model.save()` or `keras.saving.save_model(model)`. This file format is considered legacy. We recommend using instead the native Keras format, e.g. `model.save('my_model.keras')` or `keras.saving.save_model(model, 'my_model.keras')`. \n"
     ]
    },
    {
     "name": "stdout",
     "output_type": "stream",
     "text": [
      "\u001b[1m32/32\u001b[0m \u001b[32m━━━━━━━━━━━━━━━━━━━━\u001b[0m\u001b[37m\u001b[0m \u001b[1m0s\u001b[0m 6ms/step - accuracy: 0.8423 - loss: 0.4277 - val_accuracy: 0.9705 - val_loss: 0.2211\n",
      "Epoch 114/1000\n",
      "\u001b[1m27/32\u001b[0m \u001b[32m━━━━━━━━━━━━━━━━\u001b[0m\u001b[37m━━━━\u001b[0m \u001b[1m0s\u001b[0m 2ms/step - accuracy: 0.8415 - loss: 0.4175 \n",
      "Epoch 114: saving model to model/point_history_classifier/point_history_classifier.h5\n"
     ]
    },
    {
     "name": "stderr",
     "output_type": "stream",
     "text": [
      "WARNING:absl:You are saving your model as an HDF5 file via `model.save()` or `keras.saving.save_model(model)`. This file format is considered legacy. We recommend using instead the native Keras format, e.g. `model.save('my_model.keras')` or `keras.saving.save_model(model, 'my_model.keras')`. \n"
     ]
    },
    {
     "name": "stdout",
     "output_type": "stream",
     "text": [
      "\u001b[1m32/32\u001b[0m \u001b[32m━━━━━━━━━━━━━━━━━━━━\u001b[0m\u001b[37m\u001b[0m \u001b[1m0s\u001b[0m 8ms/step - accuracy: 0.8421 - loss: 0.4198 - val_accuracy: 0.9705 - val_loss: 0.2191\n",
      "Epoch 115/1000\n",
      "\u001b[1m23/32\u001b[0m \u001b[32m━━━━━━━━━━━━━━\u001b[0m\u001b[37m━━━━━━\u001b[0m \u001b[1m0s\u001b[0m 3ms/step - accuracy: 0.8457 - loss: 0.4266 \n",
      "Epoch 115: saving model to model/point_history_classifier/point_history_classifier.h5\n"
     ]
    },
    {
     "name": "stderr",
     "output_type": "stream",
     "text": [
      "WARNING:absl:You are saving your model as an HDF5 file via `model.save()` or `keras.saving.save_model(model)`. This file format is considered legacy. We recommend using instead the native Keras format, e.g. `model.save('my_model.keras')` or `keras.saving.save_model(model, 'my_model.keras')`. \n"
     ]
    },
    {
     "name": "stdout",
     "output_type": "stream",
     "text": [
      "\u001b[1m32/32\u001b[0m \u001b[32m━━━━━━━━━━━━━━━━━━━━\u001b[0m\u001b[37m\u001b[0m \u001b[1m0s\u001b[0m 7ms/step - accuracy: 0.8468 - loss: 0.4259 - val_accuracy: 0.9705 - val_loss: 0.2189\n",
      "Epoch 116/1000\n",
      "\u001b[1m26/32\u001b[0m \u001b[32m━━━━━━━━━━━━━━━━\u001b[0m\u001b[37m━━━━\u001b[0m \u001b[1m0s\u001b[0m 3ms/step - accuracy: 0.8447 - loss: 0.4429 \n",
      "Epoch 116: saving model to model/point_history_classifier/point_history_classifier.h5\n"
     ]
    },
    {
     "name": "stderr",
     "output_type": "stream",
     "text": [
      "WARNING:absl:You are saving your model as an HDF5 file via `model.save()` or `keras.saving.save_model(model)`. This file format is considered legacy. We recommend using instead the native Keras format, e.g. `model.save('my_model.keras')` or `keras.saving.save_model(model, 'my_model.keras')`. \n"
     ]
    },
    {
     "name": "stdout",
     "output_type": "stream",
     "text": [
      "\u001b[1m32/32\u001b[0m \u001b[32m━━━━━━━━━━━━━━━━━━━━\u001b[0m\u001b[37m\u001b[0m \u001b[1m0s\u001b[0m 8ms/step - accuracy: 0.8442 - loss: 0.4406 - val_accuracy: 0.9698 - val_loss: 0.2164\n",
      "Epoch 117/1000\n",
      "\u001b[1m24/32\u001b[0m \u001b[32m━━━━━━━━━━━━━━━\u001b[0m\u001b[37m━━━━━\u001b[0m \u001b[1m0s\u001b[0m 3ms/step - accuracy: 0.8332 - loss: 0.4490 \n",
      "Epoch 117: saving model to model/point_history_classifier/point_history_classifier.h5\n"
     ]
    },
    {
     "name": "stderr",
     "output_type": "stream",
     "text": [
      "WARNING:absl:You are saving your model as an HDF5 file via `model.save()` or `keras.saving.save_model(model)`. This file format is considered legacy. We recommend using instead the native Keras format, e.g. `model.save('my_model.keras')` or `keras.saving.save_model(model, 'my_model.keras')`. \n"
     ]
    },
    {
     "name": "stdout",
     "output_type": "stream",
     "text": [
      "\u001b[1m32/32\u001b[0m \u001b[32m━━━━━━━━━━━━━━━━━━━━\u001b[0m\u001b[37m\u001b[0m \u001b[1m0s\u001b[0m 8ms/step - accuracy: 0.8341 - loss: 0.4477 - val_accuracy: 0.9705 - val_loss: 0.2159\n",
      "Epoch 118/1000\n",
      "\u001b[1m24/32\u001b[0m \u001b[32m━━━━━━━━━━━━━━━\u001b[0m\u001b[37m━━━━━\u001b[0m \u001b[1m0s\u001b[0m 3ms/step - accuracy: 0.8282 - loss: 0.4640 \n",
      "Epoch 118: saving model to model/point_history_classifier/point_history_classifier.h5\n"
     ]
    },
    {
     "name": "stderr",
     "output_type": "stream",
     "text": [
      "WARNING:absl:You are saving your model as an HDF5 file via `model.save()` or `keras.saving.save_model(model)`. This file format is considered legacy. We recommend using instead the native Keras format, e.g. `model.save('my_model.keras')` or `keras.saving.save_model(model, 'my_model.keras')`. \n"
     ]
    },
    {
     "name": "stdout",
     "output_type": "stream",
     "text": [
      "\u001b[1m32/32\u001b[0m \u001b[32m━━━━━━━━━━━━━━━━━━━━\u001b[0m\u001b[37m\u001b[0m \u001b[1m0s\u001b[0m 8ms/step - accuracy: 0.8311 - loss: 0.4577 - val_accuracy: 0.9705 - val_loss: 0.2151\n",
      "Epoch 119/1000\n",
      "\u001b[1m18/32\u001b[0m \u001b[32m━━━━━━━━━━━\u001b[0m\u001b[37m━━━━━━━━━\u001b[0m \u001b[1m0s\u001b[0m 4ms/step - accuracy: 0.8427 - loss: 0.4266 \n",
      "Epoch 119: saving model to model/point_history_classifier/point_history_classifier.h5\n"
     ]
    },
    {
     "name": "stderr",
     "output_type": "stream",
     "text": [
      "WARNING:absl:You are saving your model as an HDF5 file via `model.save()` or `keras.saving.save_model(model)`. This file format is considered legacy. We recommend using instead the native Keras format, e.g. `model.save('my_model.keras')` or `keras.saving.save_model(model, 'my_model.keras')`. \n"
     ]
    },
    {
     "name": "stdout",
     "output_type": "stream",
     "text": [
      "\u001b[1m32/32\u001b[0m \u001b[32m━━━━━━━━━━━━━━━━━━━━\u001b[0m\u001b[37m\u001b[0m \u001b[1m0s\u001b[0m 9ms/step - accuracy: 0.8421 - loss: 0.4299 - val_accuracy: 0.9705 - val_loss: 0.2161\n",
      "Epoch 120/1000\n",
      "\u001b[1m20/32\u001b[0m \u001b[32m━━━━━━━━━━━━\u001b[0m\u001b[37m━━━━━━━━\u001b[0m \u001b[1m0s\u001b[0m 3ms/step - accuracy: 0.8511 - loss: 0.4168 \n",
      "Epoch 120: saving model to model/point_history_classifier/point_history_classifier.h5\n"
     ]
    },
    {
     "name": "stderr",
     "output_type": "stream",
     "text": [
      "WARNING:absl:You are saving your model as an HDF5 file via `model.save()` or `keras.saving.save_model(model)`. This file format is considered legacy. We recommend using instead the native Keras format, e.g. `model.save('my_model.keras')` or `keras.saving.save_model(model, 'my_model.keras')`. \n"
     ]
    },
    {
     "name": "stdout",
     "output_type": "stream",
     "text": [
      "\u001b[1m32/32\u001b[0m \u001b[32m━━━━━━━━━━━━━━━━━━━━\u001b[0m\u001b[37m\u001b[0m \u001b[1m0s\u001b[0m 8ms/step - accuracy: 0.8511 - loss: 0.4176 - val_accuracy: 0.9705 - val_loss: 0.2151\n",
      "Epoch 121/1000\n",
      "\u001b[1m27/32\u001b[0m \u001b[32m━━━━━━━━━━━━━━━━\u001b[0m\u001b[37m━━━━\u001b[0m \u001b[1m0s\u001b[0m 2ms/step - accuracy: 0.8416 - loss: 0.4419 \n",
      "Epoch 121: saving model to model/point_history_classifier/point_history_classifier.h5\n"
     ]
    },
    {
     "name": "stderr",
     "output_type": "stream",
     "text": [
      "WARNING:absl:You are saving your model as an HDF5 file via `model.save()` or `keras.saving.save_model(model)`. This file format is considered legacy. We recommend using instead the native Keras format, e.g. `model.save('my_model.keras')` or `keras.saving.save_model(model, 'my_model.keras')`. \n"
     ]
    },
    {
     "name": "stdout",
     "output_type": "stream",
     "text": [
      "\u001b[1m32/32\u001b[0m \u001b[32m━━━━━━━━━━━━━━━━━━━━\u001b[0m\u001b[37m\u001b[0m \u001b[1m0s\u001b[0m 7ms/step - accuracy: 0.8414 - loss: 0.4415 - val_accuracy: 0.9705 - val_loss: 0.2191\n",
      "Epoch 122/1000\n",
      "\u001b[1m 1/32\u001b[0m \u001b[37m━━━━━━━━━━━━━━━━━━━━\u001b[0m \u001b[1m1s\u001b[0m 47ms/step - accuracy: 0.8516 - loss: 0.4771\n",
      "Epoch 122: saving model to model/point_history_classifier/point_history_classifier.h5\n"
     ]
    },
    {
     "name": "stderr",
     "output_type": "stream",
     "text": [
      "WARNING:absl:You are saving your model as an HDF5 file via `model.save()` or `keras.saving.save_model(model)`. This file format is considered legacy. We recommend using instead the native Keras format, e.g. `model.save('my_model.keras')` or `keras.saving.save_model(model, 'my_model.keras')`. \n"
     ]
    },
    {
     "name": "stdout",
     "output_type": "stream",
     "text": [
      "\u001b[1m32/32\u001b[0m \u001b[32m━━━━━━━━━━━━━━━━━━━━\u001b[0m\u001b[37m\u001b[0m \u001b[1m0s\u001b[0m 7ms/step - accuracy: 0.8431 - loss: 0.4484 - val_accuracy: 0.9705 - val_loss: 0.2184\n",
      "Epoch 123/1000\n",
      "\u001b[1m 1/32\u001b[0m \u001b[37m━━━━━━━━━━━━━━━━━━━━\u001b[0m \u001b[1m1s\u001b[0m 47ms/step - accuracy: 0.8516 - loss: 0.3885\n",
      "Epoch 123: saving model to model/point_history_classifier/point_history_classifier.h5\n"
     ]
    },
    {
     "name": "stderr",
     "output_type": "stream",
     "text": [
      "WARNING:absl:You are saving your model as an HDF5 file via `model.save()` or `keras.saving.save_model(model)`. This file format is considered legacy. We recommend using instead the native Keras format, e.g. `model.save('my_model.keras')` or `keras.saving.save_model(model, 'my_model.keras')`. \n"
     ]
    },
    {
     "name": "stdout",
     "output_type": "stream",
     "text": [
      "\u001b[1m32/32\u001b[0m \u001b[32m━━━━━━━━━━━━━━━━━━━━\u001b[0m\u001b[37m\u001b[0m \u001b[1m0s\u001b[0m 6ms/step - accuracy: 0.8401 - loss: 0.4321 - val_accuracy: 0.9675 - val_loss: 0.2176\n",
      "Epoch 124/1000\n",
      "\u001b[1m28/32\u001b[0m \u001b[32m━━━━━━━━━━━━━━━━━\u001b[0m\u001b[37m━━━\u001b[0m \u001b[1m0s\u001b[0m 2ms/step - accuracy: 0.8494 - loss: 0.4196 \n",
      "Epoch 124: saving model to model/point_history_classifier/point_history_classifier.h5\n"
     ]
    },
    {
     "name": "stderr",
     "output_type": "stream",
     "text": [
      "WARNING:absl:You are saving your model as an HDF5 file via `model.save()` or `keras.saving.save_model(model)`. This file format is considered legacy. We recommend using instead the native Keras format, e.g. `model.save('my_model.keras')` or `keras.saving.save_model(model, 'my_model.keras')`. \n"
     ]
    },
    {
     "name": "stdout",
     "output_type": "stream",
     "text": [
      "\u001b[1m32/32\u001b[0m \u001b[32m━━━━━━━━━━━━━━━━━━━━\u001b[0m\u001b[37m\u001b[0m \u001b[1m0s\u001b[0m 8ms/step - accuracy: 0.8486 - loss: 0.4224 - val_accuracy: 0.9698 - val_loss: 0.2174\n",
      "Epoch 125/1000\n",
      "\u001b[1m17/32\u001b[0m \u001b[32m━━━━━━━━━━\u001b[0m\u001b[37m━━━━━━━━━━\u001b[0m \u001b[1m0s\u001b[0m 4ms/step - accuracy: 0.8493 - loss: 0.4368 \n",
      "Epoch 125: saving model to model/point_history_classifier/point_history_classifier.h5\n"
     ]
    },
    {
     "name": "stderr",
     "output_type": "stream",
     "text": [
      "WARNING:absl:You are saving your model as an HDF5 file via `model.save()` or `keras.saving.save_model(model)`. This file format is considered legacy. We recommend using instead the native Keras format, e.g. `model.save('my_model.keras')` or `keras.saving.save_model(model, 'my_model.keras')`. \n"
     ]
    },
    {
     "name": "stdout",
     "output_type": "stream",
     "text": [
      "\u001b[1m32/32\u001b[0m \u001b[32m━━━━━━━━━━━━━━━━━━━━\u001b[0m\u001b[37m\u001b[0m \u001b[1m0s\u001b[0m 8ms/step - accuracy: 0.8474 - loss: 0.4411 - val_accuracy: 0.9698 - val_loss: 0.2170\n",
      "Epoch 126/1000\n",
      "\u001b[1m17/32\u001b[0m \u001b[32m━━━━━━━━━━\u001b[0m\u001b[37m━━━━━━━━━━\u001b[0m \u001b[1m0s\u001b[0m 4ms/step - accuracy: 0.8514 - loss: 0.4479 \n",
      "Epoch 126: saving model to model/point_history_classifier/point_history_classifier.h5\n"
     ]
    },
    {
     "name": "stderr",
     "output_type": "stream",
     "text": [
      "WARNING:absl:You are saving your model as an HDF5 file via `model.save()` or `keras.saving.save_model(model)`. This file format is considered legacy. We recommend using instead the native Keras format, e.g. `model.save('my_model.keras')` or `keras.saving.save_model(model, 'my_model.keras')`. \n"
     ]
    },
    {
     "name": "stdout",
     "output_type": "stream",
     "text": [
      "\u001b[1m32/32\u001b[0m \u001b[32m━━━━━━━━━━━━━━━━━━━━\u001b[0m\u001b[37m\u001b[0m \u001b[1m0s\u001b[0m 9ms/step - accuracy: 0.8507 - loss: 0.4381 - val_accuracy: 0.9705 - val_loss: 0.2150\n",
      "Epoch 127/1000\n",
      "\u001b[1m19/32\u001b[0m \u001b[32m━━━━━━━━━━━\u001b[0m\u001b[37m━━━━━━━━━\u001b[0m \u001b[1m0s\u001b[0m 4ms/step - accuracy: 0.8575 - loss: 0.3917 \n",
      "Epoch 127: saving model to model/point_history_classifier/point_history_classifier.h5\n"
     ]
    },
    {
     "name": "stderr",
     "output_type": "stream",
     "text": [
      "WARNING:absl:You are saving your model as an HDF5 file via `model.save()` or `keras.saving.save_model(model)`. This file format is considered legacy. We recommend using instead the native Keras format, e.g. `model.save('my_model.keras')` or `keras.saving.save_model(model, 'my_model.keras')`. \n"
     ]
    },
    {
     "name": "stdout",
     "output_type": "stream",
     "text": [
      "\u001b[1m32/32\u001b[0m \u001b[32m━━━━━━━━━━━━━━━━━━━━\u001b[0m\u001b[37m\u001b[0m \u001b[1m0s\u001b[0m 8ms/step - accuracy: 0.8524 - loss: 0.4073 - val_accuracy: 0.9721 - val_loss: 0.2152\n",
      "Epoch 128/1000\n",
      "\u001b[1m19/32\u001b[0m \u001b[32m━━━━━━━━━━━\u001b[0m\u001b[37m━━━━━━━━━\u001b[0m \u001b[1m0s\u001b[0m 3ms/step - accuracy: 0.8406 - loss: 0.4951 \n",
      "Epoch 128: saving model to model/point_history_classifier/point_history_classifier.h5\n"
     ]
    },
    {
     "name": "stderr",
     "output_type": "stream",
     "text": [
      "WARNING:absl:You are saving your model as an HDF5 file via `model.save()` or `keras.saving.save_model(model)`. This file format is considered legacy. We recommend using instead the native Keras format, e.g. `model.save('my_model.keras')` or `keras.saving.save_model(model, 'my_model.keras')`. \n"
     ]
    },
    {
     "name": "stdout",
     "output_type": "stream",
     "text": [
      "\u001b[1m32/32\u001b[0m \u001b[32m━━━━━━━━━━━━━━━━━━━━\u001b[0m\u001b[37m\u001b[0m \u001b[1m0s\u001b[0m 8ms/step - accuracy: 0.8422 - loss: 0.4791 - val_accuracy: 0.9713 - val_loss: 0.2160\n",
      "Epoch 129/1000\n",
      "\u001b[1m29/32\u001b[0m \u001b[32m━━━━━━━━━━━━━━━━━━\u001b[0m\u001b[37m━━\u001b[0m \u001b[1m0s\u001b[0m 2ms/step - accuracy: 0.8459 - loss: 0.4213 \n",
      "Epoch 129: saving model to model/point_history_classifier/point_history_classifier.h5\n"
     ]
    },
    {
     "name": "stderr",
     "output_type": "stream",
     "text": [
      "WARNING:absl:You are saving your model as an HDF5 file via `model.save()` or `keras.saving.save_model(model)`. This file format is considered legacy. We recommend using instead the native Keras format, e.g. `model.save('my_model.keras')` or `keras.saving.save_model(model, 'my_model.keras')`. \n"
     ]
    },
    {
     "name": "stdout",
     "output_type": "stream",
     "text": [
      "\u001b[1m32/32\u001b[0m \u001b[32m━━━━━━━━━━━━━━━━━━━━\u001b[0m\u001b[37m\u001b[0m \u001b[1m0s\u001b[0m 7ms/step - accuracy: 0.8456 - loss: 0.4239 - val_accuracy: 0.9721 - val_loss: 0.2157\n",
      "Epoch 130/1000\n",
      "\u001b[1m18/32\u001b[0m \u001b[32m━━━━━━━━━━━\u001b[0m\u001b[37m━━━━━━━━━\u001b[0m \u001b[1m0s\u001b[0m 4ms/step - accuracy: 0.8407 - loss: 0.4097 \n",
      "Epoch 130: saving model to model/point_history_classifier/point_history_classifier.h5\n"
     ]
    },
    {
     "name": "stderr",
     "output_type": "stream",
     "text": [
      "WARNING:absl:You are saving your model as an HDF5 file via `model.save()` or `keras.saving.save_model(model)`. This file format is considered legacy. We recommend using instead the native Keras format, e.g. `model.save('my_model.keras')` or `keras.saving.save_model(model, 'my_model.keras')`. \n"
     ]
    },
    {
     "name": "stdout",
     "output_type": "stream",
     "text": [
      "\u001b[1m32/32\u001b[0m \u001b[32m━━━━━━━━━━━━━━━━━━━━\u001b[0m\u001b[37m\u001b[0m \u001b[1m0s\u001b[0m 9ms/step - accuracy: 0.8421 - loss: 0.4171 - val_accuracy: 0.9705 - val_loss: 0.2146\n",
      "Epoch 131/1000\n",
      "\u001b[1m19/32\u001b[0m \u001b[32m━━━━━━━━━━━\u001b[0m\u001b[37m━━━━━━━━━\u001b[0m \u001b[1m0s\u001b[0m 3ms/step - accuracy: 0.8553 - loss: 0.4505 \n",
      "Epoch 131: saving model to model/point_history_classifier/point_history_classifier.h5\n"
     ]
    },
    {
     "name": "stderr",
     "output_type": "stream",
     "text": [
      "WARNING:absl:You are saving your model as an HDF5 file via `model.save()` or `keras.saving.save_model(model)`. This file format is considered legacy. We recommend using instead the native Keras format, e.g. `model.save('my_model.keras')` or `keras.saving.save_model(model, 'my_model.keras')`. \n"
     ]
    },
    {
     "name": "stdout",
     "output_type": "stream",
     "text": [
      "\u001b[1m32/32\u001b[0m \u001b[32m━━━━━━━━━━━━━━━━━━━━\u001b[0m\u001b[37m\u001b[0m \u001b[1m0s\u001b[0m 9ms/step - accuracy: 0.8511 - loss: 0.4520 - val_accuracy: 0.9705 - val_loss: 0.2164\n",
      "Epoch 132/1000\n",
      "\u001b[1m 1/32\u001b[0m \u001b[37m━━━━━━━━━━━━━━━━━━━━\u001b[0m \u001b[1m1s\u001b[0m 63ms/step - accuracy: 0.8672 - loss: 0.3322\n",
      "Epoch 132: saving model to model/point_history_classifier/point_history_classifier.h5\n"
     ]
    },
    {
     "name": "stderr",
     "output_type": "stream",
     "text": [
      "WARNING:absl:You are saving your model as an HDF5 file via `model.save()` or `keras.saving.save_model(model)`. This file format is considered legacy. We recommend using instead the native Keras format, e.g. `model.save('my_model.keras')` or `keras.saving.save_model(model, 'my_model.keras')`. \n"
     ]
    },
    {
     "name": "stdout",
     "output_type": "stream",
     "text": [
      "\u001b[1m32/32\u001b[0m \u001b[32m━━━━━━━━━━━━━━━━━━━━\u001b[0m\u001b[37m\u001b[0m \u001b[1m0s\u001b[0m 6ms/step - accuracy: 0.8490 - loss: 0.4236 - val_accuracy: 0.9705 - val_loss: 0.2146\n",
      "Epoch 133/1000\n",
      "\u001b[1m 1/32\u001b[0m \u001b[37m━━━━━━━━━━━━━━━━━━━━\u001b[0m \u001b[1m1s\u001b[0m 47ms/step - accuracy: 0.7656 - loss: 0.5107\n",
      "Epoch 133: saving model to model/point_history_classifier/point_history_classifier.h5\n"
     ]
    },
    {
     "name": "stderr",
     "output_type": "stream",
     "text": [
      "WARNING:absl:You are saving your model as an HDF5 file via `model.save()` or `keras.saving.save_model(model)`. This file format is considered legacy. We recommend using instead the native Keras format, e.g. `model.save('my_model.keras')` or `keras.saving.save_model(model, 'my_model.keras')`. \n"
     ]
    },
    {
     "name": "stdout",
     "output_type": "stream",
     "text": [
      "\u001b[1m32/32\u001b[0m \u001b[32m━━━━━━━━━━━━━━━━━━━━\u001b[0m\u001b[37m\u001b[0m \u001b[1m0s\u001b[0m 7ms/step - accuracy: 0.8364 - loss: 0.4254 - val_accuracy: 0.9705 - val_loss: 0.2115\n",
      "Epoch 134/1000\n",
      "\u001b[1m20/32\u001b[0m \u001b[32m━━━━━━━━━━━━\u001b[0m\u001b[37m━━━━━━━━\u001b[0m \u001b[1m0s\u001b[0m 3ms/step - accuracy: 0.8603 - loss: 0.3964 \n",
      "Epoch 134: saving model to model/point_history_classifier/point_history_classifier.h5\n"
     ]
    },
    {
     "name": "stderr",
     "output_type": "stream",
     "text": [
      "WARNING:absl:You are saving your model as an HDF5 file via `model.save()` or `keras.saving.save_model(model)`. This file format is considered legacy. We recommend using instead the native Keras format, e.g. `model.save('my_model.keras')` or `keras.saving.save_model(model, 'my_model.keras')`. \n"
     ]
    },
    {
     "name": "stdout",
     "output_type": "stream",
     "text": [
      "\u001b[1m32/32\u001b[0m \u001b[32m━━━━━━━━━━━━━━━━━━━━\u001b[0m\u001b[37m\u001b[0m \u001b[1m0s\u001b[0m 6ms/step - accuracy: 0.8574 - loss: 0.4023 - val_accuracy: 0.9721 - val_loss: 0.2098\n",
      "Epoch 135/1000\n",
      "\u001b[1m22/32\u001b[0m \u001b[32m━━━━━━━━━━━━━\u001b[0m\u001b[37m━━━━━━━\u001b[0m \u001b[1m0s\u001b[0m 3ms/step - accuracy: 0.8443 - loss: 0.4342 \n",
      "Epoch 135: saving model to model/point_history_classifier/point_history_classifier.h5\n"
     ]
    },
    {
     "name": "stderr",
     "output_type": "stream",
     "text": [
      "WARNING:absl:You are saving your model as an HDF5 file via `model.save()` or `keras.saving.save_model(model)`. This file format is considered legacy. We recommend using instead the native Keras format, e.g. `model.save('my_model.keras')` or `keras.saving.save_model(model, 'my_model.keras')`. \n"
     ]
    },
    {
     "name": "stdout",
     "output_type": "stream",
     "text": [
      "\u001b[1m32/32\u001b[0m \u001b[32m━━━━━━━━━━━━━━━━━━━━\u001b[0m\u001b[37m\u001b[0m \u001b[1m0s\u001b[0m 7ms/step - accuracy: 0.8453 - loss: 0.4315 - val_accuracy: 0.9713 - val_loss: 0.2096\n",
      "Epoch 136/1000\n",
      "\u001b[1m30/32\u001b[0m \u001b[32m━━━━━━━━━━━━━━━━━━\u001b[0m\u001b[37m━━\u001b[0m \u001b[1m0s\u001b[0m 2ms/step - accuracy: 0.8595 - loss: 0.4302 \n",
      "Epoch 136: saving model to model/point_history_classifier/point_history_classifier.h5\n"
     ]
    },
    {
     "name": "stderr",
     "output_type": "stream",
     "text": [
      "WARNING:absl:You are saving your model as an HDF5 file via `model.save()` or `keras.saving.save_model(model)`. This file format is considered legacy. We recommend using instead the native Keras format, e.g. `model.save('my_model.keras')` or `keras.saving.save_model(model, 'my_model.keras')`. \n"
     ]
    },
    {
     "name": "stdout",
     "output_type": "stream",
     "text": [
      "\u001b[1m32/32\u001b[0m \u001b[32m━━━━━━━━━━━━━━━━━━━━\u001b[0m\u001b[37m\u001b[0m \u001b[1m0s\u001b[0m 7ms/step - accuracy: 0.8590 - loss: 0.4305 - val_accuracy: 0.9728 - val_loss: 0.2107\n",
      "Epoch 137/1000\n",
      "\u001b[1m27/32\u001b[0m \u001b[32m━━━━━━━━━━━━━━━━\u001b[0m\u001b[37m━━━━\u001b[0m \u001b[1m0s\u001b[0m 2ms/step - accuracy: 0.8463 - loss: 0.4206 \n",
      "Epoch 137: saving model to model/point_history_classifier/point_history_classifier.h5\n"
     ]
    },
    {
     "name": "stderr",
     "output_type": "stream",
     "text": [
      "WARNING:absl:You are saving your model as an HDF5 file via `model.save()` or `keras.saving.save_model(model)`. This file format is considered legacy. We recommend using instead the native Keras format, e.g. `model.save('my_model.keras')` or `keras.saving.save_model(model, 'my_model.keras')`. \n"
     ]
    },
    {
     "name": "stdout",
     "output_type": "stream",
     "text": [
      "\u001b[1m32/32\u001b[0m \u001b[32m━━━━━━━━━━━━━━━━━━━━\u001b[0m\u001b[37m\u001b[0m \u001b[1m0s\u001b[0m 9ms/step - accuracy: 0.8459 - loss: 0.4211 - val_accuracy: 0.9690 - val_loss: 0.2094\n",
      "Epoch 138/1000\n",
      "\u001b[1m26/32\u001b[0m \u001b[32m━━━━━━━━━━━━━━━━\u001b[0m\u001b[37m━━━━\u001b[0m \u001b[1m0s\u001b[0m 3ms/step - accuracy: 0.8535 - loss: 0.4270 \n",
      "Epoch 138: saving model to model/point_history_classifier/point_history_classifier.h5\n"
     ]
    },
    {
     "name": "stderr",
     "output_type": "stream",
     "text": [
      "WARNING:absl:You are saving your model as an HDF5 file via `model.save()` or `keras.saving.save_model(model)`. This file format is considered legacy. We recommend using instead the native Keras format, e.g. `model.save('my_model.keras')` or `keras.saving.save_model(model, 'my_model.keras')`. \n"
     ]
    },
    {
     "name": "stdout",
     "output_type": "stream",
     "text": [
      "\u001b[1m32/32\u001b[0m \u001b[32m━━━━━━━━━━━━━━━━━━━━\u001b[0m\u001b[37m\u001b[0m \u001b[1m0s\u001b[0m 7ms/step - accuracy: 0.8542 - loss: 0.4249 - val_accuracy: 0.9721 - val_loss: 0.2127\n",
      "Epoch 139/1000\n",
      "\u001b[1m 1/32\u001b[0m \u001b[37m━━━━━━━━━━━━━━━━━━━━\u001b[0m \u001b[1m0s\u001b[0m 29ms/step - accuracy: 0.8281 - loss: 0.3766\n",
      "Epoch 139: saving model to model/point_history_classifier/point_history_classifier.h5\n"
     ]
    },
    {
     "name": "stderr",
     "output_type": "stream",
     "text": [
      "WARNING:absl:You are saving your model as an HDF5 file via `model.save()` or `keras.saving.save_model(model)`. This file format is considered legacy. We recommend using instead the native Keras format, e.g. `model.save('my_model.keras')` or `keras.saving.save_model(model, 'my_model.keras')`. \n"
     ]
    },
    {
     "name": "stdout",
     "output_type": "stream",
     "text": [
      "\u001b[1m32/32\u001b[0m \u001b[32m━━━━━━━━━━━━━━━━━━━━\u001b[0m\u001b[37m\u001b[0m \u001b[1m0s\u001b[0m 6ms/step - accuracy: 0.8408 - loss: 0.4195 - val_accuracy: 0.9721 - val_loss: 0.2132\n",
      "Epoch 140/1000\n",
      "\u001b[1m 1/32\u001b[0m \u001b[37m━━━━━━━━━━━━━━━━━━━━\u001b[0m \u001b[1m0s\u001b[0m 32ms/step - accuracy: 0.8672 - loss: 0.3275\n",
      "Epoch 140: saving model to model/point_history_classifier/point_history_classifier.h5\n"
     ]
    },
    {
     "name": "stderr",
     "output_type": "stream",
     "text": [
      "WARNING:absl:You are saving your model as an HDF5 file via `model.save()` or `keras.saving.save_model(model)`. This file format is considered legacy. We recommend using instead the native Keras format, e.g. `model.save('my_model.keras')` or `keras.saving.save_model(model, 'my_model.keras')`. \n"
     ]
    },
    {
     "name": "stdout",
     "output_type": "stream",
     "text": [
      "\u001b[1m32/32\u001b[0m \u001b[32m━━━━━━━━━━━━━━━━━━━━\u001b[0m\u001b[37m\u001b[0m \u001b[1m0s\u001b[0m 6ms/step - accuracy: 0.8579 - loss: 0.4013 - val_accuracy: 0.9728 - val_loss: 0.2113\n",
      "Epoch 141/1000\n",
      "\u001b[1m27/32\u001b[0m \u001b[32m━━━━━━━━━━━━━━━━\u001b[0m\u001b[37m━━━━\u001b[0m \u001b[1m0s\u001b[0m 2ms/step - accuracy: 0.8659 - loss: 0.4239 \n",
      "Epoch 141: saving model to model/point_history_classifier/point_history_classifier.h5\n"
     ]
    },
    {
     "name": "stderr",
     "output_type": "stream",
     "text": [
      "WARNING:absl:You are saving your model as an HDF5 file via `model.save()` or `keras.saving.save_model(model)`. This file format is considered legacy. We recommend using instead the native Keras format, e.g. `model.save('my_model.keras')` or `keras.saving.save_model(model, 'my_model.keras')`. \n"
     ]
    },
    {
     "name": "stdout",
     "output_type": "stream",
     "text": [
      "\u001b[1m32/32\u001b[0m \u001b[32m━━━━━━━━━━━━━━━━━━━━\u001b[0m\u001b[37m\u001b[0m \u001b[1m0s\u001b[0m 6ms/step - accuracy: 0.8632 - loss: 0.4240 - val_accuracy: 0.9736 - val_loss: 0.2115\n",
      "Epoch 142/1000\n",
      "\u001b[1m28/32\u001b[0m \u001b[32m━━━━━━━━━━━━━━━━━\u001b[0m\u001b[37m━━━\u001b[0m \u001b[1m0s\u001b[0m 2ms/step - accuracy: 0.8510 - loss: 0.4114 \n",
      "Epoch 142: saving model to model/point_history_classifier/point_history_classifier.h5\n"
     ]
    },
    {
     "name": "stderr",
     "output_type": "stream",
     "text": [
      "WARNING:absl:You are saving your model as an HDF5 file via `model.save()` or `keras.saving.save_model(model)`. This file format is considered legacy. We recommend using instead the native Keras format, e.g. `model.save('my_model.keras')` or `keras.saving.save_model(model, 'my_model.keras')`. \n"
     ]
    },
    {
     "name": "stdout",
     "output_type": "stream",
     "text": [
      "\u001b[1m32/32\u001b[0m \u001b[32m━━━━━━━━━━━━━━━━━━━━\u001b[0m\u001b[37m\u001b[0m \u001b[1m0s\u001b[0m 8ms/step - accuracy: 0.8510 - loss: 0.4112 - val_accuracy: 0.9728 - val_loss: 0.2120\n",
      "Epoch 143/1000\n",
      "\u001b[1m21/32\u001b[0m \u001b[32m━━━━━━━━━━━━━\u001b[0m\u001b[37m━━━━━━━\u001b[0m \u001b[1m0s\u001b[0m 3ms/step - accuracy: 0.8448 - loss: 0.4147 \n",
      "Epoch 143: saving model to model/point_history_classifier/point_history_classifier.h5\n"
     ]
    },
    {
     "name": "stderr",
     "output_type": "stream",
     "text": [
      "WARNING:absl:You are saving your model as an HDF5 file via `model.save()` or `keras.saving.save_model(model)`. This file format is considered legacy. We recommend using instead the native Keras format, e.g. `model.save('my_model.keras')` or `keras.saving.save_model(model, 'my_model.keras')`. \n"
     ]
    },
    {
     "name": "stdout",
     "output_type": "stream",
     "text": [
      "\u001b[1m32/32\u001b[0m \u001b[32m━━━━━━━━━━━━━━━━━━━━\u001b[0m\u001b[37m\u001b[0m \u001b[1m0s\u001b[0m 9ms/step - accuracy: 0.8444 - loss: 0.4214 - val_accuracy: 0.9713 - val_loss: 0.2101\n",
      "Epoch 144/1000\n",
      "\u001b[1m30/32\u001b[0m \u001b[32m━━━━━━━━━━━━━━━━━━\u001b[0m\u001b[37m━━\u001b[0m \u001b[1m0s\u001b[0m 2ms/step - accuracy: 0.8517 - loss: 0.4112 \n",
      "Epoch 144: saving model to model/point_history_classifier/point_history_classifier.h5\n"
     ]
    },
    {
     "name": "stderr",
     "output_type": "stream",
     "text": [
      "WARNING:absl:You are saving your model as an HDF5 file via `model.save()` or `keras.saving.save_model(model)`. This file format is considered legacy. We recommend using instead the native Keras format, e.g. `model.save('my_model.keras')` or `keras.saving.save_model(model, 'my_model.keras')`. \n"
     ]
    },
    {
     "name": "stdout",
     "output_type": "stream",
     "text": [
      "\u001b[1m32/32\u001b[0m \u001b[32m━━━━━━━━━━━━━━━━━━━━\u001b[0m\u001b[37m\u001b[0m \u001b[1m0s\u001b[0m 8ms/step - accuracy: 0.8522 - loss: 0.4102 - val_accuracy: 0.9705 - val_loss: 0.2081\n",
      "Epoch 145/1000\n",
      "\u001b[1m 1/32\u001b[0m \u001b[37m━━━━━━━━━━━━━━━━━━━━\u001b[0m \u001b[1m1s\u001b[0m 44ms/step - accuracy: 0.8438 - loss: 0.4343\n",
      "Epoch 145: saving model to model/point_history_classifier/point_history_classifier.h5\n"
     ]
    },
    {
     "name": "stderr",
     "output_type": "stream",
     "text": [
      "WARNING:absl:You are saving your model as an HDF5 file via `model.save()` or `keras.saving.save_model(model)`. This file format is considered legacy. We recommend using instead the native Keras format, e.g. `model.save('my_model.keras')` or `keras.saving.save_model(model, 'my_model.keras')`. \n"
     ]
    },
    {
     "name": "stdout",
     "output_type": "stream",
     "text": [
      "\u001b[1m32/32\u001b[0m \u001b[32m━━━━━━━━━━━━━━━━━━━━\u001b[0m\u001b[37m\u001b[0m \u001b[1m0s\u001b[0m 5ms/step - accuracy: 0.8410 - loss: 0.4315 - val_accuracy: 0.9713 - val_loss: 0.2083\n",
      "Epoch 146/1000\n",
      "\u001b[1m30/32\u001b[0m \u001b[32m━━━━━━━━━━━━━━━━━━\u001b[0m\u001b[37m━━\u001b[0m \u001b[1m0s\u001b[0m 2ms/step - accuracy: 0.8467 - loss: 0.4114 \n",
      "Epoch 146: saving model to model/point_history_classifier/point_history_classifier.h5\n"
     ]
    },
    {
     "name": "stderr",
     "output_type": "stream",
     "text": [
      "WARNING:absl:You are saving your model as an HDF5 file via `model.save()` or `keras.saving.save_model(model)`. This file format is considered legacy. We recommend using instead the native Keras format, e.g. `model.save('my_model.keras')` or `keras.saving.save_model(model, 'my_model.keras')`. \n"
     ]
    },
    {
     "name": "stdout",
     "output_type": "stream",
     "text": [
      "\u001b[1m32/32\u001b[0m \u001b[32m━━━━━━━━━━━━━━━━━━━━\u001b[0m\u001b[37m\u001b[0m \u001b[1m0s\u001b[0m 7ms/step - accuracy: 0.8462 - loss: 0.4134 - val_accuracy: 0.9705 - val_loss: 0.2114\n",
      "Epoch 147/1000\n",
      "\u001b[1m26/32\u001b[0m \u001b[32m━━━━━━━━━━━━━━━━\u001b[0m\u001b[37m━━━━\u001b[0m \u001b[1m0s\u001b[0m 2ms/step - accuracy: 0.8539 - loss: 0.4004 \n",
      "Epoch 147: saving model to model/point_history_classifier/point_history_classifier.h5\n"
     ]
    },
    {
     "name": "stderr",
     "output_type": "stream",
     "text": [
      "WARNING:absl:You are saving your model as an HDF5 file via `model.save()` or `keras.saving.save_model(model)`. This file format is considered legacy. We recommend using instead the native Keras format, e.g. `model.save('my_model.keras')` or `keras.saving.save_model(model, 'my_model.keras')`. \n"
     ]
    },
    {
     "name": "stdout",
     "output_type": "stream",
     "text": [
      "\u001b[1m32/32\u001b[0m \u001b[32m━━━━━━━━━━━━━━━━━━━━\u001b[0m\u001b[37m\u001b[0m \u001b[1m0s\u001b[0m 6ms/step - accuracy: 0.8544 - loss: 0.4013 - val_accuracy: 0.9705 - val_loss: 0.2099\n",
      "Epoch 148/1000\n",
      "\u001b[1m 1/32\u001b[0m \u001b[37m━━━━━━━━━━━━━━━━━━━━\u001b[0m \u001b[1m1s\u001b[0m 62ms/step - accuracy: 0.8516 - loss: 0.3814\n",
      "Epoch 148: saving model to model/point_history_classifier/point_history_classifier.h5\n"
     ]
    },
    {
     "name": "stderr",
     "output_type": "stream",
     "text": [
      "WARNING:absl:You are saving your model as an HDF5 file via `model.save()` or `keras.saving.save_model(model)`. This file format is considered legacy. We recommend using instead the native Keras format, e.g. `model.save('my_model.keras')` or `keras.saving.save_model(model, 'my_model.keras')`. \n"
     ]
    },
    {
     "name": "stdout",
     "output_type": "stream",
     "text": [
      "\u001b[1m32/32\u001b[0m \u001b[32m━━━━━━━━━━━━━━━━━━━━\u001b[0m\u001b[37m\u001b[0m \u001b[1m0s\u001b[0m 7ms/step - accuracy: 0.8530 - loss: 0.3958 - val_accuracy: 0.9713 - val_loss: 0.2084\n",
      "Epoch 149/1000\n",
      "\u001b[1m18/32\u001b[0m \u001b[32m━━━━━━━━━━━\u001b[0m\u001b[37m━━━━━━━━━\u001b[0m \u001b[1m0s\u001b[0m 4ms/step - accuracy: 0.8398 - loss: 0.4725 \n",
      "Epoch 149: saving model to model/point_history_classifier/point_history_classifier.h5\n"
     ]
    },
    {
     "name": "stderr",
     "output_type": "stream",
     "text": [
      "WARNING:absl:You are saving your model as an HDF5 file via `model.save()` or `keras.saving.save_model(model)`. This file format is considered legacy. We recommend using instead the native Keras format, e.g. `model.save('my_model.keras')` or `keras.saving.save_model(model, 'my_model.keras')`. \n"
     ]
    },
    {
     "name": "stdout",
     "output_type": "stream",
     "text": [
      "\u001b[1m32/32\u001b[0m \u001b[32m━━━━━━━━━━━━━━━━━━━━\u001b[0m\u001b[37m\u001b[0m \u001b[1m0s\u001b[0m 9ms/step - accuracy: 0.8432 - loss: 0.4514 - val_accuracy: 0.9721 - val_loss: 0.2062\n",
      "Epoch 150/1000\n",
      "\u001b[1m20/32\u001b[0m \u001b[32m━━━━━━━━━━━━\u001b[0m\u001b[37m━━━━━━━━\u001b[0m \u001b[1m0s\u001b[0m 3ms/step - accuracy: 0.8423 - loss: 0.4260 \n",
      "Epoch 150: saving model to model/point_history_classifier/point_history_classifier.h5\n"
     ]
    },
    {
     "name": "stderr",
     "output_type": "stream",
     "text": [
      "WARNING:absl:You are saving your model as an HDF5 file via `model.save()` or `keras.saving.save_model(model)`. This file format is considered legacy. We recommend using instead the native Keras format, e.g. `model.save('my_model.keras')` or `keras.saving.save_model(model, 'my_model.keras')`. \n"
     ]
    },
    {
     "name": "stdout",
     "output_type": "stream",
     "text": [
      "\u001b[1m32/32\u001b[0m \u001b[32m━━━━━━━━━━━━━━━━━━━━\u001b[0m\u001b[37m\u001b[0m \u001b[1m0s\u001b[0m 8ms/step - accuracy: 0.8437 - loss: 0.4225 - val_accuracy: 0.9721 - val_loss: 0.2064\n",
      "Epoch 151/1000\n",
      "\u001b[1m21/32\u001b[0m \u001b[32m━━━━━━━━━━━━━\u001b[0m\u001b[37m━━━━━━━\u001b[0m \u001b[1m0s\u001b[0m 3ms/step - accuracy: 0.8462 - loss: 0.4076 \n",
      "Epoch 151: saving model to model/point_history_classifier/point_history_classifier.h5\n"
     ]
    },
    {
     "name": "stderr",
     "output_type": "stream",
     "text": [
      "WARNING:absl:You are saving your model as an HDF5 file via `model.save()` or `keras.saving.save_model(model)`. This file format is considered legacy. We recommend using instead the native Keras format, e.g. `model.save('my_model.keras')` or `keras.saving.save_model(model, 'my_model.keras')`. \n"
     ]
    },
    {
     "name": "stdout",
     "output_type": "stream",
     "text": [
      "\u001b[1m32/32\u001b[0m \u001b[32m━━━━━━━━━━━━━━━━━━━━\u001b[0m\u001b[37m\u001b[0m \u001b[1m0s\u001b[0m 8ms/step - accuracy: 0.8478 - loss: 0.4037 - val_accuracy: 0.9698 - val_loss: 0.2063\n",
      "Epoch 152/1000\n",
      "\u001b[1m30/32\u001b[0m \u001b[32m━━━━━━━━━━━━━━━━━━\u001b[0m\u001b[37m━━\u001b[0m \u001b[1m0s\u001b[0m 2ms/step - accuracy: 0.8675 - loss: 0.4057 \n",
      "Epoch 152: saving model to model/point_history_classifier/point_history_classifier.h5\n"
     ]
    },
    {
     "name": "stderr",
     "output_type": "stream",
     "text": [
      "WARNING:absl:You are saving your model as an HDF5 file via `model.save()` or `keras.saving.save_model(model)`. This file format is considered legacy. We recommend using instead the native Keras format, e.g. `model.save('my_model.keras')` or `keras.saving.save_model(model, 'my_model.keras')`. \n"
     ]
    },
    {
     "name": "stdout",
     "output_type": "stream",
     "text": [
      "\u001b[1m32/32\u001b[0m \u001b[32m━━━━━━━━━━━━━━━━━━━━\u001b[0m\u001b[37m\u001b[0m \u001b[1m0s\u001b[0m 7ms/step - accuracy: 0.8666 - loss: 0.4067 - val_accuracy: 0.9736 - val_loss: 0.2057\n",
      "Epoch 153/1000\n",
      "\u001b[1m19/32\u001b[0m \u001b[32m━━━━━━━━━━━\u001b[0m\u001b[37m━━━━━━━━━\u001b[0m \u001b[1m0s\u001b[0m 3ms/step - accuracy: 0.8722 - loss: 0.3741 \n",
      "Epoch 153: saving model to model/point_history_classifier/point_history_classifier.h5\n"
     ]
    },
    {
     "name": "stderr",
     "output_type": "stream",
     "text": [
      "WARNING:absl:You are saving your model as an HDF5 file via `model.save()` or `keras.saving.save_model(model)`. This file format is considered legacy. We recommend using instead the native Keras format, e.g. `model.save('my_model.keras')` or `keras.saving.save_model(model, 'my_model.keras')`. \n"
     ]
    },
    {
     "name": "stdout",
     "output_type": "stream",
     "text": [
      "\u001b[1m32/32\u001b[0m \u001b[32m━━━━━━━━━━━━━━━━━━━━\u001b[0m\u001b[37m\u001b[0m \u001b[1m0s\u001b[0m 7ms/step - accuracy: 0.8616 - loss: 0.3945 - val_accuracy: 0.9721 - val_loss: 0.2056\n",
      "Epoch 154/1000\n",
      "\u001b[1m31/32\u001b[0m \u001b[32m━━━━━━━━━━━━━━━━━━━\u001b[0m\u001b[37m━\u001b[0m \u001b[1m0s\u001b[0m 2ms/step - accuracy: 0.8445 - loss: 0.4247 \n",
      "Epoch 154: saving model to model/point_history_classifier/point_history_classifier.h5\n"
     ]
    },
    {
     "name": "stderr",
     "output_type": "stream",
     "text": [
      "WARNING:absl:You are saving your model as an HDF5 file via `model.save()` or `keras.saving.save_model(model)`. This file format is considered legacy. We recommend using instead the native Keras format, e.g. `model.save('my_model.keras')` or `keras.saving.save_model(model, 'my_model.keras')`. \n"
     ]
    },
    {
     "name": "stdout",
     "output_type": "stream",
     "text": [
      "\u001b[1m32/32\u001b[0m \u001b[32m━━━━━━━━━━━━━━━━━━━━\u001b[0m\u001b[37m\u001b[0m \u001b[1m0s\u001b[0m 7ms/step - accuracy: 0.8445 - loss: 0.4247 - val_accuracy: 0.9713 - val_loss: 0.2056\n",
      "Epoch 155/1000\n",
      "\u001b[1m22/32\u001b[0m \u001b[32m━━━━━━━━━━━━━\u001b[0m\u001b[37m━━━━━━━\u001b[0m \u001b[1m0s\u001b[0m 3ms/step - accuracy: 0.8521 - loss: 0.3917 \n",
      "Epoch 155: saving model to model/point_history_classifier/point_history_classifier.h5\n"
     ]
    },
    {
     "name": "stderr",
     "output_type": "stream",
     "text": [
      "WARNING:absl:You are saving your model as an HDF5 file via `model.save()` or `keras.saving.save_model(model)`. This file format is considered legacy. We recommend using instead the native Keras format, e.g. `model.save('my_model.keras')` or `keras.saving.save_model(model, 'my_model.keras')`. \n"
     ]
    },
    {
     "name": "stdout",
     "output_type": "stream",
     "text": [
      "\u001b[1m32/32\u001b[0m \u001b[32m━━━━━━━━━━━━━━━━━━━━\u001b[0m\u001b[37m\u001b[0m \u001b[1m0s\u001b[0m 9ms/step - accuracy: 0.8500 - loss: 0.3997 - val_accuracy: 0.9721 - val_loss: 0.2052\n",
      "Epoch 156/1000\n",
      "\u001b[1m15/32\u001b[0m \u001b[32m━━━━━━━━━\u001b[0m\u001b[37m━━━━━━━━━━━\u001b[0m \u001b[1m0s\u001b[0m 4ms/step - accuracy: 0.8434 - loss: 0.4129 \n",
      "Epoch 156: saving model to model/point_history_classifier/point_history_classifier.h5\n"
     ]
    },
    {
     "name": "stderr",
     "output_type": "stream",
     "text": [
      "WARNING:absl:You are saving your model as an HDF5 file via `model.save()` or `keras.saving.save_model(model)`. This file format is considered legacy. We recommend using instead the native Keras format, e.g. `model.save('my_model.keras')` or `keras.saving.save_model(model, 'my_model.keras')`. \n"
     ]
    },
    {
     "name": "stdout",
     "output_type": "stream",
     "text": [
      "\u001b[1m32/32\u001b[0m \u001b[32m━━━━━━━━━━━━━━━━━━━━\u001b[0m\u001b[37m\u001b[0m \u001b[1m0s\u001b[0m 8ms/step - accuracy: 0.8504 - loss: 0.4076 - val_accuracy: 0.9743 - val_loss: 0.2036\n",
      "Epoch 157/1000\n",
      "\u001b[1m29/32\u001b[0m \u001b[32m━━━━━━━━━━━━━━━━━━\u001b[0m\u001b[37m━━\u001b[0m \u001b[1m0s\u001b[0m 2ms/step - accuracy: 0.8593 - loss: 0.4209 \n",
      "Epoch 157: saving model to model/point_history_classifier/point_history_classifier.h5\n"
     ]
    },
    {
     "name": "stderr",
     "output_type": "stream",
     "text": [
      "WARNING:absl:You are saving your model as an HDF5 file via `model.save()` or `keras.saving.save_model(model)`. This file format is considered legacy. We recommend using instead the native Keras format, e.g. `model.save('my_model.keras')` or `keras.saving.save_model(model, 'my_model.keras')`. \n"
     ]
    },
    {
     "name": "stdout",
     "output_type": "stream",
     "text": [
      "\u001b[1m32/32\u001b[0m \u001b[32m━━━━━━━━━━━━━━━━━━━━\u001b[0m\u001b[37m\u001b[0m \u001b[1m0s\u001b[0m 8ms/step - accuracy: 0.8588 - loss: 0.4207 - val_accuracy: 0.9736 - val_loss: 0.2032\n",
      "Epoch 158/1000\n",
      "\u001b[1m25/32\u001b[0m \u001b[32m━━━━━━━━━━━━━━━\u001b[0m\u001b[37m━━━━━\u001b[0m \u001b[1m0s\u001b[0m 3ms/step - accuracy: 0.8594 - loss: 0.3861 \n",
      "Epoch 158: saving model to model/point_history_classifier/point_history_classifier.h5\n"
     ]
    },
    {
     "name": "stderr",
     "output_type": "stream",
     "text": [
      "WARNING:absl:You are saving your model as an HDF5 file via `model.save()` or `keras.saving.save_model(model)`. This file format is considered legacy. We recommend using instead the native Keras format, e.g. `model.save('my_model.keras')` or `keras.saving.save_model(model, 'my_model.keras')`. \n"
     ]
    },
    {
     "name": "stdout",
     "output_type": "stream",
     "text": [
      "\u001b[1m32/32\u001b[0m \u001b[32m━━━━━━━━━━━━━━━━━━━━\u001b[0m\u001b[37m\u001b[0m \u001b[1m0s\u001b[0m 8ms/step - accuracy: 0.8584 - loss: 0.3887 - val_accuracy: 0.9713 - val_loss: 0.2026\n",
      "Epoch 159/1000\n",
      "\u001b[1m29/32\u001b[0m \u001b[32m━━━━━━━━━━━━━━━━━━\u001b[0m\u001b[37m━━\u001b[0m \u001b[1m0s\u001b[0m 2ms/step - accuracy: 0.8428 - loss: 0.4282 \n",
      "Epoch 159: saving model to model/point_history_classifier/point_history_classifier.h5\n"
     ]
    },
    {
     "name": "stderr",
     "output_type": "stream",
     "text": [
      "WARNING:absl:You are saving your model as an HDF5 file via `model.save()` or `keras.saving.save_model(model)`. This file format is considered legacy. We recommend using instead the native Keras format, e.g. `model.save('my_model.keras')` or `keras.saving.save_model(model, 'my_model.keras')`. \n"
     ]
    },
    {
     "name": "stdout",
     "output_type": "stream",
     "text": [
      "\u001b[1m32/32\u001b[0m \u001b[32m━━━━━━━━━━━━━━━━━━━━\u001b[0m\u001b[37m\u001b[0m \u001b[1m0s\u001b[0m 8ms/step - accuracy: 0.8430 - loss: 0.4300 - val_accuracy: 0.9713 - val_loss: 0.2034\n",
      "Epoch 160/1000\n",
      "\u001b[1m22/32\u001b[0m \u001b[32m━━━━━━━━━━━━━\u001b[0m\u001b[37m━━━━━━━\u001b[0m \u001b[1m0s\u001b[0m 3ms/step - accuracy: 0.8541 - loss: 0.4149 \n",
      "Epoch 160: saving model to model/point_history_classifier/point_history_classifier.h5\n"
     ]
    },
    {
     "name": "stderr",
     "output_type": "stream",
     "text": [
      "WARNING:absl:You are saving your model as an HDF5 file via `model.save()` or `keras.saving.save_model(model)`. This file format is considered legacy. We recommend using instead the native Keras format, e.g. `model.save('my_model.keras')` or `keras.saving.save_model(model, 'my_model.keras')`. \n"
     ]
    },
    {
     "name": "stdout",
     "output_type": "stream",
     "text": [
      "\u001b[1m32/32\u001b[0m \u001b[32m━━━━━━━━━━━━━━━━━━━━\u001b[0m\u001b[37m\u001b[0m \u001b[1m0s\u001b[0m 10ms/step - accuracy: 0.8538 - loss: 0.4120 - val_accuracy: 0.9713 - val_loss: 0.2048\n",
      "Epoch 161/1000\n",
      "\u001b[1m17/32\u001b[0m \u001b[32m━━━━━━━━━━\u001b[0m\u001b[37m━━━━━━━━━━\u001b[0m \u001b[1m0s\u001b[0m 4ms/step - accuracy: 0.8680 - loss: 0.3739 \n",
      "Epoch 161: saving model to model/point_history_classifier/point_history_classifier.h5\n"
     ]
    },
    {
     "name": "stderr",
     "output_type": "stream",
     "text": [
      "WARNING:absl:You are saving your model as an HDF5 file via `model.save()` or `keras.saving.save_model(model)`. This file format is considered legacy. We recommend using instead the native Keras format, e.g. `model.save('my_model.keras')` or `keras.saving.save_model(model, 'my_model.keras')`. \n"
     ]
    },
    {
     "name": "stdout",
     "output_type": "stream",
     "text": [
      "\u001b[1m32/32\u001b[0m \u001b[32m━━━━━━━━━━━━━━━━━━━━\u001b[0m\u001b[37m\u001b[0m \u001b[1m0s\u001b[0m 8ms/step - accuracy: 0.8623 - loss: 0.3893 - val_accuracy: 0.9736 - val_loss: 0.2062\n",
      "Epoch 162/1000\n",
      "\u001b[1m23/32\u001b[0m \u001b[32m━━━━━━━━━━━━━━\u001b[0m\u001b[37m━━━━━━\u001b[0m \u001b[1m0s\u001b[0m 3ms/step - accuracy: 0.8471 - loss: 0.4357 \n",
      "Epoch 162: saving model to model/point_history_classifier/point_history_classifier.h5\n"
     ]
    },
    {
     "name": "stderr",
     "output_type": "stream",
     "text": [
      "WARNING:absl:You are saving your model as an HDF5 file via `model.save()` or `keras.saving.save_model(model)`. This file format is considered legacy. We recommend using instead the native Keras format, e.g. `model.save('my_model.keras')` or `keras.saving.save_model(model, 'my_model.keras')`. \n"
     ]
    },
    {
     "name": "stdout",
     "output_type": "stream",
     "text": [
      "\u001b[1m32/32\u001b[0m \u001b[32m━━━━━━━━━━━━━━━━━━━━\u001b[0m\u001b[37m\u001b[0m \u001b[1m0s\u001b[0m 8ms/step - accuracy: 0.8477 - loss: 0.4347 - val_accuracy: 0.9713 - val_loss: 0.2066\n",
      "Epoch 163/1000\n",
      "\u001b[1m19/32\u001b[0m \u001b[32m━━━━━━━━━━━\u001b[0m\u001b[37m━━━━━━━━━\u001b[0m \u001b[1m0s\u001b[0m 3ms/step - accuracy: 0.8419 - loss: 0.4240 \n",
      "Epoch 163: saving model to model/point_history_classifier/point_history_classifier.h5\n"
     ]
    },
    {
     "name": "stderr",
     "output_type": "stream",
     "text": [
      "WARNING:absl:You are saving your model as an HDF5 file via `model.save()` or `keras.saving.save_model(model)`. This file format is considered legacy. We recommend using instead the native Keras format, e.g. `model.save('my_model.keras')` or `keras.saving.save_model(model, 'my_model.keras')`. \n"
     ]
    },
    {
     "name": "stdout",
     "output_type": "stream",
     "text": [
      "\u001b[1m32/32\u001b[0m \u001b[32m━━━━━━━━━━━━━━━━━━━━\u001b[0m\u001b[37m\u001b[0m \u001b[1m0s\u001b[0m 8ms/step - accuracy: 0.8454 - loss: 0.4197 - val_accuracy: 0.9743 - val_loss: 0.2040\n",
      "Epoch 164/1000\n",
      "\u001b[1m23/32\u001b[0m \u001b[32m━━━━━━━━━━━━━━\u001b[0m\u001b[37m━━━━━━\u001b[0m \u001b[1m0s\u001b[0m 3ms/step - accuracy: 0.8475 - loss: 0.4186 \n",
      "Epoch 164: saving model to model/point_history_classifier/point_history_classifier.h5\n"
     ]
    },
    {
     "name": "stderr",
     "output_type": "stream",
     "text": [
      "WARNING:absl:You are saving your model as an HDF5 file via `model.save()` or `keras.saving.save_model(model)`. This file format is considered legacy. We recommend using instead the native Keras format, e.g. `model.save('my_model.keras')` or `keras.saving.save_model(model, 'my_model.keras')`. \n"
     ]
    },
    {
     "name": "stdout",
     "output_type": "stream",
     "text": [
      "\u001b[1m32/32\u001b[0m \u001b[32m━━━━━━━━━━━━━━━━━━━━\u001b[0m\u001b[37m\u001b[0m \u001b[1m0s\u001b[0m 7ms/step - accuracy: 0.8493 - loss: 0.4135 - val_accuracy: 0.9721 - val_loss: 0.2030\n",
      "Epoch 165/1000\n",
      "\u001b[1m28/32\u001b[0m \u001b[32m━━━━━━━━━━━━━━━━━\u001b[0m\u001b[37m━━━\u001b[0m \u001b[1m0s\u001b[0m 2ms/step - accuracy: 0.8632 - loss: 0.4112 \n",
      "Epoch 165: saving model to model/point_history_classifier/point_history_classifier.h5\n"
     ]
    },
    {
     "name": "stderr",
     "output_type": "stream",
     "text": [
      "WARNING:absl:You are saving your model as an HDF5 file via `model.save()` or `keras.saving.save_model(model)`. This file format is considered legacy. We recommend using instead the native Keras format, e.g. `model.save('my_model.keras')` or `keras.saving.save_model(model, 'my_model.keras')`. \n"
     ]
    },
    {
     "name": "stdout",
     "output_type": "stream",
     "text": [
      "\u001b[1m32/32\u001b[0m \u001b[32m━━━━━━━━━━━━━━━━━━━━\u001b[0m\u001b[37m\u001b[0m \u001b[1m0s\u001b[0m 9ms/step - accuracy: 0.8620 - loss: 0.4119 - val_accuracy: 0.9721 - val_loss: 0.2048\n",
      "Epoch 166/1000\n",
      "\u001b[1m31/32\u001b[0m \u001b[32m━━━━━━━━━━━━━━━━━━━\u001b[0m\u001b[37m━\u001b[0m \u001b[1m0s\u001b[0m 2ms/step - accuracy: 0.8587 - loss: 0.3912 \n",
      "Epoch 166: saving model to model/point_history_classifier/point_history_classifier.h5\n"
     ]
    },
    {
     "name": "stderr",
     "output_type": "stream",
     "text": [
      "WARNING:absl:You are saving your model as an HDF5 file via `model.save()` or `keras.saving.save_model(model)`. This file format is considered legacy. We recommend using instead the native Keras format, e.g. `model.save('my_model.keras')` or `keras.saving.save_model(model, 'my_model.keras')`. \n"
     ]
    },
    {
     "name": "stdout",
     "output_type": "stream",
     "text": [
      "\u001b[1m32/32\u001b[0m \u001b[32m━━━━━━━━━━━━━━━━━━━━\u001b[0m\u001b[37m\u001b[0m \u001b[1m0s\u001b[0m 9ms/step - accuracy: 0.8582 - loss: 0.3922 - val_accuracy: 0.9751 - val_loss: 0.2042\n",
      "Epoch 167/1000\n",
      "\u001b[1m22/32\u001b[0m \u001b[32m━━━━━━━━━━━━━\u001b[0m\u001b[37m━━━━━━━\u001b[0m \u001b[1m0s\u001b[0m 2ms/step - accuracy: 0.8573 - loss: 0.4247 \n",
      "Epoch 167: saving model to model/point_history_classifier/point_history_classifier.h5\n"
     ]
    },
    {
     "name": "stderr",
     "output_type": "stream",
     "text": [
      "WARNING:absl:You are saving your model as an HDF5 file via `model.save()` or `keras.saving.save_model(model)`. This file format is considered legacy. We recommend using instead the native Keras format, e.g. `model.save('my_model.keras')` or `keras.saving.save_model(model, 'my_model.keras')`. \n"
     ]
    },
    {
     "name": "stdout",
     "output_type": "stream",
     "text": [
      "\u001b[1m32/32\u001b[0m \u001b[32m━━━━━━━━━━━━━━━━━━━━\u001b[0m\u001b[37m\u001b[0m \u001b[1m0s\u001b[0m 6ms/step - accuracy: 0.8566 - loss: 0.4220 - val_accuracy: 0.9751 - val_loss: 0.2058\n",
      "Epoch 168/1000\n",
      "\u001b[1m 1/32\u001b[0m \u001b[37m━━━━━━━━━━━━━━━━━━━━\u001b[0m \u001b[1m0s\u001b[0m 32ms/step - accuracy: 0.8672 - loss: 0.3906\n",
      "Epoch 168: saving model to model/point_history_classifier/point_history_classifier.h5\n"
     ]
    },
    {
     "name": "stderr",
     "output_type": "stream",
     "text": [
      "WARNING:absl:You are saving your model as an HDF5 file via `model.save()` or `keras.saving.save_model(model)`. This file format is considered legacy. We recommend using instead the native Keras format, e.g. `model.save('my_model.keras')` or `keras.saving.save_model(model, 'my_model.keras')`. \n"
     ]
    },
    {
     "name": "stdout",
     "output_type": "stream",
     "text": [
      "\u001b[1m32/32\u001b[0m \u001b[32m━━━━━━━━━━━━━━━━━━━━\u001b[0m\u001b[37m\u001b[0m \u001b[1m0s\u001b[0m 6ms/step - accuracy: 0.8499 - loss: 0.4186 - val_accuracy: 0.9713 - val_loss: 0.2035\n",
      "Epoch 169/1000\n",
      "\u001b[1m 1/32\u001b[0m \u001b[37m━━━━━━━━━━━━━━━━━━━━\u001b[0m \u001b[1m0s\u001b[0m 30ms/step - accuracy: 0.8516 - loss: 0.3942\n",
      "Epoch 169: saving model to model/point_history_classifier/point_history_classifier.h5\n"
     ]
    },
    {
     "name": "stderr",
     "output_type": "stream",
     "text": [
      "WARNING:absl:You are saving your model as an HDF5 file via `model.save()` or `keras.saving.save_model(model)`. This file format is considered legacy. We recommend using instead the native Keras format, e.g. `model.save('my_model.keras')` or `keras.saving.save_model(model, 'my_model.keras')`. \n"
     ]
    },
    {
     "name": "stdout",
     "output_type": "stream",
     "text": [
      "\u001b[1m32/32\u001b[0m \u001b[32m━━━━━━━━━━━━━━━━━━━━\u001b[0m\u001b[37m\u001b[0m \u001b[1m0s\u001b[0m 6ms/step - accuracy: 0.8547 - loss: 0.4068 - val_accuracy: 0.9736 - val_loss: 0.2038\n",
      "Epoch 170/1000\n",
      "\u001b[1m 1/32\u001b[0m \u001b[37m━━━━━━━━━━━━━━━━━━━━\u001b[0m \u001b[1m1s\u001b[0m 42ms/step - accuracy: 0.8594 - loss: 0.4025\n",
      "Epoch 170: saving model to model/point_history_classifier/point_history_classifier.h5\n"
     ]
    },
    {
     "name": "stderr",
     "output_type": "stream",
     "text": [
      "WARNING:absl:You are saving your model as an HDF5 file via `model.save()` or `keras.saving.save_model(model)`. This file format is considered legacy. We recommend using instead the native Keras format, e.g. `model.save('my_model.keras')` or `keras.saving.save_model(model, 'my_model.keras')`. \n"
     ]
    },
    {
     "name": "stdout",
     "output_type": "stream",
     "text": [
      "\u001b[1m32/32\u001b[0m \u001b[32m━━━━━━━━━━━━━━━━━━━━\u001b[0m\u001b[37m\u001b[0m \u001b[1m0s\u001b[0m 8ms/step - accuracy: 0.8581 - loss: 0.3961 - val_accuracy: 0.9728 - val_loss: 0.2024\n",
      "Epoch 171/1000\n",
      "\u001b[1m21/32\u001b[0m \u001b[32m━━━━━━━━━━━━━\u001b[0m\u001b[37m━━━━━━━\u001b[0m \u001b[1m0s\u001b[0m 5ms/step - accuracy: 0.8572 - loss: 0.3860 \n",
      "Epoch 171: saving model to model/point_history_classifier/point_history_classifier.h5\n"
     ]
    },
    {
     "name": "stderr",
     "output_type": "stream",
     "text": [
      "WARNING:absl:You are saving your model as an HDF5 file via `model.save()` or `keras.saving.save_model(model)`. This file format is considered legacy. We recommend using instead the native Keras format, e.g. `model.save('my_model.keras')` or `keras.saving.save_model(model, 'my_model.keras')`. \n"
     ]
    },
    {
     "name": "stdout",
     "output_type": "stream",
     "text": [
      "\u001b[1m32/32\u001b[0m \u001b[32m━━━━━━━━━━━━━━━━━━━━\u001b[0m\u001b[37m\u001b[0m \u001b[1m0s\u001b[0m 10ms/step - accuracy: 0.8558 - loss: 0.3974 - val_accuracy: 0.9728 - val_loss: 0.2005\n",
      "Epoch 172/1000\n",
      "\u001b[1m25/32\u001b[0m \u001b[32m━━━━━━━━━━━━━━━\u001b[0m\u001b[37m━━━━━\u001b[0m \u001b[1m0s\u001b[0m 2ms/step - accuracy: 0.8554 - loss: 0.4164 \n",
      "Epoch 172: saving model to model/point_history_classifier/point_history_classifier.h5\n"
     ]
    },
    {
     "name": "stderr",
     "output_type": "stream",
     "text": [
      "WARNING:absl:You are saving your model as an HDF5 file via `model.save()` or `keras.saving.save_model(model)`. This file format is considered legacy. We recommend using instead the native Keras format, e.g. `model.save('my_model.keras')` or `keras.saving.save_model(model, 'my_model.keras')`. \n"
     ]
    },
    {
     "name": "stdout",
     "output_type": "stream",
     "text": [
      "\u001b[1m32/32\u001b[0m \u001b[32m━━━━━━━━━━━━━━━━━━━━\u001b[0m\u001b[37m\u001b[0m \u001b[1m0s\u001b[0m 7ms/step - accuracy: 0.8560 - loss: 0.4135 - val_accuracy: 0.9721 - val_loss: 0.1974\n",
      "Epoch 173/1000\n",
      "\u001b[1m22/32\u001b[0m \u001b[32m━━━━━━━━━━━━━\u001b[0m\u001b[37m━━━━━━━\u001b[0m \u001b[1m0s\u001b[0m 3ms/step - accuracy: 0.8504 - loss: 0.4237 \n",
      "Epoch 173: saving model to model/point_history_classifier/point_history_classifier.h5\n"
     ]
    },
    {
     "name": "stderr",
     "output_type": "stream",
     "text": [
      "WARNING:absl:You are saving your model as an HDF5 file via `model.save()` or `keras.saving.save_model(model)`. This file format is considered legacy. We recommend using instead the native Keras format, e.g. `model.save('my_model.keras')` or `keras.saving.save_model(model, 'my_model.keras')`. \n"
     ]
    },
    {
     "name": "stdout",
     "output_type": "stream",
     "text": [
      "\u001b[1m32/32\u001b[0m \u001b[32m━━━━━━━━━━━━━━━━━━━━\u001b[0m\u001b[37m\u001b[0m \u001b[1m0s\u001b[0m 8ms/step - accuracy: 0.8516 - loss: 0.4209 - val_accuracy: 0.9728 - val_loss: 0.2018\n",
      "Epoch 174/1000\n",
      "\u001b[1m27/32\u001b[0m \u001b[32m━━━━━━━━━━━━━━━━\u001b[0m\u001b[37m━━━━\u001b[0m \u001b[1m0s\u001b[0m 2ms/step - accuracy: 0.8498 - loss: 0.3942 \n",
      "Epoch 174: saving model to model/point_history_classifier/point_history_classifier.h5\n"
     ]
    },
    {
     "name": "stderr",
     "output_type": "stream",
     "text": [
      "WARNING:absl:You are saving your model as an HDF5 file via `model.save()` or `keras.saving.save_model(model)`. This file format is considered legacy. We recommend using instead the native Keras format, e.g. `model.save('my_model.keras')` or `keras.saving.save_model(model, 'my_model.keras')`. \n"
     ]
    },
    {
     "name": "stdout",
     "output_type": "stream",
     "text": [
      "\u001b[1m32/32\u001b[0m \u001b[32m━━━━━━━━━━━━━━━━━━━━\u001b[0m\u001b[37m\u001b[0m \u001b[1m0s\u001b[0m 7ms/step - accuracy: 0.8505 - loss: 0.3958 - val_accuracy: 0.9743 - val_loss: 0.2014\n",
      "Epoch 175/1000\n",
      "\u001b[1m17/32\u001b[0m \u001b[32m━━━━━━━━━━\u001b[0m\u001b[37m━━━━━━━━━━\u001b[0m \u001b[1m0s\u001b[0m 4ms/step - accuracy: 0.8416 - loss: 0.4284 \n",
      "Epoch 175: saving model to model/point_history_classifier/point_history_classifier.h5\n"
     ]
    },
    {
     "name": "stderr",
     "output_type": "stream",
     "text": [
      "WARNING:absl:You are saving your model as an HDF5 file via `model.save()` or `keras.saving.save_model(model)`. This file format is considered legacy. We recommend using instead the native Keras format, e.g. `model.save('my_model.keras')` or `keras.saving.save_model(model, 'my_model.keras')`. \n"
     ]
    },
    {
     "name": "stdout",
     "output_type": "stream",
     "text": [
      "\u001b[1m32/32\u001b[0m \u001b[32m━━━━━━━━━━━━━━━━━━━━\u001b[0m\u001b[37m\u001b[0m \u001b[1m0s\u001b[0m 8ms/step - accuracy: 0.8442 - loss: 0.4251 - val_accuracy: 0.9728 - val_loss: 0.2007\n",
      "Epoch 176/1000\n",
      "\u001b[1m31/32\u001b[0m \u001b[32m━━━━━━━━━━━━━━━━━━━\u001b[0m\u001b[37m━\u001b[0m \u001b[1m0s\u001b[0m 2ms/step - accuracy: 0.8582 - loss: 0.4102 \n",
      "Epoch 176: saving model to model/point_history_classifier/point_history_classifier.h5\n"
     ]
    },
    {
     "name": "stderr",
     "output_type": "stream",
     "text": [
      "WARNING:absl:You are saving your model as an HDF5 file via `model.save()` or `keras.saving.save_model(model)`. This file format is considered legacy. We recommend using instead the native Keras format, e.g. `model.save('my_model.keras')` or `keras.saving.save_model(model, 'my_model.keras')`. \n"
     ]
    },
    {
     "name": "stdout",
     "output_type": "stream",
     "text": [
      "\u001b[1m32/32\u001b[0m \u001b[32m━━━━━━━━━━━━━━━━━━━━\u001b[0m\u001b[37m\u001b[0m \u001b[1m0s\u001b[0m 6ms/step - accuracy: 0.8575 - loss: 0.4112 - val_accuracy: 0.9743 - val_loss: 0.2026\n",
      "Epoch 177/1000\n",
      "\u001b[1m21/32\u001b[0m \u001b[32m━━━━━━━━━━━━━\u001b[0m\u001b[37m━━━━━━━\u001b[0m \u001b[1m0s\u001b[0m 3ms/step - accuracy: 0.8491 - loss: 0.4182 \n",
      "Epoch 177: saving model to model/point_history_classifier/point_history_classifier.h5\n"
     ]
    },
    {
     "name": "stderr",
     "output_type": "stream",
     "text": [
      "WARNING:absl:You are saving your model as an HDF5 file via `model.save()` or `keras.saving.save_model(model)`. This file format is considered legacy. We recommend using instead the native Keras format, e.g. `model.save('my_model.keras')` or `keras.saving.save_model(model, 'my_model.keras')`. \n"
     ]
    },
    {
     "name": "stdout",
     "output_type": "stream",
     "text": [
      "\u001b[1m32/32\u001b[0m \u001b[32m━━━━━━━━━━━━━━━━━━━━\u001b[0m\u001b[37m\u001b[0m \u001b[1m0s\u001b[0m 7ms/step - accuracy: 0.8498 - loss: 0.4177 - val_accuracy: 0.9728 - val_loss: 0.2022\n",
      "Epoch 178/1000\n",
      "\u001b[1m29/32\u001b[0m \u001b[32m━━━━━━━━━━━━━━━━━━\u001b[0m\u001b[37m━━\u001b[0m \u001b[1m0s\u001b[0m 2ms/step - accuracy: 0.8496 - loss: 0.4186 \n",
      "Epoch 178: saving model to model/point_history_classifier/point_history_classifier.h5\n"
     ]
    },
    {
     "name": "stderr",
     "output_type": "stream",
     "text": [
      "WARNING:absl:You are saving your model as an HDF5 file via `model.save()` or `keras.saving.save_model(model)`. This file format is considered legacy. We recommend using instead the native Keras format, e.g. `model.save('my_model.keras')` or `keras.saving.save_model(model, 'my_model.keras')`. \n"
     ]
    },
    {
     "name": "stdout",
     "output_type": "stream",
     "text": [
      "\u001b[1m32/32\u001b[0m \u001b[32m━━━━━━━━━━━━━━━━━━━━\u001b[0m\u001b[37m\u001b[0m \u001b[1m0s\u001b[0m 7ms/step - accuracy: 0.8504 - loss: 0.4190 - val_accuracy: 0.9736 - val_loss: 0.2019\n",
      "Epoch 179/1000\n",
      "\u001b[1m19/32\u001b[0m \u001b[32m━━━━━━━━━━━\u001b[0m\u001b[37m━━━━━━━━━\u001b[0m \u001b[1m0s\u001b[0m 4ms/step - accuracy: 0.8444 - loss: 0.4211 \n",
      "Epoch 179: saving model to model/point_history_classifier/point_history_classifier.h5\n"
     ]
    },
    {
     "name": "stderr",
     "output_type": "stream",
     "text": [
      "WARNING:absl:You are saving your model as an HDF5 file via `model.save()` or `keras.saving.save_model(model)`. This file format is considered legacy. We recommend using instead the native Keras format, e.g. `model.save('my_model.keras')` or `keras.saving.save_model(model, 'my_model.keras')`. \n"
     ]
    },
    {
     "name": "stdout",
     "output_type": "stream",
     "text": [
      "\u001b[1m32/32\u001b[0m \u001b[32m━━━━━━━━━━━━━━━━━━━━\u001b[0m\u001b[37m\u001b[0m \u001b[1m0s\u001b[0m 8ms/step - accuracy: 0.8464 - loss: 0.4162 - val_accuracy: 0.9736 - val_loss: 0.2024\n",
      "Epoch 180/1000\n",
      "\u001b[1m15/32\u001b[0m \u001b[32m━━━━━━━━━\u001b[0m\u001b[37m━━━━━━━━━━━\u001b[0m \u001b[1m0s\u001b[0m 4ms/step - accuracy: 0.8522 - loss: 0.3961 \n",
      "Epoch 180: saving model to model/point_history_classifier/point_history_classifier.h5\n"
     ]
    },
    {
     "name": "stderr",
     "output_type": "stream",
     "text": [
      "WARNING:absl:You are saving your model as an HDF5 file via `model.save()` or `keras.saving.save_model(model)`. This file format is considered legacy. We recommend using instead the native Keras format, e.g. `model.save('my_model.keras')` or `keras.saving.save_model(model, 'my_model.keras')`. \n"
     ]
    },
    {
     "name": "stdout",
     "output_type": "stream",
     "text": [
      "\u001b[1m32/32\u001b[0m \u001b[32m━━━━━━━━━━━━━━━━━━━━\u001b[0m\u001b[37m\u001b[0m \u001b[1m0s\u001b[0m 8ms/step - accuracy: 0.8539 - loss: 0.3939 - val_accuracy: 0.9728 - val_loss: 0.2015\n",
      "Epoch 181/1000\n",
      "\u001b[1m22/32\u001b[0m \u001b[32m━━━━━━━━━━━━━\u001b[0m\u001b[37m━━━━━━━\u001b[0m \u001b[1m0s\u001b[0m 3ms/step - accuracy: 0.8552 - loss: 0.4150 \n",
      "Epoch 181: saving model to model/point_history_classifier/point_history_classifier.h5\n"
     ]
    },
    {
     "name": "stderr",
     "output_type": "stream",
     "text": [
      "WARNING:absl:You are saving your model as an HDF5 file via `model.save()` or `keras.saving.save_model(model)`. This file format is considered legacy. We recommend using instead the native Keras format, e.g. `model.save('my_model.keras')` or `keras.saving.save_model(model, 'my_model.keras')`. \n"
     ]
    },
    {
     "name": "stdout",
     "output_type": "stream",
     "text": [
      "\u001b[1m32/32\u001b[0m \u001b[32m━━━━━━━━━━━━━━━━━━━━\u001b[0m\u001b[37m\u001b[0m \u001b[1m0s\u001b[0m 8ms/step - accuracy: 0.8561 - loss: 0.4137 - val_accuracy: 0.9736 - val_loss: 0.2000\n",
      "Epoch 182/1000\n",
      "\u001b[1m17/32\u001b[0m \u001b[32m━━━━━━━━━━\u001b[0m\u001b[37m━━━━━━━━━━\u001b[0m \u001b[1m0s\u001b[0m 4ms/step - accuracy: 0.8473 - loss: 0.4954 \n",
      "Epoch 182: saving model to model/point_history_classifier/point_history_classifier.h5\n"
     ]
    },
    {
     "name": "stderr",
     "output_type": "stream",
     "text": [
      "WARNING:absl:You are saving your model as an HDF5 file via `model.save()` or `keras.saving.save_model(model)`. This file format is considered legacy. We recommend using instead the native Keras format, e.g. `model.save('my_model.keras')` or `keras.saving.save_model(model, 'my_model.keras')`. \n"
     ]
    },
    {
     "name": "stdout",
     "output_type": "stream",
     "text": [
      "\u001b[1m32/32\u001b[0m \u001b[32m━━━━━━━━━━━━━━━━━━━━\u001b[0m\u001b[37m\u001b[0m \u001b[1m0s\u001b[0m 8ms/step - accuracy: 0.8515 - loss: 0.4586 - val_accuracy: 0.9721 - val_loss: 0.1994\n",
      "Epoch 183/1000\n",
      "\u001b[1m 1/32\u001b[0m \u001b[37m━━━━━━━━━━━━━━━━━━━━\u001b[0m \u001b[1m0s\u001b[0m 31ms/step - accuracy: 0.8672 - loss: 0.4160\n",
      "Epoch 183: saving model to model/point_history_classifier/point_history_classifier.h5\n"
     ]
    },
    {
     "name": "stderr",
     "output_type": "stream",
     "text": [
      "WARNING:absl:You are saving your model as an HDF5 file via `model.save()` or `keras.saving.save_model(model)`. This file format is considered legacy. We recommend using instead the native Keras format, e.g. `model.save('my_model.keras')` or `keras.saving.save_model(model, 'my_model.keras')`. \n"
     ]
    },
    {
     "name": "stdout",
     "output_type": "stream",
     "text": [
      "\u001b[1m32/32\u001b[0m \u001b[32m━━━━━━━━━━━━━━━━━━━━\u001b[0m\u001b[37m\u001b[0m \u001b[1m0s\u001b[0m 7ms/step - accuracy: 0.8517 - loss: 0.4166 - val_accuracy: 0.9736 - val_loss: 0.2013\n",
      "Epoch 184/1000\n",
      "\u001b[1m16/32\u001b[0m \u001b[32m━━━━━━━━━━\u001b[0m\u001b[37m━━━━━━━━━━\u001b[0m \u001b[1m0s\u001b[0m 4ms/step - accuracy: 0.8597 - loss: 0.4007 \n",
      "Epoch 184: saving model to model/point_history_classifier/point_history_classifier.h5\n"
     ]
    },
    {
     "name": "stderr",
     "output_type": "stream",
     "text": [
      "WARNING:absl:You are saving your model as an HDF5 file via `model.save()` or `keras.saving.save_model(model)`. This file format is considered legacy. We recommend using instead the native Keras format, e.g. `model.save('my_model.keras')` or `keras.saving.save_model(model, 'my_model.keras')`. \n"
     ]
    },
    {
     "name": "stdout",
     "output_type": "stream",
     "text": [
      "\u001b[1m32/32\u001b[0m \u001b[32m━━━━━━━━━━━━━━━━━━━━\u001b[0m\u001b[37m\u001b[0m \u001b[1m0s\u001b[0m 8ms/step - accuracy: 0.8549 - loss: 0.4123 - val_accuracy: 0.9743 - val_loss: 0.2014\n",
      "Epoch 185/1000\n",
      "\u001b[1m21/32\u001b[0m \u001b[32m━━━━━━━━━━━━━\u001b[0m\u001b[37m━━━━━━━\u001b[0m \u001b[1m0s\u001b[0m 3ms/step - accuracy: 0.8520 - loss: 0.4190 \n",
      "Epoch 185: saving model to model/point_history_classifier/point_history_classifier.h5\n"
     ]
    },
    {
     "name": "stderr",
     "output_type": "stream",
     "text": [
      "WARNING:absl:You are saving your model as an HDF5 file via `model.save()` or `keras.saving.save_model(model)`. This file format is considered legacy. We recommend using instead the native Keras format, e.g. `model.save('my_model.keras')` or `keras.saving.save_model(model, 'my_model.keras')`. \n"
     ]
    },
    {
     "name": "stdout",
     "output_type": "stream",
     "text": [
      "\u001b[1m32/32\u001b[0m \u001b[32m━━━━━━━━━━━━━━━━━━━━\u001b[0m\u001b[37m\u001b[0m \u001b[1m0s\u001b[0m 8ms/step - accuracy: 0.8553 - loss: 0.4105 - val_accuracy: 0.9728 - val_loss: 0.2005\n",
      "Epoch 186/1000\n",
      "\u001b[1m22/32\u001b[0m \u001b[32m━━━━━━━━━━━━━\u001b[0m\u001b[37m━━━━━━━\u001b[0m \u001b[1m0s\u001b[0m 3ms/step - accuracy: 0.8584 - loss: 0.4106 \n",
      "Epoch 186: saving model to model/point_history_classifier/point_history_classifier.h5\n"
     ]
    },
    {
     "name": "stderr",
     "output_type": "stream",
     "text": [
      "WARNING:absl:You are saving your model as an HDF5 file via `model.save()` or `keras.saving.save_model(model)`. This file format is considered legacy. We recommend using instead the native Keras format, e.g. `model.save('my_model.keras')` or `keras.saving.save_model(model, 'my_model.keras')`. \n"
     ]
    },
    {
     "name": "stdout",
     "output_type": "stream",
     "text": [
      "\u001b[1m32/32\u001b[0m \u001b[32m━━━━━━━━━━━━━━━━━━━━\u001b[0m\u001b[37m\u001b[0m \u001b[1m0s\u001b[0m 8ms/step - accuracy: 0.8583 - loss: 0.4059 - val_accuracy: 0.9728 - val_loss: 0.1993\n",
      "Epoch 187/1000\n",
      "\u001b[1m30/32\u001b[0m \u001b[32m━━━━━━━━━━━━━━━━━━\u001b[0m\u001b[37m━━\u001b[0m \u001b[1m0s\u001b[0m 2ms/step - accuracy: 0.8465 - loss: 0.4130 \n",
      "Epoch 187: saving model to model/point_history_classifier/point_history_classifier.h5\n"
     ]
    },
    {
     "name": "stderr",
     "output_type": "stream",
     "text": [
      "WARNING:absl:You are saving your model as an HDF5 file via `model.save()` or `keras.saving.save_model(model)`. This file format is considered legacy. We recommend using instead the native Keras format, e.g. `model.save('my_model.keras')` or `keras.saving.save_model(model, 'my_model.keras')`. \n"
     ]
    },
    {
     "name": "stdout",
     "output_type": "stream",
     "text": [
      "\u001b[1m32/32\u001b[0m \u001b[32m━━━━━━━━━━━━━━━━━━━━\u001b[0m\u001b[37m\u001b[0m \u001b[1m0s\u001b[0m 7ms/step - accuracy: 0.8473 - loss: 0.4128 - val_accuracy: 0.9728 - val_loss: 0.2002\n",
      "Epoch 188/1000\n",
      "\u001b[1m18/32\u001b[0m \u001b[32m━━━━━━━━━━━\u001b[0m\u001b[37m━━━━━━━━━\u001b[0m \u001b[1m0s\u001b[0m 3ms/step - accuracy: 0.8605 - loss: 0.3951 \n",
      "Epoch 188: saving model to model/point_history_classifier/point_history_classifier.h5\n"
     ]
    },
    {
     "name": "stderr",
     "output_type": "stream",
     "text": [
      "WARNING:absl:You are saving your model as an HDF5 file via `model.save()` or `keras.saving.save_model(model)`. This file format is considered legacy. We recommend using instead the native Keras format, e.g. `model.save('my_model.keras')` or `keras.saving.save_model(model, 'my_model.keras')`. \n"
     ]
    },
    {
     "name": "stdout",
     "output_type": "stream",
     "text": [
      "\u001b[1m32/32\u001b[0m \u001b[32m━━━━━━━━━━━━━━━━━━━━\u001b[0m\u001b[37m\u001b[0m \u001b[1m0s\u001b[0m 7ms/step - accuracy: 0.8604 - loss: 0.3990 - val_accuracy: 0.9736 - val_loss: 0.1991\n",
      "Epoch 189/1000\n",
      "\u001b[1m23/32\u001b[0m \u001b[32m━━━━━━━━━━━━━━\u001b[0m\u001b[37m━━━━━━\u001b[0m \u001b[1m0s\u001b[0m 3ms/step - accuracy: 0.8526 - loss: 0.3845 \n",
      "Epoch 189: saving model to model/point_history_classifier/point_history_classifier.h5\n"
     ]
    },
    {
     "name": "stderr",
     "output_type": "stream",
     "text": [
      "WARNING:absl:You are saving your model as an HDF5 file via `model.save()` or `keras.saving.save_model(model)`. This file format is considered legacy. We recommend using instead the native Keras format, e.g. `model.save('my_model.keras')` or `keras.saving.save_model(model, 'my_model.keras')`. \n"
     ]
    },
    {
     "name": "stdout",
     "output_type": "stream",
     "text": [
      "\u001b[1m32/32\u001b[0m \u001b[32m━━━━━━━━━━━━━━━━━━━━\u001b[0m\u001b[37m\u001b[0m \u001b[1m0s\u001b[0m 8ms/step - accuracy: 0.8540 - loss: 0.3861 - val_accuracy: 0.9721 - val_loss: 0.1984\n",
      "Epoch 190/1000\n",
      "\u001b[1m23/32\u001b[0m \u001b[32m━━━━━━━━━━━━━━\u001b[0m\u001b[37m━━━━━━\u001b[0m \u001b[1m0s\u001b[0m 2ms/step - accuracy: 0.8541 - loss: 0.3971 \n",
      "Epoch 190: saving model to model/point_history_classifier/point_history_classifier.h5\n"
     ]
    },
    {
     "name": "stderr",
     "output_type": "stream",
     "text": [
      "WARNING:absl:You are saving your model as an HDF5 file via `model.save()` or `keras.saving.save_model(model)`. This file format is considered legacy. We recommend using instead the native Keras format, e.g. `model.save('my_model.keras')` or `keras.saving.save_model(model, 'my_model.keras')`. \n"
     ]
    },
    {
     "name": "stdout",
     "output_type": "stream",
     "text": [
      "\u001b[1m32/32\u001b[0m \u001b[32m━━━━━━━━━━━━━━━━━━━━\u001b[0m\u001b[37m\u001b[0m \u001b[1m0s\u001b[0m 8ms/step - accuracy: 0.8536 - loss: 0.3990 - val_accuracy: 0.9721 - val_loss: 0.1990\n",
      "Epoch 191/1000\n",
      "\u001b[1m19/32\u001b[0m \u001b[32m━━━━━━━━━━━\u001b[0m\u001b[37m━━━━━━━━━\u001b[0m \u001b[1m0s\u001b[0m 3ms/step - accuracy: 0.8492 - loss: 0.3953 \n",
      "Epoch 191: saving model to model/point_history_classifier/point_history_classifier.h5\n"
     ]
    },
    {
     "name": "stderr",
     "output_type": "stream",
     "text": [
      "WARNING:absl:You are saving your model as an HDF5 file via `model.save()` or `keras.saving.save_model(model)`. This file format is considered legacy. We recommend using instead the native Keras format, e.g. `model.save('my_model.keras')` or `keras.saving.save_model(model, 'my_model.keras')`. \n"
     ]
    },
    {
     "name": "stdout",
     "output_type": "stream",
     "text": [
      "\u001b[1m32/32\u001b[0m \u001b[32m━━━━━━━━━━━━━━━━━━━━\u001b[0m\u001b[37m\u001b[0m \u001b[1m0s\u001b[0m 8ms/step - accuracy: 0.8502 - loss: 0.3969 - val_accuracy: 0.9743 - val_loss: 0.1984\n",
      "Epoch 192/1000\n",
      "\u001b[1m31/32\u001b[0m \u001b[32m━━━━━━━━━━━━━━━━━━━\u001b[0m\u001b[37m━\u001b[0m \u001b[1m0s\u001b[0m 2ms/step - accuracy: 0.8638 - loss: 0.3814 \n",
      "Epoch 192: saving model to model/point_history_classifier/point_history_classifier.h5\n"
     ]
    },
    {
     "name": "stderr",
     "output_type": "stream",
     "text": [
      "WARNING:absl:You are saving your model as an HDF5 file via `model.save()` or `keras.saving.save_model(model)`. This file format is considered legacy. We recommend using instead the native Keras format, e.g. `model.save('my_model.keras')` or `keras.saving.save_model(model, 'my_model.keras')`. \n"
     ]
    },
    {
     "name": "stdout",
     "output_type": "stream",
     "text": [
      "\u001b[1m32/32\u001b[0m \u001b[32m━━━━━━━━━━━━━━━━━━━━\u001b[0m\u001b[37m\u001b[0m \u001b[1m0s\u001b[0m 7ms/step - accuracy: 0.8633 - loss: 0.3819 - val_accuracy: 0.9728 - val_loss: 0.1985\n",
      "Epoch 192: early stopping\n"
     ]
    },
    {
     "data": {
      "text/plain": [
       "<keras.src.callbacks.history.History at 0x28696adb430>"
      ]
     },
     "execution_count": 12,
     "metadata": {},
     "output_type": "execute_result"
    },
    {
     "name": "stdout",
     "output_type": "stream",
     "text": [
      "Epoch 79/1000\n",
      "25/32 [======================>.......] - ETA: 0s - loss: 0.5063 - accuracy: 0.8122\n",
      "Epoch 00079: saving model to model/point_history_classifier\\point_history_classifier.hdf5\n",
      "32/32 [==============================] - 0s 11ms/step - loss: 0.5016 - accuracy: 0.8099 - val_loss: 0.2682 - val_accuracy: 0.9600\n",
      "Epoch 80/1000\n",
      "25/32 [======================>.......] - ETA: 0s - loss: 0.4965 - accuracy: 0.8166\n",
      "Epoch 00080: saving model to model/point_history_classifier\\point_history_classifier.hdf5\n",
      "32/32 [==============================] - 0s 11ms/step - loss: 0.4887 - accuracy: 0.8200 - val_loss: 0.2658 - val_accuracy: 0.9600\n",
      "Epoch 81/1000\n",
      "25/32 [======================>.......] - ETA: 0s - loss: 0.4992 - accuracy: 0.8169\n",
      "Epoch 00081: saving model to model/point_history_classifier\\point_history_classifier.hdf5\n",
      "32/32 [==============================] - 0s 11ms/step - loss: 0.4975 - accuracy: 0.8150 - val_loss: 0.2640 - val_accuracy: 0.9569\n",
      "Epoch 82/1000\n",
      "25/32 [======================>.......] - ETA: 0s - loss: 0.4821 - accuracy: 0.8247\n",
      "Epoch 00082: saving model to model/point_history_classifier\\point_history_classifier.hdf5\n",
      "32/32 [==============================] - 0s 11ms/step - loss: 0.4789 - accuracy: 0.8253 - val_loss: 0.2617 - val_accuracy: 0.9569\n",
      "Epoch 83/1000\n",
      "25/32 [======================>.......] - ETA: 0s - loss: 0.4900 - accuracy: 0.8181\n",
      "Epoch 00083: saving model to model/point_history_classifier\\point_history_classifier.hdf5\n",
      "32/32 [==============================] - 0s 11ms/step - loss: 0.4862 - accuracy: 0.8200 - val_loss: 0.2601 - val_accuracy: 0.9569\n",
      "Epoch 84/1000\n",
      "32/32 [==============================] - ETA: 0s - loss: 0.5119 - accuracy: 0.8094\n",
      "Epoch 00084: saving model to model/point_history_classifier\\point_history_classifier.hdf5\n",
      "32/32 [==============================] - 0s 9ms/step - loss: 0.5119 - accuracy: 0.8094 - val_loss: 0.2598 - val_accuracy: 0.9577\n",
      "Epoch 85/1000\n",
      "26/32 [=======================>......] - ETA: 0s - loss: 0.4991 - accuracy: 0.8095\n",
      "Epoch 00085: saving model to model/point_history_classifier\\point_history_classifier.hdf5\n",
      "32/32 [==============================] - 0s 11ms/step - loss: 0.4953 - accuracy: 0.8142 - val_loss: 0.2621 - val_accuracy: 0.9592\n",
      "Epoch 86/1000\n",
      "25/32 [======================>.......] - ETA: 0s - loss: 0.4927 - accuracy: 0.8175\n",
      "Epoch 00086: saving model to model/point_history_classifier\\point_history_classifier.hdf5\n",
      "32/32 [==============================] - 0s 11ms/step - loss: 0.4987 - accuracy: 0.8117 - val_loss: 0.2577 - val_accuracy: 0.9569\n",
      "Epoch 87/1000\n",
      "27/32 [========================>.....] - ETA: 0s - loss: 0.5016 - accuracy: 0.8131\n",
      "Epoch 00087: saving model to model/point_history_classifier\\point_history_classifier.hdf5\n",
      "32/32 [==============================] - 0s 11ms/step - loss: 0.5003 - accuracy: 0.8114 - val_loss: 0.2605 - val_accuracy: 0.9569\n",
      "Epoch 88/1000\n",
      "26/32 [=======================>......] - ETA: 0s - loss: 0.4815 - accuracy: 0.8188\n",
      "Epoch 00088: saving model to model/point_history_classifier\\point_history_classifier.hdf5\n",
      "32/32 [==============================] - 0s 10ms/step - loss: 0.4806 - accuracy: 0.8205 - val_loss: 0.2572 - val_accuracy: 0.9569\n",
      "Epoch 89/1000\n",
      "25/32 [======================>.......] - ETA: 0s - loss: 0.4686 - accuracy: 0.8244\n",
      "Epoch 00089: saving model to model/point_history_classifier\\point_history_classifier.hdf5\n",
      "32/32 [==============================] - 0s 11ms/step - loss: 0.4705 - accuracy: 0.8230 - val_loss: 0.2551 - val_accuracy: 0.9577\n",
      "Epoch 90/1000\n",
      "26/32 [=======================>......] - ETA: 0s - loss: 0.5002 - accuracy: 0.8131\n",
      "Epoch 00090: saving model to model/point_history_classifier\\point_history_classifier.hdf5\n",
      "32/32 [==============================] - 0s 11ms/step - loss: 0.4959 - accuracy: 0.8162 - val_loss: 0.2547 - val_accuracy: 0.9569\n",
      "Epoch 91/1000\n",
      "25/32 [======================>.......] - ETA: 0s - loss: 0.4894 - accuracy: 0.8159\n",
      "Epoch 00091: saving model to model/point_history_classifier\\point_history_classifier.hdf5\n",
      "32/32 [==============================] - 0s 11ms/step - loss: 0.4848 - accuracy: 0.8192 - val_loss: 0.2544 - val_accuracy: 0.9585\n",
      "Epoch 92/1000\n",
      "26/32 [=======================>......] - ETA: 0s - loss: 0.4848 - accuracy: 0.8209\n",
      "Epoch 00092: saving model to model/point_history_classifier\\point_history_classifier.hdf5\n",
      "32/32 [==============================] - 0s 10ms/step - loss: 0.4804 - accuracy: 0.8245 - val_loss: 0.2515 - val_accuracy: 0.9577\n",
      "Epoch 93/1000\n",
      "26/32 [=======================>......] - ETA: 0s - loss: 0.4998 - accuracy: 0.8116\n",
      "Epoch 00093: saving model to model/point_history_classifier\\point_history_classifier.hdf5\n",
      "32/32 [==============================] - 0s 10ms/step - loss: 0.4910 - accuracy: 0.8122 - val_loss: 0.2546 - val_accuracy: 0.9600\n",
      "Epoch 94/1000\n",
      "25/32 [======================>.......] - ETA: 0s - loss: 0.4816 - accuracy: 0.8194\n",
      "Epoch 00094: saving model to model/point_history_classifier\\point_history_classifier.hdf5\n",
      "32/32 [==============================] - 0s 11ms/step - loss: 0.4801 - accuracy: 0.8200 - val_loss: 0.2512 - val_accuracy: 0.9607\n",
      "Epoch 95/1000\n",
      "26/32 [=======================>......] - ETA: 0s - loss: 0.4954 - accuracy: 0.8239\n",
      "Epoch 00095: saving model to model/point_history_classifier\\point_history_classifier.hdf5\n",
      "32/32 [==============================] - 0s 11ms/step - loss: 0.4861 - accuracy: 0.8243 - val_loss: 0.2509 - val_accuracy: 0.9607\n",
      "Epoch 96/1000\n",
      "28/32 [=========================>....] - ETA: 0s - loss: 0.4762 - accuracy: 0.8186\n",
      "Epoch 00096: saving model to model/point_history_classifier\\point_history_classifier.hdf5\n",
      "32/32 [==============================] - 0s 10ms/step - loss: 0.4739 - accuracy: 0.8197 - val_loss: 0.2487 - val_accuracy: 0.9592\n",
      "Epoch 97/1000\n",
      "25/32 [======================>.......] - ETA: 0s - loss: 0.4780 - accuracy: 0.8222\n",
      "Epoch 00097: saving model to model/point_history_classifier\\point_history_classifier.hdf5\n",
      "32/32 [==============================] - 0s 11ms/step - loss: 0.4723 - accuracy: 0.8235 - val_loss: 0.2464 - val_accuracy: 0.9585\n",
      "Epoch 98/1000\n",
      "28/32 [=========================>....] - ETA: 0s - loss: 0.4746 - accuracy: 0.8239\n",
      "Epoch 00098: saving model to model/point_history_classifier\\point_history_classifier.hdf5\n",
      "32/32 [==============================] - 0s 10ms/step - loss: 0.4751 - accuracy: 0.8258 - val_loss: 0.2460 - val_accuracy: 0.9600\n",
      "Epoch 99/1000\n",
      "28/32 [=========================>....] - ETA: 0s - loss: 0.4791 - accuracy: 0.8198\n",
      "Epoch 00099: saving model to model/point_history_classifier\\point_history_classifier.hdf5\n",
      "32/32 [==============================] - 0s 10ms/step - loss: 0.4841 - accuracy: 0.8165 - val_loss: 0.2466 - val_accuracy: 0.9600\n",
      "Epoch 100/1000\n",
      "23/32 [====================>.........] - ETA: 0s - loss: 0.4916 - accuracy: 0.8142\n",
      "Epoch 00100: saving model to model/point_history_classifier\\point_history_classifier.hdf5\n",
      "32/32 [==============================] - 0s 9ms/step - loss: 0.4755 - accuracy: 0.8240 - val_loss: 0.2439 - val_accuracy: 0.9592\n",
      "Epoch 101/1000\n",
      "32/32 [==============================] - ETA: 0s - loss: 0.4731 - accuracy: 0.8285\n",
      "Epoch 00101: saving model to model/point_history_classifier\\point_history_classifier.hdf5\n",
      "32/32 [==============================] - 0s 11ms/step - loss: 0.4731 - accuracy: 0.8285 - val_loss: 0.2438 - val_accuracy: 0.9585\n",
      "Epoch 102/1000\n",
      "25/32 [======================>.......] - ETA: 0s - loss: 0.4815 - accuracy: 0.8200\n",
      "Epoch 00102: saving model to model/point_history_classifier\\point_history_classifier.hdf5\n",
      "32/32 [==============================] - 0s 11ms/step - loss: 0.4865 - accuracy: 0.8207 - val_loss: 0.2436 - val_accuracy: 0.9592\n",
      "Epoch 103/1000\n",
      "25/32 [======================>.......] - ETA: 0s - loss: 0.4595 - accuracy: 0.8338\n",
      "Epoch 00103: saving model to model/point_history_classifier\\point_history_classifier.hdf5\n",
      "32/32 [==============================] - 0s 11ms/step - loss: 0.4699 - accuracy: 0.8293 - val_loss: 0.2447 - val_accuracy: 0.9577\n",
      "Epoch 104/1000\n",
      "26/32 [=======================>......] - ETA: 0s - loss: 0.4708 - accuracy: 0.8284\n",
      "Epoch 00104: saving model to model/point_history_classifier\\point_history_classifier.hdf5\n",
      "32/32 [==============================] - 0s 10ms/step - loss: 0.4684 - accuracy: 0.8278 - val_loss: 0.2446 - val_accuracy: 0.9562\n"
     ]
    },
    {
     "name": "stdout",
     "output_type": "stream",
     "text": [
      "Epoch 105/1000\n",
      "26/32 [=======================>......] - ETA: 0s - loss: 0.4843 - accuracy: 0.8194\n",
      "Epoch 00105: saving model to model/point_history_classifier\\point_history_classifier.hdf5\n",
      "32/32 [==============================] - 0s 11ms/step - loss: 0.4775 - accuracy: 0.8207 - val_loss: 0.2425 - val_accuracy: 0.9569\n",
      "Epoch 106/1000\n",
      "25/32 [======================>.......] - ETA: 0s - loss: 0.4649 - accuracy: 0.8291\n",
      "Epoch 00106: saving model to model/point_history_classifier\\point_history_classifier.hdf5\n",
      "32/32 [==============================] - 0s 11ms/step - loss: 0.4692 - accuracy: 0.8293 - val_loss: 0.2411 - val_accuracy: 0.9585\n",
      "Epoch 107/1000\n",
      "27/32 [========================>.....] - ETA: 0s - loss: 0.4895 - accuracy: 0.8244\n",
      "Epoch 00107: saving model to model/point_history_classifier\\point_history_classifier.hdf5\n",
      "32/32 [==============================] - 0s 10ms/step - loss: 0.4843 - accuracy: 0.8253 - val_loss: 0.2416 - val_accuracy: 0.9569\n",
      "Epoch 108/1000\n",
      "31/32 [============================>.] - ETA: 0s - loss: 0.4617 - accuracy: 0.8294\n",
      "Epoch 00108: saving model to model/point_history_classifier\\point_history_classifier.hdf5\n",
      "32/32 [==============================] - 0s 12ms/step - loss: 0.4617 - accuracy: 0.8293 - val_loss: 0.2388 - val_accuracy: 0.9569\n",
      "Epoch 109/1000\n",
      "27/32 [========================>.....] - ETA: 0s - loss: 0.4640 - accuracy: 0.8273\n",
      "Epoch 00109: saving model to model/point_history_classifier\\point_history_classifier.hdf5\n",
      "32/32 [==============================] - 0s 10ms/step - loss: 0.4666 - accuracy: 0.8253 - val_loss: 0.2393 - val_accuracy: 0.9569\n",
      "Epoch 110/1000\n",
      "26/32 [=======================>......] - ETA: 0s - loss: 0.4651 - accuracy: 0.8335\n",
      "Epoch 00110: saving model to model/point_history_classifier\\point_history_classifier.hdf5\n",
      "32/32 [==============================] - 0s 11ms/step - loss: 0.4697 - accuracy: 0.8318 - val_loss: 0.2385 - val_accuracy: 0.9577\n",
      "Epoch 111/1000\n",
      "25/32 [======================>.......] - ETA: 0s - loss: 0.4739 - accuracy: 0.8309\n",
      "Epoch 00111: saving model to model/point_history_classifier\\point_history_classifier.hdf5\n",
      "32/32 [==============================] - 0s 11ms/step - loss: 0.4792 - accuracy: 0.8248 - val_loss: 0.2364 - val_accuracy: 0.9577\n",
      "Epoch 112/1000\n",
      "26/32 [=======================>......] - ETA: 0s - loss: 0.4624 - accuracy: 0.8248\n",
      "Epoch 00112: saving model to model/point_history_classifier\\point_history_classifier.hdf5\n",
      "32/32 [==============================] - 0s 11ms/step - loss: 0.4659 - accuracy: 0.8230 - val_loss: 0.2362 - val_accuracy: 0.9569\n",
      "Epoch 113/1000\n",
      "25/32 [======================>.......] - ETA: 0s - loss: 0.4403 - accuracy: 0.8400\n",
      "Epoch 00113: saving model to model/point_history_classifier\\point_history_classifier.hdf5\n",
      "32/32 [==============================] - 0s 11ms/step - loss: 0.4432 - accuracy: 0.8386 - val_loss: 0.2324 - val_accuracy: 0.9577\n",
      "Epoch 114/1000\n",
      "27/32 [========================>.....] - ETA: 0s - loss: 0.4608 - accuracy: 0.8354\n",
      "Epoch 00114: saving model to model/point_history_classifier\\point_history_classifier.hdf5\n",
      "32/32 [==============================] - 0s 10ms/step - loss: 0.4623 - accuracy: 0.8353 - val_loss: 0.2309 - val_accuracy: 0.9607\n",
      "Epoch 115/1000\n",
      "25/32 [======================>.......] - ETA: 0s - loss: 0.4641 - accuracy: 0.8359\n",
      "Epoch 00115: saving model to model/point_history_classifier\\point_history_classifier.hdf5\n",
      "32/32 [==============================] - 0s 11ms/step - loss: 0.4585 - accuracy: 0.8376 - val_loss: 0.2295 - val_accuracy: 0.9585\n",
      "Epoch 116/1000\n",
      "27/32 [========================>.....] - ETA: 0s - loss: 0.4690 - accuracy: 0.8319\n",
      "Epoch 00116: saving model to model/point_history_classifier\\point_history_classifier.hdf5\n",
      "32/32 [==============================] - 0s 10ms/step - loss: 0.4704 - accuracy: 0.8318 - val_loss: 0.2320 - val_accuracy: 0.9592\n",
      "Epoch 117/1000\n",
      "32/32 [==============================] - ETA: 0s - loss: 0.4509 - accuracy: 0.8371\n",
      "Epoch 00117: saving model to model/point_history_classifier\\point_history_classifier.hdf5\n",
      "32/32 [==============================] - 0s 11ms/step - loss: 0.4509 - accuracy: 0.8371 - val_loss: 0.2293 - val_accuracy: 0.9585\n",
      "Epoch 118/1000\n",
      "32/32 [==============================] - ETA: 0s - loss: 0.4597 - accuracy: 0.8323\n",
      "Epoch 00118: saving model to model/point_history_classifier\\point_history_classifier.hdf5\n",
      "32/32 [==============================] - 0s 11ms/step - loss: 0.4597 - accuracy: 0.8323 - val_loss: 0.2303 - val_accuracy: 0.9577\n",
      "Epoch 119/1000\n",
      "25/32 [======================>.......] - ETA: 0s - loss: 0.4703 - accuracy: 0.8372\n",
      "Epoch 00119: saving model to model/point_history_classifier\\point_history_classifier.hdf5\n",
      "32/32 [==============================] - 0s 11ms/step - loss: 0.4568 - accuracy: 0.8424 - val_loss: 0.2282 - val_accuracy: 0.9569\n",
      "Epoch 120/1000\n",
      "25/32 [======================>.......] - ETA: 0s - loss: 0.4411 - accuracy: 0.8400\n",
      "Epoch 00120: saving model to model/point_history_classifier\\point_history_classifier.hdf5\n",
      "32/32 [==============================] - 0s 11ms/step - loss: 0.4417 - accuracy: 0.8351 - val_loss: 0.2253 - val_accuracy: 0.9577\n",
      "Epoch 121/1000\n",
      "27/32 [========================>.....] - ETA: 0s - loss: 0.4730 - accuracy: 0.8220\n",
      "Epoch 00121: saving model to model/point_history_classifier\\point_history_classifier.hdf5\n",
      "32/32 [==============================] - 0s 10ms/step - loss: 0.4674 - accuracy: 0.8253 - val_loss: 0.2264 - val_accuracy: 0.9585\n",
      "Epoch 122/1000\n",
      "25/32 [======================>.......] - ETA: 0s - loss: 0.4386 - accuracy: 0.8391\n",
      "Epoch 00122: saving model to model/point_history_classifier\\point_history_classifier.hdf5\n",
      "32/32 [==============================] - 0s 11ms/step - loss: 0.4471 - accuracy: 0.8364 - val_loss: 0.2233 - val_accuracy: 0.9585\n",
      "Epoch 123/1000\n",
      "25/32 [======================>.......] - ETA: 0s - loss: 0.4318 - accuracy: 0.8409\n",
      "Epoch 00123: saving model to model/point_history_classifier\\point_history_classifier.hdf5\n",
      "32/32 [==============================] - 0s 11ms/step - loss: 0.4262 - accuracy: 0.8429 - val_loss: 0.2233 - val_accuracy: 0.9562\n",
      "Epoch 124/1000\n",
      "25/32 [======================>.......] - ETA: 0s - loss: 0.4740 - accuracy: 0.8319\n",
      "Epoch 00124: saving model to model/point_history_classifier\\point_history_classifier.hdf5\n",
      "32/32 [==============================] - 0s 12ms/step - loss: 0.4678 - accuracy: 0.8336 - val_loss: 0.2233 - val_accuracy: 0.9554\n",
      "Epoch 125/1000\n",
      "27/32 [========================>.....] - ETA: 0s - loss: 0.4577 - accuracy: 0.8267\n",
      "Epoch 00125: saving model to model/point_history_classifier\\point_history_classifier.hdf5\n",
      "32/32 [==============================] - 0s 11ms/step - loss: 0.4563 - accuracy: 0.8283 - val_loss: 0.2235 - val_accuracy: 0.9569\n",
      "Epoch 126/1000\n",
      "25/32 [======================>.......] - ETA: 0s - loss: 0.4617 - accuracy: 0.8331\n",
      "Epoch 00126: saving model to model/point_history_classifier\\point_history_classifier.hdf5\n",
      "32/32 [==============================] - 0s 11ms/step - loss: 0.4529 - accuracy: 0.8336 - val_loss: 0.2229 - val_accuracy: 0.9569\n",
      "Epoch 127/1000\n",
      "26/32 [=======================>......] - ETA: 0s - loss: 0.4534 - accuracy: 0.8392\n",
      "Epoch 00127: saving model to model/point_history_classifier\\point_history_classifier.hdf5\n",
      "32/32 [==============================] - 0s 11ms/step - loss: 0.4512 - accuracy: 0.8416 - val_loss: 0.2239 - val_accuracy: 0.9577\n",
      "Epoch 128/1000\n",
      "26/32 [=======================>......] - ETA: 0s - loss: 0.4352 - accuracy: 0.8410\n",
      "Epoch 00128: saving model to model/point_history_classifier\\point_history_classifier.hdf5\n",
      "32/32 [==============================] - 0s 11ms/step - loss: 0.4357 - accuracy: 0.8411 - val_loss: 0.2234 - val_accuracy: 0.9577\n",
      "Epoch 129/1000\n",
      "26/32 [=======================>......] - ETA: 0s - loss: 0.4300 - accuracy: 0.8425\n",
      "Epoch 00129: saving model to model/point_history_classifier\\point_history_classifier.hdf5\n",
      "32/32 [==============================] - 0s 11ms/step - loss: 0.4386 - accuracy: 0.8416 - val_loss: 0.2206 - val_accuracy: 0.9607\n",
      "Epoch 130/1000\n",
      "32/32 [==============================] - ETA: 0s - loss: 0.4515 - accuracy: 0.8293\n",
      "Epoch 00130: saving model to model/point_history_classifier\\point_history_classifier.hdf5\n",
      "32/32 [==============================] - 0s 11ms/step - loss: 0.4515 - accuracy: 0.8293 - val_loss: 0.2227 - val_accuracy: 0.9577\n"
     ]
    },
    {
     "name": "stdout",
     "output_type": "stream",
     "text": [
      "Epoch 131/1000\n",
      "25/32 [======================>.......] - ETA: 0s - loss: 0.4412 - accuracy: 0.8319\n",
      "Epoch 00131: saving model to model/point_history_classifier\\point_history_classifier.hdf5\n",
      "32/32 [==============================] - 0s 11ms/step - loss: 0.4465 - accuracy: 0.8328 - val_loss: 0.2240 - val_accuracy: 0.9585\n",
      "Epoch 132/1000\n",
      "25/32 [======================>.......] - ETA: 0s - loss: 0.4451 - accuracy: 0.8441\n",
      "Epoch 00132: saving model to model/point_history_classifier\\point_history_classifier.hdf5\n",
      "32/32 [==============================] - 0s 11ms/step - loss: 0.4543 - accuracy: 0.8381 - val_loss: 0.2201 - val_accuracy: 0.9600\n",
      "Epoch 133/1000\n",
      "25/32 [======================>.......] - ETA: 0s - loss: 0.4400 - accuracy: 0.8350\n",
      "Epoch 00133: saving model to model/point_history_classifier\\point_history_classifier.hdf5\n",
      "32/32 [==============================] - 0s 11ms/step - loss: 0.4446 - accuracy: 0.8351 - val_loss: 0.2192 - val_accuracy: 0.9577\n",
      "Epoch 134/1000\n",
      "26/32 [=======================>......] - ETA: 0s - loss: 0.4566 - accuracy: 0.8434\n",
      "Epoch 00134: saving model to model/point_history_classifier\\point_history_classifier.hdf5\n",
      "32/32 [==============================] - 0s 11ms/step - loss: 0.4601 - accuracy: 0.8386 - val_loss: 0.2203 - val_accuracy: 0.9585\n",
      "Epoch 135/1000\n",
      "25/32 [======================>.......] - ETA: 0s - loss: 0.4525 - accuracy: 0.8303\n",
      "Epoch 00135: saving model to model/point_history_classifier\\point_history_classifier.hdf5\n",
      "32/32 [==============================] - 0s 11ms/step - loss: 0.4485 - accuracy: 0.8316 - val_loss: 0.2199 - val_accuracy: 0.9592\n",
      "Epoch 136/1000\n",
      "25/32 [======================>.......] - ETA: 0s - loss: 0.4410 - accuracy: 0.8388\n",
      "Epoch 00136: saving model to model/point_history_classifier\\point_history_classifier.hdf5\n",
      "32/32 [==============================] - 0s 11ms/step - loss: 0.4423 - accuracy: 0.8356 - val_loss: 0.2172 - val_accuracy: 0.9592\n",
      "Epoch 137/1000\n",
      "27/32 [========================>.....] - ETA: 0s - loss: 0.4492 - accuracy: 0.8409\n",
      "Epoch 00137: saving model to model/point_history_classifier\\point_history_classifier.hdf5\n",
      "32/32 [==============================] - 0s 10ms/step - loss: 0.4459 - accuracy: 0.8414 - val_loss: 0.2194 - val_accuracy: 0.9585\n",
      "Epoch 138/1000\n",
      "25/32 [======================>.......] - ETA: 0s - loss: 0.4431 - accuracy: 0.8413\n",
      "Epoch 00138: saving model to model/point_history_classifier\\point_history_classifier.hdf5\n",
      "32/32 [==============================] - 0s 11ms/step - loss: 0.4336 - accuracy: 0.8447 - val_loss: 0.2201 - val_accuracy: 0.9592\n",
      "Epoch 139/1000\n",
      "25/32 [======================>.......] - ETA: 0s - loss: 0.4484 - accuracy: 0.8419\n",
      "Epoch 00139: saving model to model/point_history_classifier\\point_history_classifier.hdf5\n",
      "32/32 [==============================] - 0s 11ms/step - loss: 0.4490 - accuracy: 0.8444 - val_loss: 0.2159 - val_accuracy: 0.9615\n",
      "Epoch 140/1000\n",
      "26/32 [=======================>......] - ETA: 0s - loss: 0.4594 - accuracy: 0.8302\n",
      "Epoch 00140: saving model to model/point_history_classifier\\point_history_classifier.hdf5\n",
      "32/32 [==============================] - 0s 11ms/step - loss: 0.4550 - accuracy: 0.8336 - val_loss: 0.2190 - val_accuracy: 0.9592\n",
      "Epoch 141/1000\n",
      "26/32 [=======================>......] - ETA: 0s - loss: 0.4514 - accuracy: 0.8311\n",
      "Epoch 00141: saving model to model/point_history_classifier\\point_history_classifier.hdf5\n",
      "32/32 [==============================] - 0s 11ms/step - loss: 0.4343 - accuracy: 0.8366 - val_loss: 0.2177 - val_accuracy: 0.9615\n",
      "Epoch 142/1000\n",
      "27/32 [========================>.....] - ETA: 0s - loss: 0.4508 - accuracy: 0.8414\n",
      "Epoch 00142: saving model to model/point_history_classifier\\point_history_classifier.hdf5\n",
      "32/32 [==============================] - 0s 10ms/step - loss: 0.4491 - accuracy: 0.8391 - val_loss: 0.2159 - val_accuracy: 0.9622\n",
      "Epoch 143/1000\n",
      "32/32 [==============================] - ETA: 0s - loss: 0.4407 - accuracy: 0.8394\n",
      "Epoch 00143: saving model to model/point_history_classifier\\point_history_classifier.hdf5\n",
      "32/32 [==============================] - 0s 12ms/step - loss: 0.4407 - accuracy: 0.8394 - val_loss: 0.2144 - val_accuracy: 0.9607\n",
      "Epoch 144/1000\n",
      "32/32 [==============================] - ETA: 0s - loss: 0.4235 - accuracy: 0.8409\n",
      "Epoch 00144: saving model to model/point_history_classifier\\point_history_classifier.hdf5\n",
      "32/32 [==============================] - 0s 12ms/step - loss: 0.4235 - accuracy: 0.8409 - val_loss: 0.2124 - val_accuracy: 0.9607\n",
      "Epoch 145/1000\n",
      "25/32 [======================>.......] - ETA: 0s - loss: 0.4487 - accuracy: 0.8388\n",
      "Epoch 00145: saving model to model/point_history_classifier\\point_history_classifier.hdf5\n",
      "32/32 [==============================] - 0s 11ms/step - loss: 0.4463 - accuracy: 0.8391 - val_loss: 0.2112 - val_accuracy: 0.9622\n",
      "Epoch 146/1000\n",
      "29/32 [==========================>...] - ETA: 0s - loss: 0.4367 - accuracy: 0.8411\n",
      "Epoch 00146: saving model to model/point_history_classifier\\point_history_classifier.hdf5\n",
      "32/32 [==============================] - 0s 10ms/step - loss: 0.4410 - accuracy: 0.8394 - val_loss: 0.2126 - val_accuracy: 0.9615\n",
      "Epoch 147/1000\n",
      "27/32 [========================>.....] - ETA: 0s - loss: 0.4365 - accuracy: 0.8409\n",
      "Epoch 00147: saving model to model/point_history_classifier\\point_history_classifier.hdf5\n",
      "32/32 [==============================] - 0s 12ms/step - loss: 0.4375 - accuracy: 0.8396 - val_loss: 0.2132 - val_accuracy: 0.9622\n",
      "Epoch 148/1000\n",
      "27/32 [========================>.....] - ETA: 0s - loss: 0.4563 - accuracy: 0.8417\n",
      "Epoch 00148: saving model to model/point_history_classifier\\point_history_classifier.hdf5\n",
      "32/32 [==============================] - 0s 10ms/step - loss: 0.4547 - accuracy: 0.8406 - val_loss: 0.2151 - val_accuracy: 0.9615\n",
      "Epoch 149/1000\n",
      "31/32 [============================>.] - ETA: 0s - loss: 0.4672 - accuracy: 0.8306\n",
      "Epoch 00149: saving model to model/point_history_classifier\\point_history_classifier.hdf5\n",
      "32/32 [==============================] - 0s 11ms/step - loss: 0.4669 - accuracy: 0.8308 - val_loss: 0.2131 - val_accuracy: 0.9577\n",
      "Epoch 150/1000\n",
      "25/32 [======================>.......] - ETA: 0s - loss: 0.4482 - accuracy: 0.8469\n",
      "Epoch 00150: saving model to model/point_history_classifier\\point_history_classifier.hdf5\n",
      "32/32 [==============================] - 0s 11ms/step - loss: 0.4396 - accuracy: 0.8447 - val_loss: 0.2116 - val_accuracy: 0.9585\n",
      "Epoch 151/1000\n",
      "25/32 [======================>.......] - ETA: 0s - loss: 0.4280 - accuracy: 0.8394\n",
      "Epoch 00151: saving model to model/point_history_classifier\\point_history_classifier.hdf5\n",
      "32/32 [==============================] - 0s 11ms/step - loss: 0.4341 - accuracy: 0.8371 - val_loss: 0.2113 - val_accuracy: 0.9637\n",
      "Epoch 152/1000\n",
      "28/32 [=========================>....] - ETA: 0s - loss: 0.4177 - accuracy: 0.8463\n",
      "Epoch 00152: saving model to model/point_history_classifier\\point_history_classifier.hdf5\n",
      "32/32 [==============================] - 0s 11ms/step - loss: 0.4176 - accuracy: 0.8459 - val_loss: 0.2090 - val_accuracy: 0.9607\n",
      "Epoch 153/1000\n",
      "26/32 [=======================>......] - ETA: 0s - loss: 0.4303 - accuracy: 0.8438\n",
      "Epoch 00153: saving model to model/point_history_classifier\\point_history_classifier.hdf5\n",
      "32/32 [==============================] - 0s 10ms/step - loss: 0.4330 - accuracy: 0.8429 - val_loss: 0.2087 - val_accuracy: 0.9600\n",
      "Epoch 154/1000\n",
      "25/32 [======================>.......] - ETA: 0s - loss: 0.4360 - accuracy: 0.8375\n",
      "Epoch 00154: saving model to model/point_history_classifier\\point_history_classifier.hdf5\n",
      "32/32 [==============================] - 0s 11ms/step - loss: 0.4398 - accuracy: 0.8384 - val_loss: 0.2086 - val_accuracy: 0.9622\n",
      "Epoch 155/1000\n",
      "25/32 [======================>.......] - ETA: 0s - loss: 0.4393 - accuracy: 0.8413\n",
      "Epoch 00155: saving model to model/point_history_classifier\\point_history_classifier.hdf5\n",
      "32/32 [==============================] - 0s 10ms/step - loss: 0.4368 - accuracy: 0.8419 - val_loss: 0.2112 - val_accuracy: 0.9615\n",
      "Epoch 156/1000\n",
      "25/32 [======================>.......] - ETA: 0s - loss: 0.4296 - accuracy: 0.8428\n",
      "Epoch 00156: saving model to model/point_history_classifier\\point_history_classifier.hdf5\n",
      "32/32 [==============================] - 0s 11ms/step - loss: 0.4419 - accuracy: 0.8346 - val_loss: 0.2085 - val_accuracy: 0.9615\n"
     ]
    },
    {
     "name": "stdout",
     "output_type": "stream",
     "text": [
      "Epoch 157/1000\n",
      "25/32 [======================>.......] - ETA: 0s - loss: 0.4322 - accuracy: 0.8384\n",
      "Epoch 00157: saving model to model/point_history_classifier\\point_history_classifier.hdf5\n",
      "32/32 [==============================] - 0s 11ms/step - loss: 0.4319 - accuracy: 0.8404 - val_loss: 0.2081 - val_accuracy: 0.9615\n",
      "Epoch 158/1000\n",
      "25/32 [======================>.......] - ETA: 0s - loss: 0.4179 - accuracy: 0.8522\n",
      "Epoch 00158: saving model to model/point_history_classifier\\point_history_classifier.hdf5\n",
      "32/32 [==============================] - 0s 11ms/step - loss: 0.4218 - accuracy: 0.8482 - val_loss: 0.2074 - val_accuracy: 0.9622\n",
      "Epoch 159/1000\n",
      "25/32 [======================>.......] - ETA: 0s - loss: 0.4368 - accuracy: 0.8450\n",
      "Epoch 00159: saving model to model/point_history_classifier\\point_history_classifier.hdf5\n",
      "32/32 [==============================] - 0s 11ms/step - loss: 0.4420 - accuracy: 0.8426 - val_loss: 0.2090 - val_accuracy: 0.9637\n",
      "Epoch 160/1000\n",
      "26/32 [=======================>......] - ETA: 0s - loss: 0.4331 - accuracy: 0.8431\n",
      "Epoch 00160: saving model to model/point_history_classifier\\point_history_classifier.hdf5\n",
      "32/32 [==============================] - 0s 10ms/step - loss: 0.4306 - accuracy: 0.8469 - val_loss: 0.2087 - val_accuracy: 0.9645\n",
      "Epoch 161/1000\n",
      "25/32 [======================>.......] - ETA: 0s - loss: 0.4576 - accuracy: 0.8400\n",
      "Epoch 00161: saving model to model/point_history_classifier\\point_history_classifier.hdf5\n",
      "32/32 [==============================] - 0s 11ms/step - loss: 0.4504 - accuracy: 0.8404 - val_loss: 0.2059 - val_accuracy: 0.9645\n",
      "Epoch 162/1000\n",
      "25/32 [======================>.......] - ETA: 0s - loss: 0.4418 - accuracy: 0.8419\n",
      "Epoch 00162: saving model to model/point_history_classifier\\point_history_classifier.hdf5\n",
      "32/32 [==============================] - 0s 11ms/step - loss: 0.4515 - accuracy: 0.8401 - val_loss: 0.2073 - val_accuracy: 0.9645\n",
      "Epoch 163/1000\n",
      "25/32 [======================>.......] - ETA: 0s - loss: 0.4191 - accuracy: 0.8444\n",
      "Epoch 00163: saving model to model/point_history_classifier\\point_history_classifier.hdf5\n",
      "32/32 [==============================] - 0s 11ms/step - loss: 0.4207 - accuracy: 0.8477 - val_loss: 0.2066 - val_accuracy: 0.9615\n",
      "Epoch 164/1000\n",
      "25/32 [======================>.......] - ETA: 0s - loss: 0.4432 - accuracy: 0.8450\n",
      "Epoch 00164: saving model to model/point_history_classifier\\point_history_classifier.hdf5\n",
      "32/32 [==============================] - 0s 11ms/step - loss: 0.4362 - accuracy: 0.8469 - val_loss: 0.2086 - val_accuracy: 0.9630\n",
      "Epoch 165/1000\n",
      "25/32 [======================>.......] - ETA: 0s - loss: 0.4218 - accuracy: 0.8453\n",
      "Epoch 00165: saving model to model/point_history_classifier\\point_history_classifier.hdf5\n",
      "32/32 [==============================] - 0s 11ms/step - loss: 0.4329 - accuracy: 0.8421 - val_loss: 0.2062 - val_accuracy: 0.9637\n",
      "Epoch 166/1000\n",
      "25/32 [======================>.......] - ETA: 0s - loss: 0.4230 - accuracy: 0.8481\n",
      "Epoch 00166: saving model to model/point_history_classifier\\point_history_classifier.hdf5\n",
      "32/32 [==============================] - 0s 11ms/step - loss: 0.4261 - accuracy: 0.8459 - val_loss: 0.2097 - val_accuracy: 0.9637\n",
      "Epoch 167/1000\n",
      "25/32 [======================>.......] - ETA: 0s - loss: 0.4407 - accuracy: 0.8388\n",
      "Epoch 00167: saving model to model/point_history_classifier\\point_history_classifier.hdf5\n",
      "32/32 [==============================] - 0s 11ms/step - loss: 0.4283 - accuracy: 0.8416 - val_loss: 0.2070 - val_accuracy: 0.9645\n",
      "Epoch 168/1000\n",
      "26/32 [=======================>......] - ETA: 0s - loss: 0.4286 - accuracy: 0.8407\n",
      "Epoch 00168: saving model to model/point_history_classifier\\point_history_classifier.hdf5\n",
      "32/32 [==============================] - 0s 11ms/step - loss: 0.4270 - accuracy: 0.8411 - val_loss: 0.2038 - val_accuracy: 0.9653\n",
      "Epoch 169/1000\n",
      "25/32 [======================>.......] - ETA: 0s - loss: 0.4126 - accuracy: 0.8450\n",
      "Epoch 00169: saving model to model/point_history_classifier\\point_history_classifier.hdf5\n",
      "32/32 [==============================] - 0s 11ms/step - loss: 0.4118 - accuracy: 0.8457 - val_loss: 0.2016 - val_accuracy: 0.9630\n",
      "Epoch 170/1000\n",
      "25/32 [======================>.......] - ETA: 0s - loss: 0.4269 - accuracy: 0.8375\n",
      "Epoch 00170: saving model to model/point_history_classifier\\point_history_classifier.hdf5\n",
      "32/32 [==============================] - 0s 11ms/step - loss: 0.4304 - accuracy: 0.8364 - val_loss: 0.2017 - val_accuracy: 0.9653\n",
      "Epoch 171/1000\n",
      "26/32 [=======================>......] - ETA: 0s - loss: 0.4282 - accuracy: 0.8419\n",
      "Epoch 00171: saving model to model/point_history_classifier\\point_history_classifier.hdf5\n",
      "32/32 [==============================] - 0s 11ms/step - loss: 0.4291 - accuracy: 0.8406 - val_loss: 0.2011 - val_accuracy: 0.9660\n",
      "Epoch 172/1000\n",
      "31/32 [============================>.] - ETA: 0s - loss: 0.4177 - accuracy: 0.8453\n",
      "Epoch 00172: saving model to model/point_history_classifier\\point_history_classifier.hdf5\n",
      "32/32 [==============================] - 0s 11ms/step - loss: 0.4199 - accuracy: 0.8449 - val_loss: 0.1993 - val_accuracy: 0.9653\n",
      "Epoch 173/1000\n",
      "26/32 [=======================>......] - ETA: 0s - loss: 0.3980 - accuracy: 0.8492\n",
      "Epoch 00173: saving model to model/point_history_classifier\\point_history_classifier.hdf5\n",
      "32/32 [==============================] - 0s 9ms/step - loss: 0.4059 - accuracy: 0.8439 - val_loss: 0.1997 - val_accuracy: 0.9653\n",
      "Epoch 174/1000\n",
      "26/32 [=======================>......] - ETA: 0s - loss: 0.4266 - accuracy: 0.8395\n",
      "Epoch 00174: saving model to model/point_history_classifier\\point_history_classifier.hdf5\n",
      "32/32 [==============================] - 0s 11ms/step - loss: 0.4194 - accuracy: 0.8429 - val_loss: 0.1983 - val_accuracy: 0.9660\n",
      "Epoch 175/1000\n",
      "32/32 [==============================] - ETA: 0s - loss: 0.4328 - accuracy: 0.8369\n",
      "Epoch 00175: saving model to model/point_history_classifier\\point_history_classifier.hdf5\n",
      "32/32 [==============================] - 0s 9ms/step - loss: 0.4328 - accuracy: 0.8369 - val_loss: 0.2009 - val_accuracy: 0.9660\n",
      "Epoch 176/1000\n",
      "32/32 [==============================] - ETA: 0s - loss: 0.4045 - accuracy: 0.8562\n",
      "Epoch 00176: saving model to model/point_history_classifier\\point_history_classifier.hdf5\n",
      "32/32 [==============================] - 0s 12ms/step - loss: 0.4045 - accuracy: 0.8562 - val_loss: 0.1980 - val_accuracy: 0.9645\n",
      "Epoch 177/1000\n",
      "25/32 [======================>.......] - ETA: 0s - loss: 0.3965 - accuracy: 0.8569\n",
      "Epoch 00177: saving model to model/point_history_classifier\\point_history_classifier.hdf5\n",
      "32/32 [==============================] - 0s 11ms/step - loss: 0.4061 - accuracy: 0.8507 - val_loss: 0.1951 - val_accuracy: 0.9653\n",
      "Epoch 178/1000\n",
      "26/32 [=======================>......] - ETA: 0s - loss: 0.4231 - accuracy: 0.8468\n",
      "Epoch 00178: saving model to model/point_history_classifier\\point_history_classifier.hdf5\n",
      "32/32 [==============================] - 0s 11ms/step - loss: 0.4147 - accuracy: 0.8499 - val_loss: 0.1957 - val_accuracy: 0.9660\n",
      "Epoch 179/1000\n",
      "27/32 [========================>.....] - ETA: 0s - loss: 0.4098 - accuracy: 0.8487\n",
      "Epoch 00179: saving model to model/point_history_classifier\\point_history_classifier.hdf5\n",
      "32/32 [==============================] - 0s 10ms/step - loss: 0.4150 - accuracy: 0.8479 - val_loss: 0.1940 - val_accuracy: 0.9675\n",
      "Epoch 180/1000\n",
      "26/32 [=======================>......] - ETA: 0s - loss: 0.3973 - accuracy: 0.8561\n",
      "Epoch 00180: saving model to model/point_history_classifier\\point_history_classifier.hdf5\n",
      "32/32 [==============================] - 0s 11ms/step - loss: 0.3999 - accuracy: 0.8573 - val_loss: 0.1942 - val_accuracy: 0.9668\n",
      "Epoch 181/1000\n",
      "26/32 [=======================>......] - ETA: 0s - loss: 0.4120 - accuracy: 0.8540\n",
      "Epoch 00181: saving model to model/point_history_classifier\\point_history_classifier.hdf5\n",
      "32/32 [==============================] - 0s 11ms/step - loss: 0.4055 - accuracy: 0.8562 - val_loss: 0.1932 - val_accuracy: 0.9668\n",
      "Epoch 182/1000\n",
      "32/32 [==============================] - ETA: 0s - loss: 0.4321 - accuracy: 0.8457\n",
      "Epoch 00182: saving model to model/point_history_classifier\\point_history_classifier.hdf5\n",
      "32/32 [==============================] - 0s 11ms/step - loss: 0.4321 - accuracy: 0.8457 - val_loss: 0.1927 - val_accuracy: 0.9660\n"
     ]
    },
    {
     "name": "stdout",
     "output_type": "stream",
     "text": [
      "Epoch 183/1000\n",
      "26/32 [=======================>......] - ETA: 0s - loss: 0.4351 - accuracy: 0.8459\n",
      "Epoch 00183: saving model to model/point_history_classifier\\point_history_classifier.hdf5\n",
      "32/32 [==============================] - 0s 10ms/step - loss: 0.4335 - accuracy: 0.8482 - val_loss: 0.1944 - val_accuracy: 0.9645\n",
      "Epoch 184/1000\n",
      "25/32 [======================>.......] - ETA: 0s - loss: 0.4186 - accuracy: 0.8422\n",
      "Epoch 00184: saving model to model/point_history_classifier\\point_history_classifier.hdf5\n",
      "32/32 [==============================] - 0s 11ms/step - loss: 0.4222 - accuracy: 0.8454 - val_loss: 0.1945 - val_accuracy: 0.9645\n",
      "Epoch 185/1000\n",
      "32/32 [==============================] - ETA: 0s - loss: 0.4106 - accuracy: 0.8459\n",
      "Epoch 00185: saving model to model/point_history_classifier\\point_history_classifier.hdf5\n",
      "32/32 [==============================] - 0s 11ms/step - loss: 0.4106 - accuracy: 0.8459 - val_loss: 0.1939 - val_accuracy: 0.9660\n",
      "Epoch 186/1000\n",
      "25/32 [======================>.......] - ETA: 0s - loss: 0.4146 - accuracy: 0.8478\n",
      "Epoch 00186: saving model to model/point_history_classifier\\point_history_classifier.hdf5\n",
      "32/32 [==============================] - 0s 11ms/step - loss: 0.4052 - accuracy: 0.8502 - val_loss: 0.1958 - val_accuracy: 0.9653\n",
      "Epoch 187/1000\n",
      "25/32 [======================>.......] - ETA: 0s - loss: 0.4220 - accuracy: 0.8566\n",
      "Epoch 00187: saving model to model/point_history_classifier\\point_history_classifier.hdf5\n",
      "32/32 [==============================] - 0s 11ms/step - loss: 0.4220 - accuracy: 0.8575 - val_loss: 0.1955 - val_accuracy: 0.9660\n",
      "Epoch 188/1000\n",
      "25/32 [======================>.......] - ETA: 0s - loss: 0.4061 - accuracy: 0.8562\n",
      "Epoch 00188: saving model to model/point_history_classifier\\point_history_classifier.hdf5\n",
      "32/32 [==============================] - 0s 11ms/step - loss: 0.4066 - accuracy: 0.8552 - val_loss: 0.1928 - val_accuracy: 0.9645\n",
      "Epoch 189/1000\n",
      "26/32 [=======================>......] - ETA: 0s - loss: 0.4161 - accuracy: 0.8486\n",
      "Epoch 00189: saving model to model/point_history_classifier\\point_history_classifier.hdf5\n",
      "32/32 [==============================] - 0s 11ms/step - loss: 0.4174 - accuracy: 0.8459 - val_loss: 0.1945 - val_accuracy: 0.9653\n",
      "Epoch 190/1000\n",
      "26/32 [=======================>......] - ETA: 0s - loss: 0.3969 - accuracy: 0.8597\n",
      "Epoch 00190: saving model to model/point_history_classifier\\point_history_classifier.hdf5\n",
      "32/32 [==============================] - 0s 10ms/step - loss: 0.4110 - accuracy: 0.8580 - val_loss: 0.1907 - val_accuracy: 0.9645\n",
      "Epoch 191/1000\n",
      "32/32 [==============================] - ETA: 0s - loss: 0.4214 - accuracy: 0.8432\n",
      "Epoch 00191: saving model to model/point_history_classifier\\point_history_classifier.hdf5\n",
      "32/32 [==============================] - 0s 11ms/step - loss: 0.4214 - accuracy: 0.8432 - val_loss: 0.1925 - val_accuracy: 0.9630\n",
      "Epoch 192/1000\n",
      "26/32 [=======================>......] - ETA: 0s - loss: 0.4095 - accuracy: 0.8471\n",
      "Epoch 00192: saving model to model/point_history_classifier\\point_history_classifier.hdf5\n",
      "32/32 [==============================] - 0s 10ms/step - loss: 0.4095 - accuracy: 0.8464 - val_loss: 0.1931 - val_accuracy: 0.9637\n",
      "Epoch 193/1000\n",
      "26/32 [=======================>......] - ETA: 0s - loss: 0.4241 - accuracy: 0.8492\n",
      "Epoch 00193: saving model to model/point_history_classifier\\point_history_classifier.hdf5\n",
      "32/32 [==============================] - 0s 11ms/step - loss: 0.4146 - accuracy: 0.8510 - val_loss: 0.1926 - val_accuracy: 0.9645\n",
      "Epoch 194/1000\n",
      "32/32 [==============================] - ETA: 0s - loss: 0.4242 - accuracy: 0.8520\n",
      "Epoch 00194: saving model to model/point_history_classifier\\point_history_classifier.hdf5\n",
      "32/32 [==============================] - 0s 11ms/step - loss: 0.4242 - accuracy: 0.8520 - val_loss: 0.1934 - val_accuracy: 0.9630\n",
      "Epoch 195/1000\n",
      "32/32 [==============================] - ETA: 0s - loss: 0.4063 - accuracy: 0.8505\n",
      "Epoch 00195: saving model to model/point_history_classifier\\point_history_classifier.hdf5\n",
      "32/32 [==============================] - 0s 11ms/step - loss: 0.4063 - accuracy: 0.8505 - val_loss: 0.1918 - val_accuracy: 0.9637\n",
      "Epoch 196/1000\n",
      "26/32 [=======================>......] - ETA: 0s - loss: 0.4147 - accuracy: 0.8438\n",
      "Epoch 00196: saving model to model/point_history_classifier\\point_history_classifier.hdf5\n",
      "32/32 [==============================] - 0s 11ms/step - loss: 0.4158 - accuracy: 0.8419 - val_loss: 0.1922 - val_accuracy: 0.9653\n",
      "Epoch 197/1000\n",
      "25/32 [======================>.......] - ETA: 0s - loss: 0.4135 - accuracy: 0.8475\n",
      "Epoch 00197: saving model to model/point_history_classifier\\point_history_classifier.hdf5\n",
      "32/32 [==============================] - 0s 11ms/step - loss: 0.4124 - accuracy: 0.8502 - val_loss: 0.1919 - val_accuracy: 0.9660\n",
      "Epoch 198/1000\n",
      "25/32 [======================>.......] - ETA: 0s - loss: 0.4024 - accuracy: 0.8556\n",
      "Epoch 00198: saving model to model/point_history_classifier\\point_history_classifier.hdf5\n",
      "32/32 [==============================] - 0s 11ms/step - loss: 0.4041 - accuracy: 0.8525 - val_loss: 0.1923 - val_accuracy: 0.9653\n",
      "Epoch 199/1000\n",
      "25/32 [======================>.......] - ETA: 0s - loss: 0.4030 - accuracy: 0.8562\n",
      "Epoch 00199: saving model to model/point_history_classifier\\point_history_classifier.hdf5\n",
      "32/32 [==============================] - 0s 10ms/step - loss: 0.4089 - accuracy: 0.8560 - val_loss: 0.1907 - val_accuracy: 0.9660\n",
      "Epoch 200/1000\n",
      "29/32 [==========================>...] - ETA: 0s - loss: 0.4057 - accuracy: 0.8491\n",
      "Epoch 00200: saving model to model/point_history_classifier\\point_history_classifier.hdf5\n",
      "32/32 [==============================] - 0s 10ms/step - loss: 0.4102 - accuracy: 0.8474 - val_loss: 0.1917 - val_accuracy: 0.9653\n",
      "Epoch 201/1000\n",
      "25/32 [======================>.......] - ETA: 0s - loss: 0.4163 - accuracy: 0.8559\n",
      "Epoch 00201: saving model to model/point_history_classifier\\point_history_classifier.hdf5\n",
      "32/32 [==============================] - 0s 11ms/step - loss: 0.4107 - accuracy: 0.8573 - val_loss: 0.1913 - val_accuracy: 0.9660\n",
      "Epoch 202/1000\n",
      "25/32 [======================>.......] - ETA: 0s - loss: 0.4054 - accuracy: 0.8503\n",
      "Epoch 00202: saving model to model/point_history_classifier\\point_history_classifier.hdf5\n",
      "32/32 [==============================] - 0s 11ms/step - loss: 0.4091 - accuracy: 0.8482 - val_loss: 0.1881 - val_accuracy: 0.9668\n",
      "Epoch 203/1000\n",
      "25/32 [======================>.......] - ETA: 0s - loss: 0.4213 - accuracy: 0.8512\n",
      "Epoch 00203: saving model to model/point_history_classifier\\point_history_classifier.hdf5\n",
      "32/32 [==============================] - 0s 11ms/step - loss: 0.4200 - accuracy: 0.8527 - val_loss: 0.1891 - val_accuracy: 0.9668\n",
      "Epoch 204/1000\n",
      "25/32 [======================>.......] - ETA: 0s - loss: 0.4040 - accuracy: 0.8544\n",
      "Epoch 00204: saving model to model/point_history_classifier\\point_history_classifier.hdf5\n",
      "32/32 [==============================] - 0s 11ms/step - loss: 0.3927 - accuracy: 0.8588 - val_loss: 0.1875 - val_accuracy: 0.9668\n",
      "Epoch 205/1000\n",
      "29/32 [==========================>...] - ETA: 0s - loss: 0.4046 - accuracy: 0.8454\n",
      "Epoch 00205: saving model to model/point_history_classifier\\point_history_classifier.hdf5\n",
      "32/32 [==============================] - 0s 10ms/step - loss: 0.4003 - accuracy: 0.8469 - val_loss: 0.1835 - val_accuracy: 0.9660\n",
      "Epoch 206/1000\n",
      "25/32 [======================>.......] - ETA: 0s - loss: 0.3951 - accuracy: 0.8491\n",
      "Epoch 00206: saving model to model/point_history_classifier\\point_history_classifier.hdf5\n",
      "32/32 [==============================] - 0s 11ms/step - loss: 0.4090 - accuracy: 0.8447 - val_loss: 0.1851 - val_accuracy: 0.9668\n",
      "Epoch 207/1000\n",
      "25/32 [======================>.......] - ETA: 0s - loss: 0.4145 - accuracy: 0.8469\n",
      "Epoch 00207: saving model to model/point_history_classifier\\point_history_classifier.hdf5\n",
      "32/32 [==============================] - 0s 11ms/step - loss: 0.4180 - accuracy: 0.8439 - val_loss: 0.1863 - val_accuracy: 0.9675\n",
      "Epoch 208/1000\n",
      "32/32 [==============================] - ETA: 0s - loss: 0.4117 - accuracy: 0.8517\n",
      "Epoch 00208: saving model to model/point_history_classifier\\point_history_classifier.hdf5\n",
      "32/32 [==============================] - 0s 11ms/step - loss: 0.4117 - accuracy: 0.8517 - val_loss: 0.1864 - val_accuracy: 0.9645\n"
     ]
    },
    {
     "name": "stdout",
     "output_type": "stream",
     "text": [
      "Epoch 209/1000\n",
      "26/32 [=======================>......] - ETA: 0s - loss: 0.4140 - accuracy: 0.8407\n",
      "Epoch 00209: saving model to model/point_history_classifier\\point_history_classifier.hdf5\n",
      "32/32 [==============================] - 0s 11ms/step - loss: 0.4080 - accuracy: 0.8444 - val_loss: 0.1874 - val_accuracy: 0.9645\n",
      "Epoch 210/1000\n",
      "32/32 [==============================] - ETA: 0s - loss: 0.4091 - accuracy: 0.8567\n",
      "Epoch 00210: saving model to model/point_history_classifier\\point_history_classifier.hdf5\n",
      "32/32 [==============================] - 0s 11ms/step - loss: 0.4091 - accuracy: 0.8567 - val_loss: 0.1879 - val_accuracy: 0.9683\n",
      "Epoch 211/1000\n",
      "28/32 [=========================>....] - ETA: 0s - loss: 0.4135 - accuracy: 0.8418\n",
      "Epoch 00211: saving model to model/point_history_classifier\\point_history_classifier.hdf5\n",
      "32/32 [==============================] - 0s 10ms/step - loss: 0.4142 - accuracy: 0.8429 - val_loss: 0.1873 - val_accuracy: 0.9675\n",
      "Epoch 212/1000\n",
      "25/32 [======================>.......] - ETA: 0s - loss: 0.3887 - accuracy: 0.8600\n",
      "Epoch 00212: saving model to model/point_history_classifier\\point_history_classifier.hdf5\n",
      "32/32 [==============================] - 0s 11ms/step - loss: 0.3889 - accuracy: 0.8580 - val_loss: 0.1868 - val_accuracy: 0.9645\n",
      "Epoch 213/1000\n",
      "25/32 [======================>.......] - ETA: 0s - loss: 0.3821 - accuracy: 0.8537\n",
      "Epoch 00213: saving model to model/point_history_classifier\\point_history_classifier.hdf5\n",
      "32/32 [==============================] - 0s 11ms/step - loss: 0.3945 - accuracy: 0.8494 - val_loss: 0.1874 - val_accuracy: 0.9645\n",
      "Epoch 214/1000\n",
      "25/32 [======================>.......] - ETA: 0s - loss: 0.3953 - accuracy: 0.8531\n",
      "Epoch 00214: saving model to model/point_history_classifier\\point_history_classifier.hdf5\n",
      "32/32 [==============================] - 0s 11ms/step - loss: 0.3957 - accuracy: 0.8535 - val_loss: 0.1881 - val_accuracy: 0.9645\n",
      "Epoch 215/1000\n",
      "25/32 [======================>.......] - ETA: 0s - loss: 0.3830 - accuracy: 0.8603\n",
      "Epoch 00215: saving model to model/point_history_classifier\\point_history_classifier.hdf5\n",
      "32/32 [==============================] - 0s 11ms/step - loss: 0.3836 - accuracy: 0.8630 - val_loss: 0.1843 - val_accuracy: 0.9668\n",
      "Epoch 216/1000\n",
      "26/32 [=======================>......] - ETA: 0s - loss: 0.3839 - accuracy: 0.8588\n",
      "Epoch 00216: saving model to model/point_history_classifier\\point_history_classifier.hdf5\n",
      "32/32 [==============================] - 0s 11ms/step - loss: 0.3831 - accuracy: 0.8623 - val_loss: 0.1822 - val_accuracy: 0.9668\n",
      "Epoch 217/1000\n",
      "25/32 [======================>.......] - ETA: 0s - loss: 0.3974 - accuracy: 0.8509\n",
      "Epoch 00217: saving model to model/point_history_classifier\\point_history_classifier.hdf5\n",
      "32/32 [==============================] - 0s 11ms/step - loss: 0.3966 - accuracy: 0.8525 - val_loss: 0.1835 - val_accuracy: 0.9668\n",
      "Epoch 218/1000\n",
      "25/32 [======================>.......] - ETA: 0s - loss: 0.3907 - accuracy: 0.8572\n",
      "Epoch 00218: saving model to model/point_history_classifier\\point_history_classifier.hdf5\n",
      "32/32 [==============================] - 0s 11ms/step - loss: 0.3962 - accuracy: 0.8550 - val_loss: 0.1864 - val_accuracy: 0.9690\n",
      "Epoch 219/1000\n",
      "26/32 [=======================>......] - ETA: 0s - loss: 0.3961 - accuracy: 0.8597\n",
      "Epoch 00219: saving model to model/point_history_classifier\\point_history_classifier.hdf5\n",
      "32/32 [==============================] - 0s 11ms/step - loss: 0.3976 - accuracy: 0.8575 - val_loss: 0.1851 - val_accuracy: 0.9668\n",
      "Epoch 220/1000\n",
      "28/32 [=========================>....] - ETA: 0s - loss: 0.4082 - accuracy: 0.8530\n",
      "Epoch 00220: saving model to model/point_history_classifier\\point_history_classifier.hdf5\n",
      "32/32 [==============================] - 0s 10ms/step - loss: 0.4082 - accuracy: 0.8520 - val_loss: 0.1877 - val_accuracy: 0.9653\n",
      "Epoch 221/1000\n",
      "26/32 [=======================>......] - ETA: 0s - loss: 0.3963 - accuracy: 0.8588\n",
      "Epoch 00221: saving model to model/point_history_classifier\\point_history_classifier.hdf5\n",
      "32/32 [==============================] - 0s 11ms/step - loss: 0.3989 - accuracy: 0.8562 - val_loss: 0.1850 - val_accuracy: 0.9675\n",
      "Epoch 222/1000\n",
      "25/32 [======================>.......] - ETA: 0s - loss: 0.3959 - accuracy: 0.8491\n",
      "Epoch 00222: saving model to model/point_history_classifier\\point_history_classifier.hdf5\n",
      "32/32 [==============================] - 0s 11ms/step - loss: 0.4026 - accuracy: 0.8464 - val_loss: 0.1819 - val_accuracy: 0.9675\n",
      "Epoch 223/1000\n",
      "26/32 [=======================>......] - ETA: 0s - loss: 0.3829 - accuracy: 0.8576\n",
      "Epoch 00223: saving model to model/point_history_classifier\\point_history_classifier.hdf5\n",
      "32/32 [==============================] - 0s 11ms/step - loss: 0.3892 - accuracy: 0.8557 - val_loss: 0.1818 - val_accuracy: 0.9683\n",
      "Epoch 224/1000\n",
      "25/32 [======================>.......] - ETA: 0s - loss: 0.4184 - accuracy: 0.8491\n",
      "Epoch 00224: saving model to model/point_history_classifier\\point_history_classifier.hdf5\n",
      "32/32 [==============================] - 0s 11ms/step - loss: 0.4080 - accuracy: 0.8537 - val_loss: 0.1834 - val_accuracy: 0.9675\n",
      "Epoch 225/1000\n",
      "25/32 [======================>.......] - ETA: 0s - loss: 0.3915 - accuracy: 0.8575\n",
      "Epoch 00225: saving model to model/point_history_classifier\\point_history_classifier.hdf5\n",
      "32/32 [==============================] - 0s 11ms/step - loss: 0.3959 - accuracy: 0.8567 - val_loss: 0.1817 - val_accuracy: 0.9683\n",
      "Epoch 226/1000\n",
      "25/32 [======================>.......] - ETA: 0s - loss: 0.3692 - accuracy: 0.8616\n",
      "Epoch 00226: saving model to model/point_history_classifier\\point_history_classifier.hdf5\n",
      "32/32 [==============================] - 0s 11ms/step - loss: 0.3785 - accuracy: 0.8603 - val_loss: 0.1795 - val_accuracy: 0.9660\n",
      "Epoch 227/1000\n",
      "27/32 [========================>.....] - ETA: 0s - loss: 0.3888 - accuracy: 0.8646\n",
      "Epoch 00227: saving model to model/point_history_classifier\\point_history_classifier.hdf5\n",
      "32/32 [==============================] - 0s 10ms/step - loss: 0.3913 - accuracy: 0.8628 - val_loss: 0.1802 - val_accuracy: 0.9698\n",
      "Epoch 228/1000\n",
      "25/32 [======================>.......] - ETA: 0s - loss: 0.3877 - accuracy: 0.8622\n",
      "Epoch 00228: saving model to model/point_history_classifier\\point_history_classifier.hdf5\n",
      "32/32 [==============================] - 0s 11ms/step - loss: 0.3884 - accuracy: 0.8630 - val_loss: 0.1800 - val_accuracy: 0.9690\n",
      "Epoch 229/1000\n",
      "27/32 [========================>.....] - ETA: 0s - loss: 0.3978 - accuracy: 0.8568\n",
      "Epoch 00229: saving model to model/point_history_classifier\\point_history_classifier.hdf5\n",
      "32/32 [==============================] - 0s 10ms/step - loss: 0.3927 - accuracy: 0.8565 - val_loss: 0.1780 - val_accuracy: 0.9698\n",
      "Epoch 230/1000\n",
      "25/32 [======================>.......] - ETA: 0s - loss: 0.4260 - accuracy: 0.8434\n",
      "Epoch 00230: saving model to model/point_history_classifier\\point_history_classifier.hdf5\n",
      "32/32 [==============================] - 0s 11ms/step - loss: 0.4161 - accuracy: 0.8487 - val_loss: 0.1788 - val_accuracy: 0.9690\n",
      "Epoch 231/1000\n",
      "26/32 [=======================>......] - ETA: 0s - loss: 0.4188 - accuracy: 0.8486\n",
      "Epoch 00231: saving model to model/point_history_classifier\\point_history_classifier.hdf5\n",
      "32/32 [==============================] - 0s 11ms/step - loss: 0.4204 - accuracy: 0.8484 - val_loss: 0.1831 - val_accuracy: 0.9683\n",
      "Epoch 232/1000\n",
      "25/32 [======================>.......] - ETA: 0s - loss: 0.3895 - accuracy: 0.8556\n",
      "Epoch 00232: saving model to model/point_history_classifier\\point_history_classifier.hdf5\n",
      "32/32 [==============================] - 0s 11ms/step - loss: 0.4008 - accuracy: 0.8512 - val_loss: 0.1822 - val_accuracy: 0.9690\n",
      "Epoch 233/1000\n",
      "32/32 [==============================] - ETA: 0s - loss: 0.3864 - accuracy: 0.8555\n",
      "Epoch 00233: saving model to model/point_history_classifier\\point_history_classifier.hdf5\n",
      "32/32 [==============================] - 0s 11ms/step - loss: 0.3864 - accuracy: 0.8555 - val_loss: 0.1806 - val_accuracy: 0.9683\n",
      "Epoch 234/1000\n",
      "25/32 [======================>.......] - ETA: 0s - loss: 0.3975 - accuracy: 0.8547\n",
      "Epoch 00234: saving model to model/point_history_classifier\\point_history_classifier.hdf5\n",
      "32/32 [==============================] - 0s 11ms/step - loss: 0.3973 - accuracy: 0.8555 - val_loss: 0.1793 - val_accuracy: 0.9675\n"
     ]
    },
    {
     "name": "stdout",
     "output_type": "stream",
     "text": [
      "Epoch 235/1000\n",
      "32/32 [==============================] - ETA: 0s - loss: 0.3989 - accuracy: 0.8610\n",
      "Epoch 00235: saving model to model/point_history_classifier\\point_history_classifier.hdf5\n",
      "32/32 [==============================] - 0s 11ms/step - loss: 0.3989 - accuracy: 0.8610 - val_loss: 0.1768 - val_accuracy: 0.9705\n",
      "Epoch 236/1000\n",
      "27/32 [========================>.....] - ETA: 0s - loss: 0.4107 - accuracy: 0.8539\n",
      "Epoch 00236: saving model to model/point_history_classifier\\point_history_classifier.hdf5\n",
      "32/32 [==============================] - 0s 10ms/step - loss: 0.4055 - accuracy: 0.8540 - val_loss: 0.1794 - val_accuracy: 0.9668\n",
      "Epoch 237/1000\n",
      "25/32 [======================>.......] - ETA: 0s - loss: 0.3972 - accuracy: 0.8484\n",
      "Epoch 00237: saving model to model/point_history_classifier\\point_history_classifier.hdf5\n",
      "32/32 [==============================] - 0s 11ms/step - loss: 0.4037 - accuracy: 0.8474 - val_loss: 0.1788 - val_accuracy: 0.9683\n",
      "Epoch 238/1000\n",
      "26/32 [=======================>......] - ETA: 0s - loss: 0.4146 - accuracy: 0.8434\n",
      "Epoch 00238: saving model to model/point_history_classifier\\point_history_classifier.hdf5\n",
      "32/32 [==============================] - 0s 11ms/step - loss: 0.4144 - accuracy: 0.8469 - val_loss: 0.1790 - val_accuracy: 0.9690\n",
      "Epoch 239/1000\n",
      "28/32 [=========================>....] - ETA: 0s - loss: 0.3965 - accuracy: 0.8555\n",
      "Epoch 00239: saving model to model/point_history_classifier\\point_history_classifier.hdf5\n",
      "32/32 [==============================] - 0s 10ms/step - loss: 0.3964 - accuracy: 0.8542 - val_loss: 0.1792 - val_accuracy: 0.9698\n",
      "Epoch 240/1000\n",
      "25/32 [======================>.......] - ETA: 0s - loss: 0.3815 - accuracy: 0.8672\n",
      "Epoch 00240: saving model to model/point_history_classifier\\point_history_classifier.hdf5\n",
      "32/32 [==============================] - 0s 11ms/step - loss: 0.3920 - accuracy: 0.8610 - val_loss: 0.1770 - val_accuracy: 0.9683\n",
      "Epoch 241/1000\n",
      "28/32 [=========================>....] - ETA: 0s - loss: 0.3868 - accuracy: 0.8599\n",
      "Epoch 00241: saving model to model/point_history_classifier\\point_history_classifier.hdf5\n",
      "32/32 [==============================] - 0s 10ms/step - loss: 0.3964 - accuracy: 0.8573 - val_loss: 0.1806 - val_accuracy: 0.9690\n",
      "Epoch 242/1000\n",
      "27/32 [========================>.....] - ETA: 0s - loss: 0.3872 - accuracy: 0.8620\n",
      "Epoch 00242: saving model to model/point_history_classifier\\point_history_classifier.hdf5\n",
      "32/32 [==============================] - 0s 11ms/step - loss: 0.3890 - accuracy: 0.8595 - val_loss: 0.1780 - val_accuracy: 0.9690\n",
      "Epoch 243/1000\n",
      "25/32 [======================>.......] - ETA: 0s - loss: 0.4022 - accuracy: 0.8522\n",
      "Epoch 00243: saving model to model/point_history_classifier\\point_history_classifier.hdf5\n",
      "32/32 [==============================] - 0s 10ms/step - loss: 0.3918 - accuracy: 0.8583 - val_loss: 0.1765 - val_accuracy: 0.9713\n",
      "Epoch 244/1000\n",
      "30/32 [===========================>..] - ETA: 0s - loss: 0.3980 - accuracy: 0.8536\n",
      "Epoch 00244: saving model to model/point_history_classifier\\point_history_classifier.hdf5\n",
      "32/32 [==============================] - 0s 9ms/step - loss: 0.3987 - accuracy: 0.8520 - val_loss: 0.1775 - val_accuracy: 0.9713\n",
      "Epoch 245/1000\n",
      "26/32 [=======================>......] - ETA: 0s - loss: 0.3966 - accuracy: 0.8546\n",
      "Epoch 00245: saving model to model/point_history_classifier\\point_history_classifier.hdf5\n",
      "32/32 [==============================] - 0s 10ms/step - loss: 0.3903 - accuracy: 0.8550 - val_loss: 0.1756 - val_accuracy: 0.9713\n",
      "Epoch 246/1000\n",
      "27/32 [========================>.....] - ETA: 0s - loss: 0.3880 - accuracy: 0.8686\n",
      "Epoch 00246: saving model to model/point_history_classifier\\point_history_classifier.hdf5\n",
      "32/32 [==============================] - 0s 11ms/step - loss: 0.3901 - accuracy: 0.8648 - val_loss: 0.1742 - val_accuracy: 0.9690\n",
      "Epoch 247/1000\n",
      "25/32 [======================>.......] - ETA: 0s - loss: 0.3851 - accuracy: 0.8569\n",
      "Epoch 00247: saving model to model/point_history_classifier\\point_history_classifier.hdf5\n",
      "32/32 [==============================] - 0s 11ms/step - loss: 0.3908 - accuracy: 0.8557 - val_loss: 0.1742 - val_accuracy: 0.9675\n",
      "Epoch 248/1000\n",
      "25/32 [======================>.......] - ETA: 0s - loss: 0.4120 - accuracy: 0.8512\n",
      "Epoch 00248: saving model to model/point_history_classifier\\point_history_classifier.hdf5\n",
      "32/32 [==============================] - 0s 11ms/step - loss: 0.4064 - accuracy: 0.8530 - val_loss: 0.1757 - val_accuracy: 0.9690\n",
      "Epoch 249/1000\n",
      "27/32 [========================>.....] - ETA: 0s - loss: 0.3972 - accuracy: 0.8585\n",
      "Epoch 00249: saving model to model/point_history_classifier\\point_history_classifier.hdf5\n",
      "32/32 [==============================] - 0s 10ms/step - loss: 0.3918 - accuracy: 0.8605 - val_loss: 0.1774 - val_accuracy: 0.9668\n",
      "Epoch 250/1000\n",
      "28/32 [=========================>....] - ETA: 0s - loss: 0.3972 - accuracy: 0.8530\n",
      "Epoch 00250: saving model to model/point_history_classifier\\point_history_classifier.hdf5\n",
      "32/32 [==============================] - 0s 10ms/step - loss: 0.3940 - accuracy: 0.8547 - val_loss: 0.1753 - val_accuracy: 0.9690\n",
      "Epoch 251/1000\n",
      "25/32 [======================>.......] - ETA: 0s - loss: 0.3748 - accuracy: 0.8619\n",
      "Epoch 00251: saving model to model/point_history_classifier\\point_history_classifier.hdf5\n",
      "32/32 [==============================] - 0s 11ms/step - loss: 0.3883 - accuracy: 0.8598 - val_loss: 0.1729 - val_accuracy: 0.9690\n",
      "Epoch 252/1000\n",
      "25/32 [======================>.......] - ETA: 0s - loss: 0.4063 - accuracy: 0.8534\n",
      "Epoch 00252: saving model to model/point_history_classifier\\point_history_classifier.hdf5\n",
      "32/32 [==============================] - 0s 11ms/step - loss: 0.4004 - accuracy: 0.8545 - val_loss: 0.1749 - val_accuracy: 0.9690\n",
      "Epoch 253/1000\n",
      "25/32 [======================>.......] - ETA: 0s - loss: 0.3931 - accuracy: 0.8569\n",
      "Epoch 00253: saving model to model/point_history_classifier\\point_history_classifier.hdf5\n",
      "32/32 [==============================] - 0s 10ms/step - loss: 0.3982 - accuracy: 0.8555 - val_loss: 0.1753 - val_accuracy: 0.9683\n",
      "Epoch 254/1000\n",
      "28/32 [=========================>....] - ETA: 0s - loss: 0.3887 - accuracy: 0.8602\n",
      "Epoch 00254: saving model to model/point_history_classifier\\point_history_classifier.hdf5\n",
      "32/32 [==============================] - 0s 11ms/step - loss: 0.3944 - accuracy: 0.8575 - val_loss: 0.1766 - val_accuracy: 0.9705\n",
      "Epoch 255/1000\n",
      "25/32 [======================>.......] - ETA: 0s - loss: 0.3992 - accuracy: 0.8653\n",
      "Epoch 00255: saving model to model/point_history_classifier\\point_history_classifier.hdf5\n",
      "32/32 [==============================] - 0s 11ms/step - loss: 0.3885 - accuracy: 0.8656 - val_loss: 0.1767 - val_accuracy: 0.9675\n",
      "Epoch 256/1000\n",
      "25/32 [======================>.......] - ETA: 0s - loss: 0.3829 - accuracy: 0.8591\n",
      "Epoch 00256: saving model to model/point_history_classifier\\point_history_classifier.hdf5\n",
      "32/32 [==============================] - 0s 10ms/step - loss: 0.3933 - accuracy: 0.8593 - val_loss: 0.1748 - val_accuracy: 0.9705\n",
      "Epoch 257/1000\n",
      "26/32 [=======================>......] - ETA: 0s - loss: 0.3618 - accuracy: 0.8720\n",
      "Epoch 00257: saving model to model/point_history_classifier\\point_history_classifier.hdf5\n",
      "32/32 [==============================] - 0s 11ms/step - loss: 0.3659 - accuracy: 0.8713 - val_loss: 0.1724 - val_accuracy: 0.9705\n",
      "Epoch 258/1000\n",
      "25/32 [======================>.......] - ETA: 0s - loss: 0.3713 - accuracy: 0.8669\n",
      "Epoch 00258: saving model to model/point_history_classifier\\point_history_classifier.hdf5\n",
      "32/32 [==============================] - 0s 11ms/step - loss: 0.3778 - accuracy: 0.8638 - val_loss: 0.1717 - val_accuracy: 0.9690\n",
      "Epoch 259/1000\n",
      "25/32 [======================>.......] - ETA: 0s - loss: 0.3893 - accuracy: 0.8609\n",
      "Epoch 00259: saving model to model/point_history_classifier\\point_history_classifier.hdf5\n",
      "32/32 [==============================] - 0s 11ms/step - loss: 0.3861 - accuracy: 0.8623 - val_loss: 0.1704 - val_accuracy: 0.9653\n",
      "Epoch 260/1000\n",
      "25/32 [======================>.......] - ETA: 0s - loss: 0.4058 - accuracy: 0.8541\n",
      "Epoch 00260: saving model to model/point_history_classifier\\point_history_classifier.hdf5\n",
      "32/32 [==============================] - 0s 11ms/step - loss: 0.4047 - accuracy: 0.8555 - val_loss: 0.1697 - val_accuracy: 0.9698\n"
     ]
    },
    {
     "name": "stdout",
     "output_type": "stream",
     "text": [
      "Epoch 261/1000\n",
      "25/32 [======================>.......] - ETA: 0s - loss: 0.3938 - accuracy: 0.8637\n",
      "Epoch 00261: saving model to model/point_history_classifier\\point_history_classifier.hdf5\n",
      "32/32 [==============================] - 0s 11ms/step - loss: 0.4018 - accuracy: 0.8595 - val_loss: 0.1723 - val_accuracy: 0.9683\n",
      "Epoch 262/1000\n",
      "26/32 [=======================>......] - ETA: 0s - loss: 0.3979 - accuracy: 0.8621\n",
      "Epoch 00262: saving model to model/point_history_classifier\\point_history_classifier.hdf5\n",
      "32/32 [==============================] - 0s 10ms/step - loss: 0.3969 - accuracy: 0.8610 - val_loss: 0.1716 - val_accuracy: 0.9660\n",
      "Epoch 263/1000\n",
      "25/32 [======================>.......] - ETA: 0s - loss: 0.3927 - accuracy: 0.8541\n",
      "Epoch 00263: saving model to model/point_history_classifier\\point_history_classifier.hdf5\n",
      "32/32 [==============================] - 0s 11ms/step - loss: 0.3899 - accuracy: 0.8552 - val_loss: 0.1736 - val_accuracy: 0.9683\n",
      "Epoch 264/1000\n",
      "25/32 [======================>.......] - ETA: 0s - loss: 0.3762 - accuracy: 0.8662\n",
      "Epoch 00264: saving model to model/point_history_classifier\\point_history_classifier.hdf5\n",
      "32/32 [==============================] - 0s 11ms/step - loss: 0.3780 - accuracy: 0.8643 - val_loss: 0.1716 - val_accuracy: 0.9690\n",
      "Epoch 265/1000\n",
      "25/32 [======================>.......] - ETA: 0s - loss: 0.3918 - accuracy: 0.8612\n",
      "Epoch 00265: saving model to model/point_history_classifier\\point_history_classifier.hdf5\n",
      "32/32 [==============================] - 0s 11ms/step - loss: 0.3974 - accuracy: 0.8578 - val_loss: 0.1706 - val_accuracy: 0.9683\n",
      "Epoch 266/1000\n",
      "25/32 [======================>.......] - ETA: 0s - loss: 0.3890 - accuracy: 0.8581\n",
      "Epoch 00266: saving model to model/point_history_classifier\\point_history_classifier.hdf5\n",
      "32/32 [==============================] - 0s 11ms/step - loss: 0.3820 - accuracy: 0.8618 - val_loss: 0.1705 - val_accuracy: 0.9683\n",
      "Epoch 267/1000\n",
      "27/32 [========================>.....] - ETA: 0s - loss: 0.3909 - accuracy: 0.8582\n",
      "Epoch 00267: saving model to model/point_history_classifier\\point_history_classifier.hdf5\n",
      "32/32 [==============================] - 0s 11ms/step - loss: 0.3994 - accuracy: 0.8532 - val_loss: 0.1732 - val_accuracy: 0.9698\n",
      "Epoch 268/1000\n",
      "28/32 [=========================>....] - ETA: 0s - loss: 0.3903 - accuracy: 0.8594\n",
      "Epoch 00268: saving model to model/point_history_classifier\\point_history_classifier.hdf5\n",
      "32/32 [==============================] - 0s 10ms/step - loss: 0.3876 - accuracy: 0.8615 - val_loss: 0.1714 - val_accuracy: 0.9683\n",
      "Epoch 269/1000\n",
      "25/32 [======================>.......] - ETA: 0s - loss: 0.4032 - accuracy: 0.8547\n",
      "Epoch 00269: saving model to model/point_history_classifier\\point_history_classifier.hdf5\n",
      "32/32 [==============================] - 0s 11ms/step - loss: 0.3948 - accuracy: 0.8580 - val_loss: 0.1709 - val_accuracy: 0.9690\n",
      "Epoch 270/1000\n",
      "25/32 [======================>.......] - ETA: 0s - loss: 0.3851 - accuracy: 0.8609\n",
      "Epoch 00270: saving model to model/point_history_classifier\\point_history_classifier.hdf5\n",
      "32/32 [==============================] - 0s 11ms/step - loss: 0.3878 - accuracy: 0.8598 - val_loss: 0.1708 - val_accuracy: 0.9675\n",
      "Epoch 271/1000\n",
      "26/32 [=======================>......] - ETA: 0s - loss: 0.4082 - accuracy: 0.8474\n",
      "Epoch 00271: saving model to model/point_history_classifier\\point_history_classifier.hdf5\n",
      "32/32 [==============================] - 0s 11ms/step - loss: 0.4066 - accuracy: 0.8494 - val_loss: 0.1715 - val_accuracy: 0.9683\n",
      "Epoch 272/1000\n",
      "31/32 [============================>.] - ETA: 0s - loss: 0.3856 - accuracy: 0.8574\n",
      "Epoch 00272: saving model to model/point_history_classifier\\point_history_classifier.hdf5\n",
      "32/32 [==============================] - 0s 11ms/step - loss: 0.3856 - accuracy: 0.8573 - val_loss: 0.1743 - val_accuracy: 0.9698\n",
      "Epoch 273/1000\n",
      "25/32 [======================>.......] - ETA: 0s - loss: 0.3818 - accuracy: 0.8650\n",
      "Epoch 00273: saving model to model/point_history_classifier\\point_history_classifier.hdf5\n",
      "32/32 [==============================] - 0s 11ms/step - loss: 0.3703 - accuracy: 0.8676 - val_loss: 0.1717 - val_accuracy: 0.9675\n",
      "Epoch 274/1000\n",
      "26/32 [=======================>......] - ETA: 0s - loss: 0.4070 - accuracy: 0.8522\n",
      "Epoch 00274: saving model to model/point_history_classifier\\point_history_classifier.hdf5\n",
      "32/32 [==============================] - 0s 11ms/step - loss: 0.3981 - accuracy: 0.8560 - val_loss: 0.1698 - val_accuracy: 0.9690\n",
      "Epoch 275/1000\n",
      "32/32 [==============================] - ETA: 0s - loss: 0.3911 - accuracy: 0.8567\n",
      "Epoch 00275: saving model to model/point_history_classifier\\point_history_classifier.hdf5\n",
      "32/32 [==============================] - 0s 11ms/step - loss: 0.3911 - accuracy: 0.8567 - val_loss: 0.1697 - val_accuracy: 0.9690\n",
      "Epoch 276/1000\n",
      "32/32 [==============================] - ETA: 0s - loss: 0.3829 - accuracy: 0.8628\n",
      "Epoch 00276: saving model to model/point_history_classifier\\point_history_classifier.hdf5\n",
      "32/32 [==============================] - 0s 11ms/step - loss: 0.3829 - accuracy: 0.8628 - val_loss: 0.1688 - val_accuracy: 0.9705\n",
      "Epoch 277/1000\n",
      "26/32 [=======================>......] - ETA: 0s - loss: 0.3661 - accuracy: 0.8681\n",
      "Epoch 00277: saving model to model/point_history_classifier\\point_history_classifier.hdf5\n",
      "32/32 [==============================] - 0s 11ms/step - loss: 0.3750 - accuracy: 0.8666 - val_loss: 0.1685 - val_accuracy: 0.9683\n",
      "Epoch 278/1000\n",
      "31/32 [============================>.] - ETA: 0s - loss: 0.3851 - accuracy: 0.8556\n",
      "Epoch 00278: saving model to model/point_history_classifier\\point_history_classifier.hdf5\n",
      "32/32 [==============================] - 0s 12ms/step - loss: 0.3849 - accuracy: 0.8557 - val_loss: 0.1695 - val_accuracy: 0.9698\n",
      "Epoch 279/1000\n",
      "25/32 [======================>.......] - ETA: 0s - loss: 0.3657 - accuracy: 0.8675\n",
      "Epoch 00279: saving model to model/point_history_classifier\\point_history_classifier.hdf5\n",
      "32/32 [==============================] - 0s 10ms/step - loss: 0.3664 - accuracy: 0.8661 - val_loss: 0.1672 - val_accuracy: 0.9698\n",
      "Epoch 280/1000\n",
      "29/32 [==========================>...] - ETA: 0s - loss: 0.3869 - accuracy: 0.8637\n",
      "Epoch 00280: saving model to model/point_history_classifier\\point_history_classifier.hdf5\n",
      "32/32 [==============================] - 0s 10ms/step - loss: 0.3895 - accuracy: 0.8615 - val_loss: 0.1682 - val_accuracy: 0.9698\n",
      "Epoch 281/1000\n",
      "32/32 [==============================] - ETA: 0s - loss: 0.3819 - accuracy: 0.8593\n",
      "Epoch 00281: saving model to model/point_history_classifier\\point_history_classifier.hdf5\n",
      "32/32 [==============================] - 0s 11ms/step - loss: 0.3819 - accuracy: 0.8593 - val_loss: 0.1682 - val_accuracy: 0.9683\n",
      "Epoch 282/1000\n",
      "25/32 [======================>.......] - ETA: 0s - loss: 0.3578 - accuracy: 0.8775\n",
      "Epoch 00282: saving model to model/point_history_classifier\\point_history_classifier.hdf5\n",
      "32/32 [==============================] - 0s 11ms/step - loss: 0.3634 - accuracy: 0.8721 - val_loss: 0.1655 - val_accuracy: 0.9683\n",
      "Epoch 283/1000\n",
      "25/32 [======================>.......] - ETA: 0s - loss: 0.3916 - accuracy: 0.8609\n",
      "Epoch 00283: saving model to model/point_history_classifier\\point_history_classifier.hdf5\n",
      "32/32 [==============================] - 0s 11ms/step - loss: 0.3908 - accuracy: 0.8638 - val_loss: 0.1647 - val_accuracy: 0.9698\n",
      "Epoch 284/1000\n",
      "26/32 [=======================>......] - ETA: 0s - loss: 0.3779 - accuracy: 0.8645\n",
      "Epoch 00284: saving model to model/point_history_classifier\\point_history_classifier.hdf5\n",
      "32/32 [==============================] - 0s 11ms/step - loss: 0.3798 - accuracy: 0.8643 - val_loss: 0.1665 - val_accuracy: 0.9675\n",
      "Epoch 285/1000\n",
      "28/32 [=========================>....] - ETA: 0s - loss: 0.3760 - accuracy: 0.8658\n",
      "Epoch 00285: saving model to model/point_history_classifier\\point_history_classifier.hdf5\n",
      "32/32 [==============================] - 0s 10ms/step - loss: 0.3767 - accuracy: 0.8643 - val_loss: 0.1663 - val_accuracy: 0.9683\n",
      "Epoch 286/1000\n",
      "25/32 [======================>.......] - ETA: 0s - loss: 0.3719 - accuracy: 0.8591\n",
      "Epoch 00286: saving model to model/point_history_classifier\\point_history_classifier.hdf5\n",
      "32/32 [==============================] - 0s 11ms/step - loss: 0.3740 - accuracy: 0.8562 - val_loss: 0.1688 - val_accuracy: 0.9690\n"
     ]
    },
    {
     "name": "stdout",
     "output_type": "stream",
     "text": [
      "Epoch 287/1000\n",
      "25/32 [======================>.......] - ETA: 0s - loss: 0.3942 - accuracy: 0.8609\n",
      "Epoch 00287: saving model to model/point_history_classifier\\point_history_classifier.hdf5\n",
      "32/32 [==============================] - 0s 11ms/step - loss: 0.3916 - accuracy: 0.8605 - val_loss: 0.1672 - val_accuracy: 0.9675\n",
      "Epoch 288/1000\n",
      "28/32 [=========================>....] - ETA: 0s - loss: 0.3862 - accuracy: 0.8577\n",
      "Epoch 00288: saving model to model/point_history_classifier\\point_history_classifier.hdf5\n",
      "32/32 [==============================] - 0s 10ms/step - loss: 0.3879 - accuracy: 0.8593 - val_loss: 0.1700 - val_accuracy: 0.9690\n",
      "Epoch 289/1000\n",
      "25/32 [======================>.......] - ETA: 0s - loss: 0.3733 - accuracy: 0.8625\n",
      "Epoch 00289: saving model to model/point_history_classifier\\point_history_classifier.hdf5\n",
      "32/32 [==============================] - 0s 11ms/step - loss: 0.3798 - accuracy: 0.8608 - val_loss: 0.1680 - val_accuracy: 0.9698\n",
      "Epoch 290/1000\n",
      "25/32 [======================>.......] - ETA: 0s - loss: 0.3767 - accuracy: 0.8641\n",
      "Epoch 00290: saving model to model/point_history_classifier\\point_history_classifier.hdf5\n",
      "32/32 [==============================] - 0s 11ms/step - loss: 0.3827 - accuracy: 0.8610 - val_loss: 0.1643 - val_accuracy: 0.9683\n",
      "Epoch 291/1000\n",
      "25/32 [======================>.......] - ETA: 0s - loss: 0.3873 - accuracy: 0.8625\n",
      "Epoch 00291: saving model to model/point_history_classifier\\point_history_classifier.hdf5\n",
      "32/32 [==============================] - 0s 10ms/step - loss: 0.3927 - accuracy: 0.8608 - val_loss: 0.1667 - val_accuracy: 0.9675\n",
      "Epoch 292/1000\n",
      "25/32 [======================>.......] - ETA: 0s - loss: 0.3734 - accuracy: 0.8606\n",
      "Epoch 00292: saving model to model/point_history_classifier\\point_history_classifier.hdf5\n",
      "32/32 [==============================] - 0s 11ms/step - loss: 0.3780 - accuracy: 0.8595 - val_loss: 0.1688 - val_accuracy: 0.9653\n",
      "Epoch 293/1000\n",
      "25/32 [======================>.......] - ETA: 0s - loss: 0.3803 - accuracy: 0.8641\n",
      "Epoch 00293: saving model to model/point_history_classifier\\point_history_classifier.hdf5\n",
      "32/32 [==============================] - 0s 11ms/step - loss: 0.3885 - accuracy: 0.8590 - val_loss: 0.1683 - val_accuracy: 0.9660\n",
      "Epoch 294/1000\n",
      "26/32 [=======================>......] - ETA: 0s - loss: 0.3849 - accuracy: 0.8585\n",
      "Epoch 00294: saving model to model/point_history_classifier\\point_history_classifier.hdf5\n",
      "32/32 [==============================] - 0s 10ms/step - loss: 0.3875 - accuracy: 0.8578 - val_loss: 0.1665 - val_accuracy: 0.9683\n",
      "Epoch 295/1000\n",
      "25/32 [======================>.......] - ETA: 0s - loss: 0.3917 - accuracy: 0.8544\n",
      "Epoch 00295: saving model to model/point_history_classifier\\point_history_classifier.hdf5\n",
      "32/32 [==============================] - 0s 11ms/step - loss: 0.3914 - accuracy: 0.8527 - val_loss: 0.1677 - val_accuracy: 0.9675\n",
      "Epoch 296/1000\n",
      "25/32 [======================>.......] - ETA: 0s - loss: 0.3881 - accuracy: 0.8603\n",
      "Epoch 00296: saving model to model/point_history_classifier\\point_history_classifier.hdf5\n",
      "32/32 [==============================] - 0s 11ms/step - loss: 0.3874 - accuracy: 0.8593 - val_loss: 0.1686 - val_accuracy: 0.9690\n",
      "Epoch 297/1000\n",
      "26/32 [=======================>......] - ETA: 0s - loss: 0.3823 - accuracy: 0.8588\n",
      "Epoch 00297: saving model to model/point_history_classifier\\point_history_classifier.hdf5\n",
      "32/32 [==============================] - 0s 11ms/step - loss: 0.3829 - accuracy: 0.8583 - val_loss: 0.1652 - val_accuracy: 0.9675\n",
      "Epoch 298/1000\n",
      "26/32 [=======================>......] - ETA: 0s - loss: 0.3711 - accuracy: 0.8606\n",
      "Epoch 00298: saving model to model/point_history_classifier\\point_history_classifier.hdf5\n",
      "32/32 [==============================] - 0s 11ms/step - loss: 0.3771 - accuracy: 0.8590 - val_loss: 0.1657 - val_accuracy: 0.9675\n",
      "Epoch 299/1000\n",
      "26/32 [=======================>......] - ETA: 0s - loss: 0.3764 - accuracy: 0.8600\n",
      "Epoch 00299: saving model to model/point_history_classifier\\point_history_classifier.hdf5\n",
      "32/32 [==============================] - 0s 11ms/step - loss: 0.3771 - accuracy: 0.8648 - val_loss: 0.1669 - val_accuracy: 0.9698\n",
      "Epoch 300/1000\n",
      "27/32 [========================>.....] - ETA: 0s - loss: 0.3796 - accuracy: 0.8602\n",
      "Epoch 00300: saving model to model/point_history_classifier\\point_history_classifier.hdf5\n",
      "32/32 [==============================] - 0s 11ms/step - loss: 0.3816 - accuracy: 0.8585 - val_loss: 0.1641 - val_accuracy: 0.9675\n",
      "Epoch 301/1000\n",
      "32/32 [==============================] - ETA: 0s - loss: 0.3891 - accuracy: 0.8635\n",
      "Epoch 00301: saving model to model/point_history_classifier\\point_history_classifier.hdf5\n",
      "32/32 [==============================] - 0s 11ms/step - loss: 0.3891 - accuracy: 0.8635 - val_loss: 0.1655 - val_accuracy: 0.9683\n",
      "Epoch 302/1000\n",
      "26/32 [=======================>......] - ETA: 0s - loss: 0.3829 - accuracy: 0.8567\n",
      "Epoch 00302: saving model to model/point_history_classifier\\point_history_classifier.hdf5\n",
      "32/32 [==============================] - 0s 10ms/step - loss: 0.3900 - accuracy: 0.8550 - val_loss: 0.1646 - val_accuracy: 0.9698\n",
      "Epoch 303/1000\n",
      "25/32 [======================>.......] - ETA: 0s - loss: 0.3580 - accuracy: 0.8634\n",
      "Epoch 00303: saving model to model/point_history_classifier\\point_history_classifier.hdf5\n",
      "32/32 [==============================] - 0s 11ms/step - loss: 0.3671 - accuracy: 0.8595 - val_loss: 0.1645 - val_accuracy: 0.9690\n",
      "Epoch 304/1000\n",
      "26/32 [=======================>......] - ETA: 0s - loss: 0.3653 - accuracy: 0.8642\n",
      "Epoch 00304: saving model to model/point_history_classifier\\point_history_classifier.hdf5\n",
      "32/32 [==============================] - 0s 11ms/step - loss: 0.3768 - accuracy: 0.8628 - val_loss: 0.1642 - val_accuracy: 0.9675\n",
      "Epoch 305/1000\n",
      "26/32 [=======================>......] - ETA: 0s - loss: 0.3804 - accuracy: 0.8576\n",
      "Epoch 00305: saving model to model/point_history_classifier\\point_history_classifier.hdf5\n",
      "32/32 [==============================] - 0s 11ms/step - loss: 0.3831 - accuracy: 0.8575 - val_loss: 0.1649 - val_accuracy: 0.9675\n",
      "Epoch 306/1000\n",
      "25/32 [======================>.......] - ETA: 0s - loss: 0.3689 - accuracy: 0.86 - ETA: 0s - loss: 0.3818 - accuracy: 0.8641\n",
      "Epoch 00306: saving model to model/point_history_classifier\\point_history_classifier.hdf5\n",
      "32/32 [==============================] - 0s 11ms/step - loss: 0.3771 - accuracy: 0.8648 - val_loss: 0.1658 - val_accuracy: 0.9705\n",
      "Epoch 307/1000\n",
      "25/32 [======================>.......] - ETA: 0s - loss: 0.4086 - accuracy: 0.8466\n",
      "Epoch 00307: saving model to model/point_history_classifier\\point_history_classifier.hdf5\n",
      "32/32 [==============================] - 0s 11ms/step - loss: 0.4042 - accuracy: 0.8497 - val_loss: 0.1663 - val_accuracy: 0.9690\n",
      "Epoch 308/1000\n",
      "31/32 [============================>.] - ETA: 0s - loss: 0.4046 - accuracy: 0.8606\n",
      "Epoch 00308: saving model to model/point_history_classifier\\point_history_classifier.hdf5\n",
      "32/32 [==============================] - 0s 11ms/step - loss: 0.4043 - accuracy: 0.8608 - val_loss: 0.1667 - val_accuracy: 0.9683\n",
      "Epoch 309/1000\n",
      "25/32 [======================>.......] - ETA: 0s - loss: 0.3712 - accuracy: 0.8716\n",
      "Epoch 00309: saving model to model/point_history_classifier\\point_history_classifier.hdf5\n",
      "32/32 [==============================] - 0s 11ms/step - loss: 0.3728 - accuracy: 0.8683 - val_loss: 0.1658 - val_accuracy: 0.9690\n",
      "Epoch 310/1000\n",
      "25/32 [======================>.......] - ETA: 0s - loss: 0.3840 - accuracy: 0.8587\n",
      "Epoch 00310: saving model to model/point_history_classifier\\point_history_classifier.hdf5\n",
      "32/32 [==============================] - 0s 11ms/step - loss: 0.3871 - accuracy: 0.8580 - val_loss: 0.1650 - val_accuracy: 0.9668\n",
      "Epoch 311/1000\n",
      "32/32 [==============================] - ETA: 0s - loss: 0.3780 - accuracy: 0.8583\n",
      "Epoch 00311: saving model to model/point_history_classifier\\point_history_classifier.hdf5\n",
      "32/32 [==============================] - 0s 11ms/step - loss: 0.3780 - accuracy: 0.8583 - val_loss: 0.1625 - val_accuracy: 0.9690\n",
      "Epoch 312/1000\n",
      "25/32 [======================>.......] - ETA: 0s - loss: 0.3764 - accuracy: 0.8653\n",
      "Epoch 00312: saving model to model/point_history_classifier\\point_history_classifier.hdf5\n",
      "32/32 [==============================] - 0s 11ms/step - loss: 0.3791 - accuracy: 0.8620 - val_loss: 0.1642 - val_accuracy: 0.9675\n"
     ]
    },
    {
     "name": "stdout",
     "output_type": "stream",
     "text": [
      "Epoch 313/1000\n",
      "25/32 [======================>.......] - ETA: 0s - loss: 0.3702 - accuracy: 0.8725\n",
      "Epoch 00313: saving model to model/point_history_classifier\\point_history_classifier.hdf5\n",
      "32/32 [==============================] - 0s 11ms/step - loss: 0.3745 - accuracy: 0.8673 - val_loss: 0.1671 - val_accuracy: 0.9690\n",
      "Epoch 314/1000\n",
      "26/32 [=======================>......] - ETA: 0s - loss: 0.3874 - accuracy: 0.8639\n",
      "Epoch 00314: saving model to model/point_history_classifier\\point_history_classifier.hdf5\n",
      "32/32 [==============================] - 0s 11ms/step - loss: 0.3850 - accuracy: 0.8658 - val_loss: 0.1636 - val_accuracy: 0.9705\n",
      "Epoch 315/1000\n",
      "25/32 [======================>.......] - ETA: 0s - loss: 0.3865 - accuracy: 0.8628\n",
      "Epoch 00315: saving model to model/point_history_classifier\\point_history_classifier.hdf5\n",
      "32/32 [==============================] - 0s 11ms/step - loss: 0.3923 - accuracy: 0.8603 - val_loss: 0.1645 - val_accuracy: 0.9705\n",
      "Epoch 316/1000\n",
      "27/32 [========================>.....] - ETA: 0s - loss: 0.3751 - accuracy: 0.8634\n",
      "Epoch 00316: saving model to model/point_history_classifier\\point_history_classifier.hdf5\n",
      "32/32 [==============================] - 0s 11ms/step - loss: 0.3751 - accuracy: 0.8630 - val_loss: 0.1648 - val_accuracy: 0.9698\n",
      "Epoch 317/1000\n",
      "27/32 [========================>.....] - ETA: 0s - loss: 0.3950 - accuracy: 0.8576\n",
      "Epoch 00317: saving model to model/point_history_classifier\\point_history_classifier.hdf5\n",
      "32/32 [==============================] - 0s 10ms/step - loss: 0.3887 - accuracy: 0.8598 - val_loss: 0.1630 - val_accuracy: 0.9690\n",
      "Epoch 318/1000\n",
      "26/32 [=======================>......] - ETA: 0s - loss: 0.3613 - accuracy: 0.8684\n",
      "Epoch 00318: saving model to model/point_history_classifier\\point_history_classifier.hdf5\n",
      "32/32 [==============================] - 0s 11ms/step - loss: 0.3663 - accuracy: 0.8643 - val_loss: 0.1622 - val_accuracy: 0.9675\n",
      "Epoch 319/1000\n",
      "26/32 [=======================>......] - ETA: 0s - loss: 0.3709 - accuracy: 0.8633\n",
      "Epoch 00319: saving model to model/point_history_classifier\\point_history_classifier.hdf5\n",
      "32/32 [==============================] - 0s 11ms/step - loss: 0.3700 - accuracy: 0.8638 - val_loss: 0.1607 - val_accuracy: 0.9690\n",
      "Epoch 320/1000\n",
      "25/32 [======================>.......] - ETA: 0s - loss: 0.3685 - accuracy: 0.8594\n",
      "Epoch 00320: saving model to model/point_history_classifier\\point_history_classifier.hdf5\n",
      "32/32 [==============================] - 0s 11ms/step - loss: 0.3713 - accuracy: 0.8595 - val_loss: 0.1633 - val_accuracy: 0.9660\n",
      "Epoch 321/1000\n",
      "32/32 [==============================] - ETA: 0s - loss: 0.3802 - accuracy: 0.8613\n",
      "Epoch 00321: saving model to model/point_history_classifier\\point_history_classifier.hdf5\n",
      "32/32 [==============================] - 0s 11ms/step - loss: 0.3802 - accuracy: 0.8613 - val_loss: 0.1630 - val_accuracy: 0.9683\n",
      "Epoch 322/1000\n",
      "25/32 [======================>.......] - ETA: 0s - loss: 0.3504 - accuracy: 0.8694\n",
      "Epoch 00322: saving model to model/point_history_classifier\\point_history_classifier.hdf5\n",
      "32/32 [==============================] - 0s 11ms/step - loss: 0.3655 - accuracy: 0.8640 - val_loss: 0.1601 - val_accuracy: 0.9690\n",
      "Epoch 323/1000\n",
      "32/32 [==============================] - ETA: 0s - loss: 0.3704 - accuracy: 0.8603\n",
      "Epoch 00323: saving model to model/point_history_classifier\\point_history_classifier.hdf5\n",
      "32/32 [==============================] - 0s 11ms/step - loss: 0.3704 - accuracy: 0.8603 - val_loss: 0.1600 - val_accuracy: 0.9675\n",
      "Epoch 324/1000\n",
      "32/32 [==============================] - ETA: 0s - loss: 0.3675 - accuracy: 0.8608\n",
      "Epoch 00324: saving model to model/point_history_classifier\\point_history_classifier.hdf5\n",
      "32/32 [==============================] - 0s 12ms/step - loss: 0.3675 - accuracy: 0.8608 - val_loss: 0.1600 - val_accuracy: 0.9668\n",
      "Epoch 325/1000\n",
      "28/32 [=========================>....] - ETA: 0s - loss: 0.3735 - accuracy: 0.8602\n",
      "Epoch 00325: saving model to model/point_history_classifier\\point_history_classifier.hdf5\n",
      "32/32 [==============================] - 0s 10ms/step - loss: 0.3718 - accuracy: 0.8610 - val_loss: 0.1629 - val_accuracy: 0.9690\n",
      "Epoch 326/1000\n",
      "25/32 [======================>.......] - ETA: 0s - loss: 0.3637 - accuracy: 0.8631\n",
      "Epoch 00326: saving model to model/point_history_classifier\\point_history_classifier.hdf5\n",
      "32/32 [==============================] - 0s 11ms/step - loss: 0.3738 - accuracy: 0.8590 - val_loss: 0.1627 - val_accuracy: 0.9705\n",
      "Epoch 327/1000\n",
      "32/32 [==============================] - ETA: 0s - loss: 0.3681 - accuracy: 0.8691\n",
      "Epoch 00327: saving model to model/point_history_classifier\\point_history_classifier.hdf5\n",
      "32/32 [==============================] - 0s 11ms/step - loss: 0.3681 - accuracy: 0.8691 - val_loss: 0.1621 - val_accuracy: 0.9683\n",
      "Epoch 328/1000\n",
      "25/32 [======================>.......] - ETA: 0s - loss: 0.3702 - accuracy: 0.8628\n",
      "Epoch 00328: saving model to model/point_history_classifier\\point_history_classifier.hdf5\n",
      "32/32 [==============================] - 0s 11ms/step - loss: 0.3737 - accuracy: 0.8613 - val_loss: 0.1605 - val_accuracy: 0.9675\n",
      "Epoch 329/1000\n",
      "28/32 [=========================>....] - ETA: 0s - loss: 0.3924 - accuracy: 0.8602\n",
      "Epoch 00329: saving model to model/point_history_classifier\\point_history_classifier.hdf5\n",
      "32/32 [==============================] - 0s 10ms/step - loss: 0.3923 - accuracy: 0.8600 - val_loss: 0.1633 - val_accuracy: 0.9705\n",
      "Epoch 330/1000\n",
      "25/32 [======================>.......] - ETA: 0s - loss: 0.3870 - accuracy: 0.8509\n",
      "Epoch 00330: saving model to model/point_history_classifier\\point_history_classifier.hdf5\n",
      "32/32 [==============================] - 0s 11ms/step - loss: 0.3840 - accuracy: 0.8540 - val_loss: 0.1613 - val_accuracy: 0.9713\n",
      "Epoch 331/1000\n",
      "25/32 [======================>.......] - ETA: 0s - loss: 0.3729 - accuracy: 0.8641\n",
      "Epoch 00331: saving model to model/point_history_classifier\\point_history_classifier.hdf5\n",
      "32/32 [==============================] - 0s 11ms/step - loss: 0.3792 - accuracy: 0.8610 - val_loss: 0.1590 - val_accuracy: 0.9705\n",
      "Epoch 332/1000\n",
      "25/32 [======================>.......] - ETA: 0s - loss: 0.3809 - accuracy: 0.8634\n",
      "Epoch 00332: saving model to model/point_history_classifier\\point_history_classifier.hdf5\n",
      "32/32 [==============================] - 0s 11ms/step - loss: 0.3784 - accuracy: 0.8666 - val_loss: 0.1589 - val_accuracy: 0.9705\n",
      "Epoch 333/1000\n",
      "30/32 [===========================>..] - ETA: 0s - loss: 0.3621 - accuracy: 0.8690\n",
      "Epoch 00333: saving model to model/point_history_classifier\\point_history_classifier.hdf5\n",
      "32/32 [==============================] - 0s 12ms/step - loss: 0.3607 - accuracy: 0.8701 - val_loss: 0.1596 - val_accuracy: 0.9698\n",
      "Epoch 334/1000\n",
      "26/32 [=======================>......] - ETA: 0s - loss: 0.3794 - accuracy: 0.8576\n",
      "Epoch 00334: saving model to model/point_history_classifier\\point_history_classifier.hdf5\n",
      "32/32 [==============================] - 0s 10ms/step - loss: 0.3713 - accuracy: 0.8605 - val_loss: 0.1589 - val_accuracy: 0.9690\n",
      "Epoch 335/1000\n",
      "28/32 [=========================>....] - ETA: 0s - loss: 0.3656 - accuracy: 0.8650\n",
      "Epoch 00335: saving model to model/point_history_classifier\\point_history_classifier.hdf5\n",
      "32/32 [==============================] - 0s 10ms/step - loss: 0.3624 - accuracy: 0.8663 - val_loss: 0.1588 - val_accuracy: 0.9698\n",
      "Epoch 336/1000\n",
      "25/32 [======================>.......] - ETA: 0s - loss: 0.3751 - accuracy: 0.8609\n",
      "Epoch 00336: saving model to model/point_history_classifier\\point_history_classifier.hdf5\n",
      "32/32 [==============================] - 0s 11ms/step - loss: 0.3773 - accuracy: 0.8600 - val_loss: 0.1557 - val_accuracy: 0.9683\n",
      "Epoch 337/1000\n",
      "30/32 [===========================>..] - ETA: 0s - loss: 0.3691 - accuracy: 0.8641\n",
      "Epoch 00337: saving model to model/point_history_classifier\\point_history_classifier.hdf5\n",
      "32/32 [==============================] - 0s 12ms/step - loss: 0.3670 - accuracy: 0.8653 - val_loss: 0.1569 - val_accuracy: 0.9713\n",
      "Epoch 338/1000\n",
      "28/32 [=========================>....] - ETA: 0s - loss: 0.3592 - accuracy: 0.8597\n",
      "Epoch 00338: saving model to model/point_history_classifier\\point_history_classifier.hdf5\n",
      "32/32 [==============================] - 0s 11ms/step - loss: 0.3578 - accuracy: 0.8598 - val_loss: 0.1565 - val_accuracy: 0.9713\n"
     ]
    },
    {
     "name": "stdout",
     "output_type": "stream",
     "text": [
      "Epoch 339/1000\n",
      "32/32 [==============================] - ETA: 0s - loss: 0.3769 - accuracy: 0.8633\n",
      "Epoch 00339: saving model to model/point_history_classifier\\point_history_classifier.hdf5\n",
      "32/32 [==============================] - 0s 11ms/step - loss: 0.3769 - accuracy: 0.8633 - val_loss: 0.1553 - val_accuracy: 0.9683\n",
      "Epoch 340/1000\n",
      "25/32 [======================>.......] - ETA: 0s - loss: 0.3625 - accuracy: 0.8669\n",
      "Epoch 00340: saving model to model/point_history_classifier\\point_history_classifier.hdf5\n",
      "32/32 [==============================] - 0s 11ms/step - loss: 0.3648 - accuracy: 0.8653 - val_loss: 0.1565 - val_accuracy: 0.9698\n",
      "Epoch 341/1000\n",
      "26/32 [=======================>......] - ETA: 0s - loss: 0.3605 - accuracy: 0.8669\n",
      "Epoch 00341: saving model to model/point_history_classifier\\point_history_classifier.hdf5\n",
      "32/32 [==============================] - 0s 11ms/step - loss: 0.3588 - accuracy: 0.8688 - val_loss: 0.1580 - val_accuracy: 0.9675\n",
      "Epoch 342/1000\n",
      "25/32 [======================>.......] - ETA: 0s - loss: 0.3730 - accuracy: 0.8650\n",
      "Epoch 00342: saving model to model/point_history_classifier\\point_history_classifier.hdf5\n",
      "32/32 [==============================] - 0s 11ms/step - loss: 0.3672 - accuracy: 0.8686 - val_loss: 0.1579 - val_accuracy: 0.9675\n",
      "Epoch 343/1000\n",
      "31/32 [============================>.] - ETA: 0s - loss: 0.3742 - accuracy: 0.8616\n",
      "Epoch 00343: saving model to model/point_history_classifier\\point_history_classifier.hdf5\n",
      "32/32 [==============================] - 0s 8ms/step - loss: 0.3748 - accuracy: 0.8615 - val_loss: 0.1585 - val_accuracy: 0.9660\n",
      "Epoch 344/1000\n",
      "25/32 [======================>.......] - ETA: 0s - loss: 0.3826 - accuracy: 0.8641\n",
      "Epoch 00344: saving model to model/point_history_classifier\\point_history_classifier.hdf5\n",
      "32/32 [==============================] - 0s 11ms/step - loss: 0.3755 - accuracy: 0.8668 - val_loss: 0.1620 - val_accuracy: 0.9675\n",
      "Epoch 345/1000\n",
      "31/32 [============================>.] - ETA: 0s - loss: 0.3707 - accuracy: 0.8644\n",
      "Epoch 00345: saving model to model/point_history_classifier\\point_history_classifier.hdf5\n",
      "32/32 [==============================] - 0s 12ms/step - loss: 0.3706 - accuracy: 0.8646 - val_loss: 0.1571 - val_accuracy: 0.9698\n",
      "Epoch 346/1000\n",
      "25/32 [======================>.......] - ETA: 0s - loss: 0.3740 - accuracy: 0.8537\n",
      "Epoch 00346: saving model to model/point_history_classifier\\point_history_classifier.hdf5\n",
      "32/32 [==============================] - 0s 11ms/step - loss: 0.3666 - accuracy: 0.8578 - val_loss: 0.1587 - val_accuracy: 0.9683\n",
      "Epoch 347/1000\n",
      "32/32 [==============================] - ETA: 0s - loss: 0.3786 - accuracy: 0.8583\n",
      "Epoch 00347: saving model to model/point_history_classifier\\point_history_classifier.hdf5\n",
      "32/32 [==============================] - 0s 11ms/step - loss: 0.3786 - accuracy: 0.8583 - val_loss: 0.1588 - val_accuracy: 0.9698\n",
      "Epoch 348/1000\n",
      "25/32 [======================>.......] - ETA: 0s - loss: 0.3673 - accuracy: 0.8694\n",
      "Epoch 00348: saving model to model/point_history_classifier\\point_history_classifier.hdf5\n",
      "32/32 [==============================] - 0s 11ms/step - loss: 0.3631 - accuracy: 0.8696 - val_loss: 0.1585 - val_accuracy: 0.9690\n",
      "Epoch 349/1000\n",
      "32/32 [==============================] - ETA: 0s - loss: 0.3887 - accuracy: 0.8557\n",
      "Epoch 00349: saving model to model/point_history_classifier\\point_history_classifier.hdf5\n",
      "32/32 [==============================] - 0s 11ms/step - loss: 0.3887 - accuracy: 0.8557 - val_loss: 0.1573 - val_accuracy: 0.9690\n",
      "Epoch 350/1000\n",
      "32/32 [==============================] - ETA: 0s - loss: 0.3770 - accuracy: 0.8575\n",
      "Epoch 00350: saving model to model/point_history_classifier\\point_history_classifier.hdf5\n",
      "32/32 [==============================] - 0s 11ms/step - loss: 0.3770 - accuracy: 0.8575 - val_loss: 0.1573 - val_accuracy: 0.9683\n",
      "Epoch 351/1000\n",
      "25/32 [======================>.......] - ETA: 0s - loss: 0.3831 - accuracy: 0.8603\n",
      "Epoch 00351: saving model to model/point_history_classifier\\point_history_classifier.hdf5\n",
      "32/32 [==============================] - 0s 11ms/step - loss: 0.3783 - accuracy: 0.8610 - val_loss: 0.1587 - val_accuracy: 0.9683\n",
      "Epoch 352/1000\n",
      "30/32 [===========================>..] - ETA: 0s - loss: 0.3559 - accuracy: 0.8708\n",
      "Epoch 00352: saving model to model/point_history_classifier\\point_history_classifier.hdf5\n",
      "32/32 [==============================] - 0s 12ms/step - loss: 0.3571 - accuracy: 0.8698 - val_loss: 0.1571 - val_accuracy: 0.9690\n",
      "Epoch 353/1000\n",
      "30/32 [===========================>..] - ETA: 0s - loss: 0.3684 - accuracy: 0.8641\n",
      "Epoch 00353: saving model to model/point_history_classifier\\point_history_classifier.hdf5\n",
      "32/32 [==============================] - 0s 11ms/step - loss: 0.3686 - accuracy: 0.8635 - val_loss: 0.1579 - val_accuracy: 0.9690\n",
      "Epoch 354/1000\n",
      "28/32 [=========================>....] - ETA: 0s - loss: 0.3689 - accuracy: 0.8652\n",
      "Epoch 00354: saving model to model/point_history_classifier\\point_history_classifier.hdf5\n",
      "32/32 [==============================] - 0s 10ms/step - loss: 0.3731 - accuracy: 0.8633 - val_loss: 0.1575 - val_accuracy: 0.9705\n",
      "Epoch 355/1000\n",
      "25/32 [======================>.......] - ETA: 0s - loss: 0.3796 - accuracy: 0.8584\n",
      "Epoch 00355: saving model to model/point_history_classifier\\point_history_classifier.hdf5\n",
      "32/32 [==============================] - 0s 11ms/step - loss: 0.3829 - accuracy: 0.8588 - val_loss: 0.1584 - val_accuracy: 0.9675\n",
      "Epoch 356/1000\n",
      "25/32 [======================>.......] - ETA: 0s - loss: 0.3776 - accuracy: 0.8591\n",
      "Epoch 00356: saving model to model/point_history_classifier\\point_history_classifier.hdf5\n",
      "32/32 [==============================] - 0s 12ms/step - loss: 0.3737 - accuracy: 0.8623 - val_loss: 0.1568 - val_accuracy: 0.9675\n",
      "Epoch 357/1000\n",
      "25/32 [======================>.......] - ETA: 0s - loss: 0.3539 - accuracy: 0.8697\n",
      "Epoch 00357: saving model to model/point_history_classifier\\point_history_classifier.hdf5\n",
      "32/32 [==============================] - 0s 10ms/step - loss: 0.3696 - accuracy: 0.8635 - val_loss: 0.1571 - val_accuracy: 0.9683\n",
      "Epoch 358/1000\n",
      "32/32 [==============================] - ETA: 0s - loss: 0.3729 - accuracy: 0.8671\n",
      "Epoch 00358: saving model to model/point_history_classifier\\point_history_classifier.hdf5\n",
      "32/32 [==============================] - 0s 11ms/step - loss: 0.3729 - accuracy: 0.8671 - val_loss: 0.1568 - val_accuracy: 0.9675\n",
      "Epoch 359/1000\n",
      "25/32 [======================>.......] - ETA: 0s - loss: 0.3893 - accuracy: 0.8666\n",
      "Epoch 00359: saving model to model/point_history_classifier\\point_history_classifier.hdf5\n",
      "32/32 [==============================] - 0s 11ms/step - loss: 0.3871 - accuracy: 0.8666 - val_loss: 0.1558 - val_accuracy: 0.9683\n",
      "Epoch 00359: early stopping\n"
     ]
    },
    {
     "data": {
      "text/plain": [
       "<tensorflow.python.keras.callbacks.History at 0x1e1def6c460>"
      ]
     },
     "execution_count": 12,
     "metadata": {},
     "output_type": "execute_result"
    }
   ],
   "source": [
    "model.fit(\n",
    "    X_train,\n",
    "    y_train,\n",
    "    epochs=1000,\n",
    "    batch_size=128,\n",
    "    validation_data=(X_test, y_test),\n",
    "    callbacks=[cp_callback, es_callback]\n",
    ")"
   ]
  },
  {
   "cell_type": "code",
   "execution_count": 13,
   "metadata": {},
   "outputs": [
    {
     "name": "stderr",
     "output_type": "stream",
     "text": [
      "WARNING:absl:Compiled the loaded model, but the compiled metrics have yet to be built. `model.compile_metrics` will be empty until you train or evaluate the model.\n"
     ]
    }
   ],
   "source": [
    "# 保存したモデルのロード\n",
    "model = tf.keras.models.load_model(model_save_path)"
   ]
  },
  {
   "cell_type": "code",
   "execution_count": 14,
   "metadata": {},
   "outputs": [
    {
     "name": "stdout",
     "output_type": "stream",
     "text": [
      "\u001b[1m1/1\u001b[0m \u001b[32m━━━━━━━━━━━━━━━━━━━━\u001b[0m\u001b[37m\u001b[0m \u001b[1m0s\u001b[0m 110ms/step\n",
      "[0.92366886 0.02140111 0.01757312 0.03735692]\n",
      "0\n"
     ]
    }
   ],
   "source": [
    "# 推論テスト\n",
    "predict_result = model.predict(np.array([X_test[0]]))\n",
    "print(np.squeeze(predict_result))\n",
    "print(np.argmax(np.squeeze(predict_result)))"
   ]
  },
  {
   "cell_type": "markdown",
   "metadata": {},
   "source": [
    "# 混同行列"
   ]
  },
  {
   "cell_type": "code",
   "execution_count": 15,
   "metadata": {},
   "outputs": [
    {
     "ename": "ModuleNotFoundError",
     "evalue": "No module named 'pandas'",
     "output_type": "error",
     "traceback": [
      "\u001b[1;31m---------------------------------------------------------------------------\u001b[0m",
      "\u001b[1;31mModuleNotFoundError\u001b[0m                       Traceback (most recent call last)",
      "Cell \u001b[1;32mIn[15], line 1\u001b[0m\n\u001b[1;32m----> 1\u001b[0m \u001b[38;5;28;01mimport\u001b[39;00m\u001b[38;5;250m \u001b[39m\u001b[38;5;21;01mpandas\u001b[39;00m\u001b[38;5;250m \u001b[39m\u001b[38;5;28;01mas\u001b[39;00m\u001b[38;5;250m \u001b[39m\u001b[38;5;21;01mpd\u001b[39;00m\n\u001b[0;32m      2\u001b[0m \u001b[38;5;28;01mimport\u001b[39;00m\u001b[38;5;250m \u001b[39m\u001b[38;5;21;01mseaborn\u001b[39;00m\u001b[38;5;250m \u001b[39m\u001b[38;5;28;01mas\u001b[39;00m\u001b[38;5;250m \u001b[39m\u001b[38;5;21;01msns\u001b[39;00m\n\u001b[0;32m      3\u001b[0m \u001b[38;5;28;01mimport\u001b[39;00m\u001b[38;5;250m \u001b[39m\u001b[38;5;21;01mmatplotlib\u001b[39;00m\u001b[38;5;21;01m.\u001b[39;00m\u001b[38;5;21;01mpyplot\u001b[39;00m\u001b[38;5;250m \u001b[39m\u001b[38;5;28;01mas\u001b[39;00m\u001b[38;5;250m \u001b[39m\u001b[38;5;21;01mplt\u001b[39;00m\n",
      "\u001b[1;31mModuleNotFoundError\u001b[0m: No module named 'pandas'"
     ]
    }
   ],
   "source": [
    "import pandas as pd\n",
    "import seaborn as sns\n",
    "import matplotlib.pyplot as plt\n",
    "from sklearn.metrics import confusion_matrix, classification_report\n",
    "\n",
    "def print_confusion_matrix(y_true, y_pred, report=True):\n",
    "    labels = sorted(list(set(y_true)))\n",
    "    cmx_data = confusion_matrix(y_true, y_pred, labels=labels)\n",
    "    \n",
    "    df_cmx = pd.DataFrame(cmx_data, index=labels, columns=labels)\n",
    " \n",
    "    fig, ax = plt.subplots(figsize=(7, 6))\n",
    "    sns.heatmap(df_cmx, annot=True, fmt='g' ,square=False)\n",
    "    ax.set_ylim(len(set(y_true)), 0)\n",
    "    plt.show()\n",
    "    \n",
    "    if report:\n",
    "        print('Classification Report')\n",
    "        print(classification_report(y_test, y_pred))\n",
    "\n",
    "Y_pred = model.predict(X_test)\n",
    "y_pred = np.argmax(Y_pred, axis=1)\n",
    "\n",
    "print_confusion_matrix(y_test, y_pred)"
   ]
  },
  {
   "cell_type": "markdown",
   "metadata": {},
   "source": [
    "# Tensorflow-Lite用のモデルへ変換"
   ]
  },
  {
   "cell_type": "code",
   "execution_count": null,
   "metadata": {},
   "outputs": [],
   "source": [
    "# 推論専用のモデルとして保存\n",
    "model.save(model_save_path, include_optimizer=False)\n",
    "model = tf.keras.models.load_model(model_save_path)"
   ]
  },
  {
   "cell_type": "code",
   "execution_count": null,
   "metadata": {},
   "outputs": [],
   "source": [
    "tflite_save_path = 'model/point_history_classifier/point_history_classifier.tflite'"
   ]
  },
  {
   "cell_type": "code",
   "execution_count": null,
   "metadata": {},
   "outputs": [],
   "source": [
    "# モデルを変換(量子化\n",
    "converter = tf.lite.TFLiteConverter.from_keras_model(model)  # converter = tf.lite.TFLiteConverter.from_saved_model(saved_model_path)\n",
    "converter.optimizations = [tf.lite.Optimize.DEFAULT]\n",
    "tflite_quantized_model = converter.convert()\n",
    "\n",
    "open(tflite_save_path, 'wb').write(tflite_quantized_model)"
   ]
  },
  {
   "cell_type": "markdown",
   "metadata": {},
   "source": [
    "# 推論テスト"
   ]
  },
  {
   "cell_type": "code",
   "execution_count": null,
   "metadata": {},
   "outputs": [],
   "source": [
    "interpreter = tf.lite.Interpreter(model_path=tflite_save_path)\n",
    "interpreter.allocate_tensors()"
   ]
  },
  {
   "cell_type": "code",
   "execution_count": null,
   "metadata": {},
   "outputs": [],
   "source": [
    "# 入出力テンソルを取得\n",
    "input_details = interpreter.get_input_details()\n",
    "output_details = interpreter.get_output_details()\n",
    "print(input_details)"
   ]
  },
  {
   "cell_type": "code",
   "execution_count": null,
   "metadata": {},
   "outputs": [],
   "source": [
    "interpreter.set_tensor(input_details[0]['index'], np.array([X_test[0]]))"
   ]
  },
  {
   "cell_type": "code",
   "execution_count": null,
   "metadata": {},
   "outputs": [],
   "source": [
    "%%time\n",
    "# 推論実施\n",
    "interpreter.invoke()\n",
    "tflite_results = interpreter.get_tensor(output_details[0]['index'])"
   ]
  },
  {
   "cell_type": "code",
   "execution_count": null,
   "metadata": {},
   "outputs": [],
   "source": [
    "print(np.squeeze(tflite_results))\n",
    "print(np.argmax(np.squeeze(tflite_results)))"
   ]
  }
 ],
 "metadata": {
  "kernelspec": {
   "display_name": "Python 3 (ipykernel)",
   "language": "python",
   "name": "python3"
  },
  "language_info": {
   "codemirror_mode": {
    "name": "ipython",
    "version": 3
   },
   "file_extension": ".py",
   "mimetype": "text/x-python",
   "name": "python",
   "nbconvert_exporter": "python",
   "pygments_lexer": "ipython3",
   "version": "3.10.1"
  }
 },
 "nbformat": 4,
 "nbformat_minor": 4
}
